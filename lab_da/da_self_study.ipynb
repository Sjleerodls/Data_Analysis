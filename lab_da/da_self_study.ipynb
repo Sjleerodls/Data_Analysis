{
  "nbformat": 4,
  "nbformat_minor": 0,
  "metadata": {
    "colab": {
      "provenance": [],
      "toc_visible": true,
      "authorship_tag": "ABX9TyMAi1uZqu8E6EBrD461+d6C",
      "include_colab_link": true
    },
    "kernelspec": {
      "name": "python3",
      "display_name": "Python 3"
    },
    "language_info": {
      "name": "python"
    }
  },
  "cells": [
    {
      "cell_type": "markdown",
      "metadata": {
        "id": "view-in-github",
        "colab_type": "text"
      },
      "source": [
        "<a href=\"https://colab.research.google.com/github/Sjleerodls/Data_Analysis/blob/main/lab_da/da_self_study.ipynb\" target=\"_parent\"><img src=\"https://colab.research.google.com/assets/colab-badge.svg\" alt=\"Open In Colab\"/></a>"
      ]
    },
    {
      "cell_type": "markdown",
      "source": [
        "# np.newaxis, np.expand_dims\n",
        "\n",
        "* 1차원 배열을 2차원 배열로 변환하는 방법(배열에 새로운 축을 추가하는 방법)\n",
        "* np.newaxis를 한 번 사용할 때마다 한 차원씩 차원이 증가함.\n",
        "    * 1차원 배열 -> 2차원 배열\n",
        "    * 2차원 배열 -> 3차원 배열"
      ],
      "metadata": {
        "id": "uHbDDVtfd0S8"
      }
    },
    {
      "cell_type": "markdown",
      "source": [
        "## np.newaxis 사용"
      ],
      "metadata": {
        "id": "m9l13xnqfMHq"
      }
    },
    {
      "cell_type": "code",
      "execution_count": 6,
      "metadata": {
        "colab": {
          "base_uri": "https://localhost:8080/"
        },
        "id": "GbDdFptdbJa0",
        "outputId": "3090681d-d420-4827-f924-9067321c466d"
      },
      "outputs": [
        {
          "output_type": "stream",
          "name": "stdout",
          "text": [
            "(6,)\n"
          ]
        },
        {
          "output_type": "execute_result",
          "data": {
            "text/plain": [
              "array([1, 2, 3, 4, 5, 6])"
            ]
          },
          "metadata": {},
          "execution_count": 6
        }
      ],
      "source": [
        "import numpy as np\n",
        "\n",
        "a = np.array([1, 2, 3, 4, 5, 6])\n",
        "print(a.shape)\n",
        "a"
      ]
    },
    {
      "cell_type": "code",
      "source": [
        "a2 = a[np.newaxis, :]\n",
        "print(a2.shape)\n",
        "a2"
      ],
      "metadata": {
        "colab": {
          "base_uri": "https://localhost:8080/"
        },
        "id": "VvCl58FneRAU",
        "outputId": "5ef3fc60-b9e9-43d1-ac18-e0dc521968b7"
      },
      "execution_count": 5,
      "outputs": [
        {
          "output_type": "stream",
          "name": "stdout",
          "text": [
            "(1, 6)\n"
          ]
        },
        {
          "output_type": "execute_result",
          "data": {
            "text/plain": [
              "array([[1, 2, 3, 4, 5, 6]])"
            ]
          },
          "metadata": {},
          "execution_count": 5
        }
      ]
    },
    {
      "cell_type": "code",
      "source": [
        "# 첫 번째 차원에 축을 삽입해 1차원 배열을 행 벡터로 변환\n",
        "row_vector = a[np.newaxis, :]\n",
        "print(row_vector.shape)\n",
        "row_vector"
      ],
      "metadata": {
        "colab": {
          "base_uri": "https://localhost:8080/"
        },
        "id": "TS-eZ1FPeYP8",
        "outputId": "6a1f865e-15fc-4f74-d94a-7810180d5f82"
      },
      "execution_count": 12,
      "outputs": [
        {
          "output_type": "stream",
          "name": "stdout",
          "text": [
            "(1, 6)\n"
          ]
        },
        {
          "output_type": "execute_result",
          "data": {
            "text/plain": [
              "array([[1, 2, 3, 4, 5, 6]])"
            ]
          },
          "metadata": {},
          "execution_count": 12
        }
      ]
    },
    {
      "cell_type": "code",
      "source": [
        "# 열 벡터의 경우 두 번째 차원을 따라 축을 삽입\n",
        "col_vector = a[:, np.newaxis]\n",
        "print(col_vector.shape)\n",
        "col_vector"
      ],
      "metadata": {
        "colab": {
          "base_uri": "https://localhost:8080/"
        },
        "id": "UpZyek8NesTU",
        "outputId": "9bbe4110-3cad-462f-de62-a55f44da760a"
      },
      "execution_count": 11,
      "outputs": [
        {
          "output_type": "stream",
          "name": "stdout",
          "text": [
            "(6, 1)\n"
          ]
        },
        {
          "output_type": "execute_result",
          "data": {
            "text/plain": [
              "array([[1],\n",
              "       [2],\n",
              "       [3],\n",
              "       [4],\n",
              "       [5],\n",
              "       [6]])"
            ]
          },
          "metadata": {},
          "execution_count": 11
        }
      ]
    },
    {
      "cell_type": "markdown",
      "source": [
        "## np.expand_dims 사용"
      ],
      "metadata": {
        "id": "c0zZxtKxfScK"
      }
    },
    {
      "cell_type": "code",
      "source": [
        "a = np.array([1, 2, 3, 4, 5, 6])\n",
        "a.shape"
      ],
      "metadata": {
        "colab": {
          "base_uri": "https://localhost:8080/"
        },
        "id": "SlJ7HeyofVyW",
        "outputId": "675172c8-0da4-4884-e9a4-6d8726d07257"
      },
      "execution_count": 13,
      "outputs": [
        {
          "output_type": "execute_result",
          "data": {
            "text/plain": [
              "(6,)"
            ]
          },
          "metadata": {},
          "execution_count": 13
        }
      ]
    },
    {
      "cell_type": "code",
      "source": [
        "# 인덱스 위치 1에 축을 추가\n",
        "b = np.expand_dims(a, axis=1)\n",
        "b.shape"
      ],
      "metadata": {
        "colab": {
          "base_uri": "https://localhost:8080/"
        },
        "id": "A2i36P8UfviT",
        "outputId": "2b201156-6857-48a2-efe6-3a2e9936bbf7"
      },
      "execution_count": 14,
      "outputs": [
        {
          "output_type": "execute_result",
          "data": {
            "text/plain": [
              "(6, 1)"
            ]
          },
          "metadata": {},
          "execution_count": 14
        }
      ]
    },
    {
      "cell_type": "code",
      "source": [
        "# 인덱스 위치 0에 축을 추가\n",
        "c = np.expand_dims(a, axis=0)\n",
        "c.shape"
      ],
      "metadata": {
        "colab": {
          "base_uri": "https://localhost:8080/"
        },
        "id": "0HhGh5Otfzd7",
        "outputId": "3efc3aa5-41f3-401b-9428-f67ee23062dd"
      },
      "execution_count": 15,
      "outputs": [
        {
          "output_type": "execute_result",
          "data": {
            "text/plain": [
              "(1, 6)"
            ]
          },
          "metadata": {},
          "execution_count": 15
        }
      ]
    },
    {
      "cell_type": "markdown",
      "source": [
        "# slicing and indexing, np.vstack(), np.hstack(), np.hsplit(), .view(), copy()"
      ],
      "metadata": {
        "id": "u4QYOuuenPZ1"
      }
    },
    {
      "cell_type": "markdown",
      "source": [
        "## np.vstack()"
      ],
      "metadata": {
        "id": "jWYSGnu1n3e8"
      }
    },
    {
      "cell_type": "code",
      "source": [
        "# 두 개의 기존 배열을 수직으로 쌓기\n",
        "a1 = np.array([[1, 1],\n",
        "               [2, 2]])\n",
        "\n",
        "a2 = np.array([[3, 3],\n",
        "              [4, 4]])\n",
        "\n",
        "np.vstack((a1, a2))"
      ],
      "metadata": {
        "colab": {
          "base_uri": "https://localhost:8080/"
        },
        "id": "l2owfbVsnXY9",
        "outputId": "644ee92a-8607-47df-996d-97fe653efe11"
      },
      "execution_count": 17,
      "outputs": [
        {
          "output_type": "execute_result",
          "data": {
            "text/plain": [
              "array([[1, 1],\n",
              "       [2, 2],\n",
              "       [3, 3],\n",
              "       [4, 4]])"
            ]
          },
          "metadata": {},
          "execution_count": 17
        }
      ]
    },
    {
      "cell_type": "markdown",
      "source": [
        "## np.hstack()"
      ],
      "metadata": {
        "id": "bdcZRZhgn5uN"
      }
    },
    {
      "cell_type": "code",
      "source": [
        "# 수평으로 쌓기\n",
        "np.hstack((a1, a2))"
      ],
      "metadata": {
        "colab": {
          "base_uri": "https://localhost:8080/"
        },
        "id": "BqpVVRd3nsN1",
        "outputId": "9cbe10b5-49c7-4b7a-fd65-a938f907b64d"
      },
      "execution_count": 18,
      "outputs": [
        {
          "output_type": "execute_result",
          "data": {
            "text/plain": [
              "array([[1, 1, 3, 3],\n",
              "       [2, 2, 4, 4]])"
            ]
          },
          "metadata": {},
          "execution_count": 18
        }
      ]
    },
    {
      "cell_type": "markdown",
      "source": [
        "## hsplit()\n",
        "\n",
        "* 배열을 여러개의 작은 배열로 나눌 수 있음.\n",
        "* hsplit()을 사용할 때 배열의 크기가 일치해야 사용이 가능함."
      ],
      "metadata": {
        "id": "Jda-oD1vn7ue"
      }
    },
    {
      "cell_type": "code",
      "source": [
        "x = np.arange(1, 25).reshape(2, 12)\n",
        "x"
      ],
      "metadata": {
        "colab": {
          "base_uri": "https://localhost:8080/"
        },
        "id": "SH8jPF4ln9f_",
        "outputId": "c94639db-08ea-49fb-a249-32a30dab400e"
      },
      "execution_count": 20,
      "outputs": [
        {
          "output_type": "execute_result",
          "data": {
            "text/plain": [
              "array([[ 1,  2,  3,  4,  5,  6,  7,  8,  9, 10, 11, 12],\n",
              "       [13, 14, 15, 16, 17, 18, 19, 20, 21, 22, 23, 24]])"
            ]
          },
          "metadata": {},
          "execution_count": 20
        }
      ]
    },
    {
      "cell_type": "code",
      "source": [
        "np.hsplit(x, 6)"
      ],
      "metadata": {
        "colab": {
          "base_uri": "https://localhost:8080/"
        },
        "id": "MxAE298roDRf",
        "outputId": "58758fc2-5019-4a7f-d796-516976fc95f2"
      },
      "execution_count": 24,
      "outputs": [
        {
          "output_type": "execute_result",
          "data": {
            "text/plain": [
              "[array([[ 1,  2],\n",
              "        [13, 14]]),\n",
              " array([[ 3,  4],\n",
              "        [15, 16]]),\n",
              " array([[ 5,  6],\n",
              "        [17, 18]]),\n",
              " array([[ 7,  8],\n",
              "        [19, 20]]),\n",
              " array([[ 9, 10],\n",
              "        [21, 22]]),\n",
              " array([[11, 12],\n",
              "        [23, 24]])]"
            ]
          },
          "metadata": {},
          "execution_count": 24
        }
      ]
    },
    {
      "cell_type": "code",
      "source": [
        "np.hsplit(x, (3,4)) # 세 번째와 네 번쨰 열 다음에 배열을 분할"
      ],
      "metadata": {
        "colab": {
          "base_uri": "https://localhost:8080/"
        },
        "id": "t-zQaOAfofX2",
        "outputId": "502eea13-fd0d-4b41-e633-d8bf037b53f6"
      },
      "execution_count": 25,
      "outputs": [
        {
          "output_type": "execute_result",
          "data": {
            "text/plain": [
              "[array([[ 1,  2,  3],\n",
              "        [13, 14, 15]]),\n",
              " array([[ 4],\n",
              "        [16]]),\n",
              " array([[ 5,  6,  7,  8,  9, 10, 11, 12],\n",
              "        [17, 18, 19, 20, 21, 22, 23, 24]])]"
            ]
          },
          "metadata": {},
          "execution_count": 25
        }
      ]
    }
  ]
}