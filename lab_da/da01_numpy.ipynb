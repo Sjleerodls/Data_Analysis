{
  "nbformat": 4,
  "nbformat_minor": 0,
  "metadata": {
    "colab": {
      "provenance": [],
      "toc_visible": true,
      "authorship_tag": "ABX9TyOXibVZi5wN7/5Lf/4hDMq5",
      "include_colab_link": true
    },
    "kernelspec": {
      "name": "python3",
      "display_name": "Python 3"
    },
    "language_info": {
      "name": "python"
    }
  },
  "cells": [
    {
      "cell_type": "markdown",
      "metadata": {
        "id": "view-in-github",
        "colab_type": "text"
      },
      "source": [
        "<a href=\"https://colab.research.google.com/github/Sjleerodls/Data_Analysis/blob/main/lab_da/da01_numpy.ipynb\" target=\"_parent\"><img src=\"https://colab.research.google.com/assets/colab-badge.svg\" alt=\"Open In Colab\"/></a>"
      ]
    },
    {
      "cell_type": "markdown",
      "source": [
        "# 데이터 분석 패키지\n",
        "\n",
        "* NumPy : 다차원 배열을 쉽게 사용할 수 있는 패키지. 머신 러닝에서 중요하게 사용됨.\n",
        "* pandas : 데이터프레임(DataFrame)과 시리즈(Series)를 기본으로 사용해서 데이터 분석에 필요한 기능들을 가지고 있는 패키지.\n",
        "* matplotlib, seaborn : 데이터 시각화 패키지. 그래프.\n",
        "* scikit-learn : 머신 러닝에서 사용하는 패키지.\n",
        "* keras : 딥러닝에서 사용하는 패키지."
      ],
      "metadata": {
        "id": "LlqaPr7spEMB"
      }
    },
    {
      "cell_type": "code",
      "execution_count": 1,
      "metadata": {
        "id": "Abt7GjfEo5RY"
      },
      "outputs": [],
      "source": [
        "import numpy as np\n",
        "import pandas as pd\n",
        "import matplotlib\n",
        "import seaborn\n",
        "import sklearn  # scikit-learn\n",
        "import keras"
      ]
    },
    {
      "cell_type": "code",
      "source": [
        "print('numpy version =', np.__version__)\n",
        "print('pandas version =', pd.__version__)\n",
        "print('matplotlib version =', matplotlib.__version__)\n",
        "print('seaborn version =', seaborn.__version__)\n",
        "print('scikit-learn version =', sklearn.__version__)\n",
        "print('keras version =', keras.__version__)"
      ],
      "metadata": {
        "colab": {
          "base_uri": "https://localhost:8080/"
        },
        "id": "aoR424torFIV",
        "outputId": "1a4cef74-3230-4acf-dcc5-839180b062c1"
      },
      "execution_count": 4,
      "outputs": [
        {
          "output_type": "stream",
          "name": "stdout",
          "text": [
            "numpy version = 2.0.2\n",
            "pandas version = 2.2.2\n",
            "matplotlib version = 3.10.0\n",
            "seaborn version = 0.13.2\n",
            "scikit-learn version = 1.6.1\n",
            "keras version = 3.8.0\n"
          ]
        }
      ]
    },
    {
      "cell_type": "markdown",
      "source": [
        "# Python List\n",
        "\n",
        "* 여러개의 값들을 저장할 수 있는 데이터 타입\n",
        "* 인덱스를 기반으로 값들을 저장하는 데이터 타입\n",
        "    * indexing : 인덱스를 사용해서 원하는 위치의 값을 참조. (예) number[0]\n",
        "    * slicing : [start,end) 인덱스 범위의 부분 리스트를 만듦. (예) number[0:5]\n",
        "* 산술 연산\n",
        "    * `list + list` : 두 개의 리스트를 이어붙여서 하나의 리스트로 만듦. concatenate.\n",
        "    * `list * int, int * list` : 리스트의 원소들을 정수만큼 복사해서 추가. replicate."
      ],
      "metadata": {
        "id": "N-oDmjIctmew"
      }
    },
    {
      "cell_type": "code",
      "source": [
        "num_list1 = [1, 2, 3]\n",
        "num_list2 = [11, 22, 33]"
      ],
      "metadata": {
        "id": "mltnqjS-wOZd"
      },
      "execution_count": 7,
      "outputs": []
    },
    {
      "cell_type": "code",
      "source": [
        "# indexing\n",
        "print(num_list1[0])     # 첫번째 원소\n",
        "print(num_list2[-1])    # 마지막 원소"
      ],
      "metadata": {
        "colab": {
          "base_uri": "https://localhost:8080/"
        },
        "id": "KJgQ2Y7VrOn8",
        "outputId": "3ad37cf5-a4b2-4022-b3d8-6ccb731398ac"
      },
      "execution_count": 8,
      "outputs": [
        {
          "output_type": "stream",
          "name": "stdout",
          "text": [
            "1\n",
            "33\n"
          ]
        }
      ]
    },
    {
      "cell_type": "code",
      "source": [
        "# slicing\n",
        "print(num_list1[:2])    # 첫 2개의 원소들을 잘라내기\n",
        "print(num_list2[-2:])   # 마지막 2개의 원소들을 잘라내기"
      ],
      "metadata": {
        "colab": {
          "base_uri": "https://localhost:8080/"
        },
        "id": "ZjV0JeYBwG_o",
        "outputId": "b68e2a8b-3cc5-4541-fe78-86d1bb7a1e98"
      },
      "execution_count": 10,
      "outputs": [
        {
          "output_type": "stream",
          "name": "stdout",
          "text": [
            "[1, 2]\n",
            "[22, 33]\n"
          ]
        }
      ]
    },
    {
      "cell_type": "code",
      "source": [
        "num_list1 + num_list2   # concatenate"
      ],
      "metadata": {
        "colab": {
          "base_uri": "https://localhost:8080/"
        },
        "id": "4PmevOCowLNG",
        "outputId": "859fb4a0-94ab-4a64-f5b3-3f10014aabec"
      },
      "execution_count": 12,
      "outputs": [
        {
          "output_type": "execute_result",
          "data": {
            "text/plain": [
              "[1, 2, 3, 11, 22, 33]"
            ]
          },
          "metadata": {},
          "execution_count": 12
        }
      ]
    },
    {
      "cell_type": "code",
      "source": [
        "num_list1 * 3   # replicate"
      ],
      "metadata": {
        "colab": {
          "base_uri": "https://localhost:8080/"
        },
        "id": "kVV9vYRxwWcH",
        "outputId": "3fd6fd64-6c6b-4c82-b1b2-2b0e112751a0"
      },
      "execution_count": 13,
      "outputs": [
        {
          "output_type": "execute_result",
          "data": {
            "text/plain": [
              "[1, 2, 3, 1, 2, 3, 1, 2, 3]"
            ]
          },
          "metadata": {},
          "execution_count": 13
        }
      ]
    },
    {
      "cell_type": "code",
      "source": [
        "# num_list1과 num_list2에서 같은 인덱스의 원소들끼리 덧셈\n",
        "first = []\n",
        "for x in num_list1:\n",
        "    first.append(x)\n",
        "\n",
        "second = []\n",
        "for y in num_list2:\n",
        "    second.append(y)\n",
        "\n",
        "result = []\n",
        "for i in range(len(first)):\n",
        "    result.append(first[i] + second[i])\n",
        "\n",
        "result"
      ],
      "metadata": {
        "colab": {
          "base_uri": "https://localhost:8080/"
        },
        "id": "9R9eSqTwXc4m",
        "outputId": "deb07f63-ee2b-4654-ab07-902988e95f72"
      },
      "execution_count": 158,
      "outputs": [
        {
          "output_type": "execute_result",
          "data": {
            "text/plain": [
              "[12, 24, 36]"
            ]
          },
          "metadata": {},
          "execution_count": 158
        }
      ]
    },
    {
      "cell_type": "code",
      "source": [
        "# num_list1과 num_list2에서 같은 인덱스의 원소들끼리 덧셈\n",
        "[x + y for x, y in zip(num_list1, num_list2)]"
      ],
      "metadata": {
        "colab": {
          "base_uri": "https://localhost:8080/"
        },
        "id": "Zi-06GX7xUfk",
        "outputId": "e82862d2-0419-468a-d8db-10f3856f9bc2"
      },
      "execution_count": 28,
      "outputs": [
        {
          "output_type": "execute_result",
          "data": {
            "text/plain": [
              "[12, 24, 36]"
            ]
          },
          "metadata": {},
          "execution_count": 28
        }
      ]
    },
    {
      "cell_type": "code",
      "source": [
        "# num_list1의 모든 원소에 3을 곱하기\n",
        "[3 * x for x in num_list1]"
      ],
      "metadata": {
        "colab": {
          "base_uri": "https://localhost:8080/"
        },
        "id": "aYCvg-ocxYtE",
        "outputId": "e6fb2f98-f809-4896-a9f5-8b970aaa0cc8"
      },
      "execution_count": 29,
      "outputs": [
        {
          "output_type": "execute_result",
          "data": {
            "text/plain": [
              "[3, 6, 9]"
            ]
          },
          "metadata": {},
          "execution_count": 29
        }
      ]
    },
    {
      "cell_type": "markdown",
      "source": [
        "NumPy(Numerical Python)\n",
        "\n",
        "* 다차원 배열(n-dimensional array)을 쉽고 빠르게 연산(`+, -, *, /, ...`)하기 위한 라이브러리.\n",
        "* numpy 패키지의 대부분의 기능(연산자, 함수, 메서드)들은 반복문의 기능을 가지고 있음(iteratble?).\n",
        "    * 같은 인덱스의 원소들끼리(element-wise) 연산하는 기능을 가지고 있음.\n",
        "* `numpy.ndarray` 클래스 : numpy 패키지의 가장 기본이 되는 클래스."
      ],
      "metadata": {
        "id": "HEnq8H391hKU"
      }
    },
    {
      "cell_type": "code",
      "source": [
        "num_arr1 = np.array([1, 2, 3])  # 아규먼트로 전달된 리스트를 ndarray로 변환해서 리턴.\n",
        "print(type(num_arr1))\n",
        "print(num_arr1)     # __str__() 메서드가 리턴하는 문자열"
      ],
      "metadata": {
        "colab": {
          "base_uri": "https://localhost:8080/"
        },
        "id": "q7lK41vh2Lwd",
        "outputId": "6d8a0dff-e089-4134-ee10-ad2ef119dbbf"
      },
      "execution_count": 35,
      "outputs": [
        {
          "output_type": "stream",
          "name": "stdout",
          "text": [
            "<class 'numpy.ndarray'>\n",
            "[1 2 3]\n"
          ]
        }
      ]
    },
    {
      "cell_type": "code",
      "source": [
        "num_arr1        # __repr__() 메서드가 리턴하는 문자열"
      ],
      "metadata": {
        "colab": {
          "base_uri": "https://localhost:8080/"
        },
        "id": "18uukCOK3jjr",
        "outputId": "9d4d39d7-9287-4896-9972-8d93e5013927"
      },
      "execution_count": 36,
      "outputs": [
        {
          "output_type": "execute_result",
          "data": {
            "text/plain": [
              "array([1, 2, 3])"
            ]
          },
          "metadata": {},
          "execution_count": 36
        }
      ]
    },
    {
      "cell_type": "code",
      "source": [
        "num_arr2 = np.array([11, 22, 33])\n",
        "print(num_arr2)"
      ],
      "metadata": {
        "colab": {
          "base_uri": "https://localhost:8080/"
        },
        "id": "cPtSsf7f3kvB",
        "outputId": "adfad82f-6286-46e8-e462-6ae0f9b8f9a5"
      },
      "execution_count": 37,
      "outputs": [
        {
          "output_type": "stream",
          "name": "stdout",
          "text": [
            "[11 22 33]\n"
          ]
        }
      ]
    },
    {
      "cell_type": "code",
      "source": [
        "# element-wise 연산\n",
        "print(num_arr1 + num_arr2)\n",
        "print(num_arr1 - num_arr2)\n",
        "print(num_arr1 * num_arr2)\n",
        "print(num_arr1 * 3)\n",
        "print(num_arr1 / num_arr2)"
      ],
      "metadata": {
        "colab": {
          "base_uri": "https://localhost:8080/"
        },
        "id": "WOotZtAN4q_t",
        "outputId": "d8195f71-4305-43bc-9aa0-2768fd662b45"
      },
      "execution_count": 38,
      "outputs": [
        {
          "output_type": "stream",
          "name": "stdout",
          "text": [
            "[12 24 36]\n",
            "[-10 -20 -30]\n",
            "[11 44 99]\n",
            "[3 6 9]\n",
            "[0.09090909 0.09090909 0.09090909]\n"
          ]
        }
      ]
    },
    {
      "cell_type": "markdown",
      "source": [
        "## `np.ndarray` 클래스의 속성들"
      ],
      "metadata": {
        "id": "gkk5omu35LfA"
      }
    },
    {
      "cell_type": "code",
      "source": [
        "print(num_arr1)\n",
        "print('ndim =', num_arr1.ndim)  # 차원(dimension)\n",
        "print('size =', num_arr1.size)  # 배열의 크기(모든 원소 개수)\n",
        "print('shape =', num_arr1.shape)    # 배열의 모양(배열의 각 차원에서의 원소 갯수들로 이루어진 튜플)\n",
        "print('dtype =', num_arr1.dtype)    # 데이터 타입"
      ],
      "metadata": {
        "colab": {
          "base_uri": "https://localhost:8080/"
        },
        "id": "loGuT8hl4zNd",
        "outputId": "e38d71f1-7005-465b-cf65-eae339518cf7"
      },
      "execution_count": 43,
      "outputs": [
        {
          "output_type": "stream",
          "name": "stdout",
          "text": [
            "[1 2 3]\n",
            "ndim = 1\n",
            "size = 3\n",
            "shape = (3,)\n",
            "dtype = int64\n"
          ]
        }
      ]
    },
    {
      "cell_type": "markdown",
      "source": [
        "* Python의 숫자 타입\n",
        "    * 정수 : `int`\n",
        "    * 실수 : `float`\n",
        "* NumPy의 숫자 타입\n",
        "    * 정수 : `int8, int16, int32, int64, ...`\n",
        "    * 실수 : `float16, float32, float64, ...`"
      ],
      "metadata": {
        "id": "ug9_xnHW6v75"
      }
    },
    {
      "cell_type": "code",
      "source": [
        "# 2차원 배열\n",
        "array = np.array([[1, 2, 3],\n",
        "                  [4, 5, 6]])\n",
        "print(type(array))"
      ],
      "metadata": {
        "colab": {
          "base_uri": "https://localhost:8080/"
        },
        "id": "n1W4gGun7t5a",
        "outputId": "b2c511ea-569e-43f0-d157-eefbfff83e7f"
      },
      "execution_count": 49,
      "outputs": [
        {
          "output_type": "stream",
          "name": "stdout",
          "text": [
            "<class 'numpy.ndarray'>\n"
          ]
        }
      ]
    },
    {
      "cell_type": "code",
      "source": [
        "print(array)"
      ],
      "metadata": {
        "colab": {
          "base_uri": "https://localhost:8080/"
        },
        "id": "gTbKw4z48Mv0",
        "outputId": "c0ade398-4ddf-4e79-b50a-7033aa70bf1b"
      },
      "execution_count": 51,
      "outputs": [
        {
          "output_type": "stream",
          "name": "stdout",
          "text": [
            "[[1 2 3]\n",
            " [4 5 6]]\n"
          ]
        }
      ]
    },
    {
      "cell_type": "code",
      "source": [
        "print('ndim =', array.ndim) # 차원(dimension)\n",
        "print('size =', array.size) # 크기(shape 튜플의 모든 숫자들을 곱한 값)\n",
        "print('shape =', array.shape)   # 모양\n",
        "print('dtype = ', array.dtype)  # 데이터 타입"
      ],
      "metadata": {
        "colab": {
          "base_uri": "https://localhost:8080/"
        },
        "id": "CM9t4dCi8Nyz",
        "outputId": "ad3148db-0574-4c85-cdc4-2bccd9f4ba1e"
      },
      "execution_count": 56,
      "outputs": [
        {
          "output_type": "stream",
          "name": "stdout",
          "text": [
            "ndim = 2\n",
            "size = 6\n",
            "shape = (2, 3)\n",
            "dtype =  int64\n"
          ]
        }
      ]
    },
    {
      "cell_type": "markdown",
      "source": [
        "# `np.ndarray` 객체 생성 함수들"
      ],
      "metadata": {
        "id": "bNM5xp299tUt"
      }
    },
    {
      "cell_type": "markdown",
      "source": [
        "## `np.array(object)`\n",
        "\n",
        "* object를 ndarray로 변환해서 리턴.\n",
        "* object : 배열과 비슷한 객체들. `list, tuple, ndarry, ...`"
      ],
      "metadata": {
        "id": "UXtiaeRS92T2"
      }
    },
    {
      "cell_type": "code",
      "source": [
        "# 0 이상 10 미만의 정수들로 이루어진 배열\n",
        "numbers = np.array([x for x in range(10)])\n",
        "print(numbers)"
      ],
      "metadata": {
        "colab": {
          "base_uri": "https://localhost:8080/"
        },
        "id": "_jaJcNuH8S-M",
        "outputId": "a1a27e54-5ec3-4d83-eadd-2774e509fa7d"
      },
      "execution_count": 59,
      "outputs": [
        {
          "output_type": "stream",
          "name": "stdout",
          "text": [
            "[0 1 2 3 4 5 6 7 8 9]\n"
          ]
        }
      ]
    },
    {
      "cell_type": "markdown",
      "source": [
        "## `np.arange(starat, end, step)`\n",
        "\n",
        "* range를 사용해서 array를 생성하는 함수.\n",
        "* `range(start, end, step)`와 사용 방법이 동일함.\n",
        "* 1차원 ndarray를 생성"
      ],
      "metadata": {
        "id": "RyJYXFNt-skv"
      }
    },
    {
      "cell_type": "code",
      "source": [
        "numbers = np.arange(10)\n",
        "print(numbers)"
      ],
      "metadata": {
        "colab": {
          "base_uri": "https://localhost:8080/"
        },
        "id": "12tBEJGA-k_o",
        "outputId": "fafcf155-f2de-4479-ea8d-d60d7d647a24"
      },
      "execution_count": 61,
      "outputs": [
        {
          "output_type": "stream",
          "name": "stdout",
          "text": [
            "[0 1 2 3 4 5 6 7 8 9]\n"
          ]
        }
      ]
    },
    {
      "cell_type": "code",
      "source": [
        "# 0 이상 10 이하의 짝수들을 원소로 갖는 배열(ndarray)\n",
        "evens = np.arange(0, 11, 2)\n",
        "print(evens)"
      ],
      "metadata": {
        "colab": {
          "base_uri": "https://localhost:8080/"
        },
        "id": "Pb56quKz_oRQ",
        "outputId": "32a2b7f5-5022-4b19-b066-ad4422650528"
      },
      "execution_count": 66,
      "outputs": [
        {
          "output_type": "stream",
          "name": "stdout",
          "text": [
            "[ 0  2  4  6  8 10]\n"
          ]
        }
      ]
    },
    {
      "cell_type": "markdown",
      "source": [
        "## reshape\n",
        "\n",
        "* `np.ndarray.reshape(newshape)` 메서드\n",
        "* `np.reshape(array, newshape)` 함수"
      ],
      "metadata": {
        "id": "yLEjGszMD5Xs"
      }
    },
    {
      "cell_type": "code",
      "source": [
        "array = np.arange(12)\n",
        "print(array)"
      ],
      "metadata": {
        "colab": {
          "base_uri": "https://localhost:8080/"
        },
        "id": "dQobNtTpE3zL",
        "outputId": "5012a9af-188d-4e9f-e6df-22d8d6de7283"
      },
      "execution_count": 67,
      "outputs": [
        {
          "output_type": "stream",
          "name": "stdout",
          "text": [
            "[ 0  1  2  3  4  5  6  7  8  9 10 11]\n"
          ]
        }
      ]
    },
    {
      "cell_type": "code",
      "source": [
        "array2 = array.reshape((3, 4))      # 모양을 바꾸더라도 원본은 그대로 내버려둠, 객체에서 메서드 호출.\n",
        "print(array2)"
      ],
      "metadata": {
        "colab": {
          "base_uri": "https://localhost:8080/"
        },
        "id": "Nn5UBNIxE7CN",
        "outputId": "50269b38-6d8f-4693-e2c9-f0b6d77a8934"
      },
      "execution_count": 76,
      "outputs": [
        {
          "output_type": "stream",
          "name": "stdout",
          "text": [
            "[[ 0  1  2  3]\n",
            " [ 4  5  6  7]\n",
            " [ 8  9 10 11]]\n"
          ]
        }
      ]
    },
    {
      "cell_type": "code",
      "source": [
        "array3 = np.reshape(array, (4, 3))      # 함수 호출\n",
        "print(array3)"
      ],
      "metadata": {
        "colab": {
          "base_uri": "https://localhost:8080/"
        },
        "id": "5GfnwkigFpWD",
        "outputId": "9c1d2f76-7099-4519-c401-0b646ed0b476"
      },
      "execution_count": 80,
      "outputs": [
        {
          "output_type": "stream",
          "name": "stdout",
          "text": [
            "[[ 0  1  2]\n",
            " [ 3  4  5]\n",
            " [ 6  7  8]\n",
            " [ 9 10 11]]\n"
          ]
        }
      ]
    },
    {
      "cell_type": "code",
      "source": [
        "# 메서드 연쇄 호출(chain-call)\n",
        "array = np.arange(15).reshape((3, 5))\n",
        "array"
      ],
      "metadata": {
        "colab": {
          "base_uri": "https://localhost:8080/"
        },
        "id": "SgZQ7EiDGQb9",
        "outputId": "43c34b67-1f3b-4a63-ad87-0b71194d3e07"
      },
      "execution_count": 83,
      "outputs": [
        {
          "output_type": "execute_result",
          "data": {
            "text/plain": [
              "array([[ 0,  1,  2,  3,  4],\n",
              "       [ 5,  6,  7,  8,  9],\n",
              "       [10, 11, 12, 13, 14]])"
            ]
          },
          "metadata": {},
          "execution_count": 83
        }
      ]
    },
    {
      "cell_type": "markdown",
      "source": [
        "## 난수 배열\n",
        "\n",
        "* `np.random.rand(d0, d1, d2, ...)`\n",
        "    * [0, 1) 범위의 균등분포(uniform distribution)를 따르는 난수들을 갖는 배열을 생성.\n",
        "    * 아규먼트 d0, d1, ... : ndarray의 각 차원의 원소 개수.\n",
        "* `np.random.randn(d0, d1, d2, ...)`\n",
        "    * 평균이 0이고 표준편차가 1인 표준정규분포(standard normal distribution)를 따르는 난수들을 갖는 배열을 생성.\n",
        "    * 아규먼트 d0, d1, ... : ndarray의 각 차원의 원소 개수.\n",
        "* `np.random.randint(low, high, size, dtype)`\n",
        "    * [low, high) 범위의 정수 난수들을 갖는 배열을 생성.\n",
        "    * 아규먼트 size : ndarray의 shape(모양)을 정수 또는 튜플로 전달.\n",
        "    * 아규먼트 dtype : int8, int16, int32, ...\n"
      ],
      "metadata": {
        "id": "5sh6k7c2HCiK"
      }
    },
    {
      "cell_type": "code",
      "source": [
        "array = np.random.rand(5,3)    # 범위가 무조건 0 ~ 1 사이의 실수\n",
        "print(array)\n",
        "array1 = np.random.rand(5)\n",
        "print(array1)"
      ],
      "metadata": {
        "colab": {
          "base_uri": "https://localhost:8080/"
        },
        "id": "tO0IgDbhLD8I",
        "outputId": "6c2748dd-97a1-40bb-b4f7-44a451e26380"
      },
      "execution_count": 152,
      "outputs": [
        {
          "output_type": "stream",
          "name": "stdout",
          "text": [
            "[[0.40598464 0.23987603 0.7632833 ]\n",
            " [0.12553602 0.49487863 0.51935399]\n",
            " [0.15202747 0.12213735 0.28213591]\n",
            " [0.13567124 0.17782295 0.88602655]\n",
            " [0.32305077 0.04538097 0.39219506]]\n",
            "[0.01536012 0.43576015 0.39787031 0.20490559 0.6258906 ]\n"
          ]
        }
      ]
    },
    {
      "cell_type": "code",
      "source": [
        "array = np.random.randn(5, 3)   # 1이나 -1을 넘기는 값이 생성 될 수 있음\n",
        "print(array)"
      ],
      "metadata": {
        "colab": {
          "base_uri": "https://localhost:8080/"
        },
        "id": "6gILCYHxLIMm",
        "outputId": "86c52396-d5c2-4d9a-fa9a-04c0f1753ed0"
      },
      "execution_count": 147,
      "outputs": [
        {
          "output_type": "stream",
          "name": "stdout",
          "text": [
            "[[ 0.72471474  2.83598261 -0.52407098]\n",
            " [ 0.78417744 -0.21714749 -2.00677964]\n",
            " [ 1.18278447 -0.30402281  1.20882159]\n",
            " [-1.36695371 -0.58161499  0.94301482]\n",
            " [-0.8762018   0.89317156  0.47349443]]\n"
          ]
        }
      ]
    },
    {
      "cell_type": "code",
      "source": [
        "array = np.random.randint(0, 100, size=5)   # 기본적으로 dtype을 설정하지 않으면 int64로 설정됨.\n",
        "print(array)\n",
        "print(type(array[0]))"
      ],
      "metadata": {
        "colab": {
          "base_uri": "https://localhost:8080/"
        },
        "id": "VbXQvkgPLMFW",
        "outputId": "18d366da-2c76-4bf3-e3f4-28cda1f83187"
      },
      "execution_count": 161,
      "outputs": [
        {
          "output_type": "stream",
          "name": "stdout",
          "text": [
            "[32 97 96 21  5]\n",
            "<class 'numpy.int64'>\n"
          ]
        }
      ]
    },
    {
      "cell_type": "code",
      "source": [
        "array = np.random.randint(0, 10, size=(5,3))\n",
        "print(array)"
      ],
      "metadata": {
        "colab": {
          "base_uri": "https://localhost:8080/"
        },
        "id": "3SPJn661Ludu",
        "outputId": "2235ba5f-798f-4ca8-88a3-ee8378e03e1f"
      },
      "execution_count": 90,
      "outputs": [
        {
          "output_type": "stream",
          "name": "stdout",
          "text": [
            "[[3 2 5]\n",
            " [3 6 8]\n",
            " [9 3 9]\n",
            " [4 1 4]\n",
            " [8 7 9]]\n"
          ]
        }
      ]
    },
    {
      "cell_type": "code",
      "source": [
        "ar = np.random.randint(10)  #> size=None(기본값)일 때는 난수 1개를 리턴.\n",
        "print(ar)\n",
        "print(type(ar))"
      ],
      "metadata": {
        "colab": {
          "base_uri": "https://localhost:8080/"
        },
        "id": "8iTPuk6-MVAe",
        "outputId": "dae6f1cd-e596-48d8-82e2-ab144e4496f8"
      },
      "execution_count": 162,
      "outputs": [
        {
          "output_type": "stream",
          "name": "stdout",
          "text": [
            "5\n",
            "<class 'int'>\n"
          ]
        }
      ]
    },
    {
      "cell_type": "markdown",
      "source": [
        "# 통계 함수/메서드\n",
        "\n",
        "* 함수 : `np.function_name(ndarray)`\n",
        "* 메서드 : `np.ndarray.method_name()`"
      ],
      "metadata": {
        "id": "3uIjNf-fdnr1"
      }
    },
    {
      "cell_type": "code",
      "source": [
        "array = np.random.randint(100, size=10)\n",
        "print(array)"
      ],
      "metadata": {
        "colab": {
          "base_uri": "https://localhost:8080/"
        },
        "id": "mlja5Kd5ekeL",
        "outputId": "5d0f0c5d-9d9b-4770-d43e-913088a9567e"
      },
      "execution_count": 167,
      "outputs": [
        {
          "output_type": "stream",
          "name": "stdout",
          "text": [
            "[59 80 99 81 85 91 45 32 81 97]\n"
          ]
        }
      ]
    },
    {
      "cell_type": "code",
      "source": [
        "print('평균 :', np.mean(array), array.mean())   # 함수 호출. 메서드 호출.\n",
        "print('분산 :', np.var(array), array.var())     # variance\n",
        "print('표준편차 :', np.std(array), array.std()) # standard deviation\n",
        "print('최댓값 :', np.max(array), array.max())   # max\n",
        "print('최솟값 :', np.min(array), array.min())   # min\n",
        "print('중앙값 :', np.median(array)) # 중앙값은 메서드가 제공되지 않음. array.median() 메서드를 제공하지 않음.\n",
        "# len()이 짝수일 경우 중앙에서 양 옆의 값을 더해 평균을 구한것이 중앙값이 됨."
      ],
      "metadata": {
        "colab": {
          "base_uri": "https://localhost:8080/"
        },
        "id": "sIusK5uTeyHi",
        "outputId": "4e67a838-8cfa-438c-bf15-9fa41cdc43f1"
      },
      "execution_count": 177,
      "outputs": [
        {
          "output_type": "stream",
          "name": "stdout",
          "text": [
            "평균 : 75.0 75.0\n",
            "분산 : 451.8 451.8\n",
            "표준편차 : 21.25558750070202 21.25558750070202\n",
            "최댓값 : 99 99\n",
            "최솟값 : 32 32\n",
            "중앙값 : 81.0\n"
          ]
        }
      ]
    },
    {
      "cell_type": "code",
      "source": [
        "np.sort(array)  # 함수 호출 - 원본 배열은 변경하지 않고, 정렬된 \"새로운\" 배열을 리턴."
      ],
      "metadata": {
        "colab": {
          "base_uri": "https://localhost:8080/"
        },
        "id": "I9fUA8bwgtna",
        "outputId": "039029f2-ca4e-4f9b-ab0e-cde5796ccd6f"
      },
      "execution_count": 179,
      "outputs": [
        {
          "output_type": "execute_result",
          "data": {
            "text/plain": [
              "array([32, 45, 59, 80, 81, 81, 85, 91, 97, 99])"
            ]
          },
          "metadata": {},
          "execution_count": 179
        }
      ]
    },
    {
      "cell_type": "code",
      "source": [
        "print(array.sort()) # 메서드 호출 - 원본 배열을 정렬하고 리턴은 없음. 원본 배열이 변경됨.\n",
        "print(array)"
      ],
      "metadata": {
        "colab": {
          "base_uri": "https://localhost:8080/"
        },
        "id": "kxJHlRKWhNoJ",
        "outputId": "6ddcaedc-e892-4309-b1be-ed4f56e43b4b"
      },
      "execution_count": 184,
      "outputs": [
        {
          "output_type": "stream",
          "name": "stdout",
          "text": [
            "None\n",
            "[32 45 59 80 81 81 85 91 97 99]\n"
          ]
        }
      ]
    },
    {
      "cell_type": "code",
      "source": [
        "array = np.random.randint(100, size=10)\n",
        "print(array)\n",
        "print(np.argmax(array), array.argmax()) # 배열에서 최댓값의 index를 리턴.\n",
        "print(np.argmin(array), array.argmin()) # 배열에서 최솟값의 index를 리턴."
      ],
      "metadata": {
        "colab": {
          "base_uri": "https://localhost:8080/"
        },
        "id": "dUjXUpuShUe5",
        "outputId": "0e3fdcd5-7c9e-47eb-de77-1acb9a8dabe5"
      },
      "execution_count": 192,
      "outputs": [
        {
          "output_type": "stream",
          "name": "stdout",
          "text": [
            "[82 30 98 41 23 62 53 18 97 88]\n",
            "2 2\n",
            "7 7\n"
          ]
        }
      ]
    },
    {
      "cell_type": "markdown",
      "source": [
        "## 2차원 배열에서 통계 함수/메서드"
      ],
      "metadata": {
        "id": "-Y2sOtzmkvmg"
      }
    },
    {
      "cell_type": "code",
      "source": [
        "np.random.seed(42)   # 실행할 때 마다 항상 같은 난수들을 만들어 내기 위해서.\n",
        "array = np.random.randint(10, size=(5,4))\n",
        "print(array)"
      ],
      "metadata": {
        "colab": {
          "base_uri": "https://localhost:8080/"
        },
        "id": "6cz0PPpxkXtB",
        "outputId": "58c42310-71df-427b-8b44-b0ce7cfc604c"
      },
      "execution_count": 198,
      "outputs": [
        {
          "output_type": "stream",
          "name": "stdout",
          "text": [
            "[[6 3 7 4]\n",
            " [6 9 2 6]\n",
            " [7 4 3 7]\n",
            " [7 2 5 4]\n",
            " [1 7 5 1]]\n"
          ]
        }
      ]
    },
    {
      "cell_type": "code",
      "source": [
        "np.sum(array)    # 2차원 배열의 모든 원소들의 합계"
      ],
      "metadata": {
        "colab": {
          "base_uri": "https://localhost:8080/"
        },
        "id": "veW10J5RluXw",
        "outputId": "71ae9f70-e0b7-481b-b0e9-d5c57225fe9b"
      },
      "execution_count": 199,
      "outputs": [
        {
          "output_type": "execute_result",
          "data": {
            "text/plain": [
              "np.int64(96)"
            ]
          },
          "metadata": {},
          "execution_count": 199
        }
      ]
    },
    {
      "cell_type": "code",
      "source": [
        "np.sum(array, axis=0)   # 행의 인덱스가 증가하는 방향으로 원소들의 합계"
      ],
      "metadata": {
        "colab": {
          "base_uri": "https://localhost:8080/"
        },
        "id": "wCIuV3OEmkV_",
        "outputId": "05eb3311-a9de-4c26-83d5-84715ef8da28"
      },
      "execution_count": 201,
      "outputs": [
        {
          "output_type": "execute_result",
          "data": {
            "text/plain": [
              "array([27, 25, 22, 22])"
            ]
          },
          "metadata": {},
          "execution_count": 201
        }
      ]
    },
    {
      "cell_type": "code",
      "source": [
        "np.sum(array, axis = 1) # 컬럼의 인덱스가 증가하는 방향으로 원소들의 합계"
      ],
      "metadata": {
        "colab": {
          "base_uri": "https://localhost:8080/"
        },
        "id": "1ug6zhTRnPZn",
        "outputId": "32cde637-b13f-4155-c5d4-683e5051e19a"
      },
      "execution_count": 202,
      "outputs": [
        {
          "output_type": "execute_result",
          "data": {
            "text/plain": [
              "array([20, 23, 21, 18, 14])"
            ]
          },
          "metadata": {},
          "execution_count": 202
        }
      ]
    }
  ]
}