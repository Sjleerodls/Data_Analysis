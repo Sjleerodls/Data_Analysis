{
  "nbformat": 4,
  "nbformat_minor": 0,
  "metadata": {
    "colab": {
      "provenance": [],
      "toc_visible": true,
      "authorship_tag": "ABX9TyPocUiHwZ8CWTY0atTJEaj2",
      "include_colab_link": true
    },
    "kernelspec": {
      "name": "python3",
      "display_name": "Python 3"
    },
    "language_info": {
      "name": "python"
    }
  },
  "cells": [
    {
      "cell_type": "markdown",
      "metadata": {
        "id": "view-in-github",
        "colab_type": "text"
      },
      "source": [
        "<a href=\"https://colab.research.google.com/github/Sjleerodls/Data_Analysis/blob/main/lab_da/ml04_iris.ipynb\" target=\"_parent\"><img src=\"https://colab.research.google.com/assets/colab-badge.svg\" alt=\"Open In Colab\"/></a>"
      ]
    },
    {
      "cell_type": "markdown",
      "source": [
        "# Imports"
      ],
      "metadata": {
        "id": "1OOFJR7t08jC"
      }
    },
    {
      "cell_type": "code",
      "execution_count": 6,
      "metadata": {
        "id": "xo4DJT9o00RU"
      },
      "outputs": [],
      "source": [
        "import numpy as np\n",
        "import pandas as pd\n",
        "import matplotlib.pyplot as plt\n",
        "import seaborn as sns\n",
        "\n",
        "from sklearn import datasets # load_iris() 함수를 사용하기 위해서\n",
        "from sklearn.model_selection import train_test_split    # 훈련 셋/테스트 셋 분리\n",
        "from sklearn.preprocessing import StandardScaler    # 특성 스케일링\n",
        "from sklearn.neighbors import KNeighborsClassifier  # KNN 모델 클래스\n",
        "from sklearn.metrics import confusion_matrix, classification_report, accuracy_score     # 평가 지표"
      ]
    },
    {
      "cell_type": "markdown",
      "source": [
        "# Iris 데이터셋 준비"
      ],
      "metadata": {
        "id": "BHl-HBzu28Cx"
      }
    },
    {
      "cell_type": "code",
      "source": [
        "iris = datasets.load_iris()"
      ],
      "metadata": {
        "id": "Xds878bK1Cez"
      },
      "execution_count": 12,
      "outputs": []
    },
    {
      "cell_type": "code",
      "source": [
        "print(type(iris))"
      ],
      "metadata": {
        "colab": {
          "base_uri": "https://localhost:8080/"
        },
        "id": "U6Ex_Qiv3jNJ",
        "outputId": "289d86d2-0e89-4532-fb1f-bccb01128b10"
      },
      "execution_count": 15,
      "outputs": [
        {
          "output_type": "stream",
          "name": "stdout",
          "text": [
            "<class 'sklearn.utils._bunch.Bunch'>\n"
          ]
        }
      ]
    },
    {
      "cell_type": "markdown",
      "source": [
        "scikit-learn Bunch 클래스 : Python의 dict와 비슷한 클래스.\n",
        "* key-value 쌍으로 아이템들을 저장.\n",
        "* `bunch[key]` 또는 `bunch.key` 형식으로 key를 사용해서 value 값을 참조할 수 있음."
      ],
      "metadata": {
        "id": "ZxNIzjZl35mI"
      }
    },
    {
      "cell_type": "code",
      "source": [
        "iris.keys()"
      ],
      "metadata": {
        "colab": {
          "base_uri": "https://localhost:8080/"
        },
        "id": "ncpIOlIS3j0p",
        "outputId": "8915db86-9dc7-4332-86f9-44b5c24ff469"
      },
      "execution_count": 16,
      "outputs": [
        {
          "output_type": "execute_result",
          "data": {
            "text/plain": [
              "dict_keys(['data', 'target', 'frame', 'target_names', 'DESCR', 'feature_names', 'filename', 'data_module'])"
            ]
          },
          "metadata": {},
          "execution_count": 16
        }
      ]
    },
    {
      "cell_type": "code",
      "source": [
        "iris['data_module']"
      ],
      "metadata": {
        "colab": {
          "base_uri": "https://localhost:8080/",
          "height": 35
        },
        "id": "WjD93tyq4v-o",
        "outputId": "654cdc55-a567-4931-c3d8-2a802b41c7f3"
      },
      "execution_count": 24,
      "outputs": [
        {
          "output_type": "execute_result",
          "data": {
            "text/plain": [
              "'sklearn.datasets.data'"
            ],
            "application/vnd.google.colaboratory.intrinsic+json": {
              "type": "string"
            }
          },
          "metadata": {},
          "execution_count": 24
        }
      ]
    },
    {
      "cell_type": "code",
      "source": [
        "X = iris.data   # 특성 배열"
      ],
      "metadata": {
        "id": "pevLvh3m40Yp"
      },
      "execution_count": 26,
      "outputs": []
    },
    {
      "cell_type": "code",
      "source": [
        "y = iris.target # 타겟 배열"
      ],
      "metadata": {
        "id": "Xil13VLS5KdZ"
      },
      "execution_count": 27,
      "outputs": []
    },
    {
      "cell_type": "code",
      "source": [],
      "metadata": {
        "id": "iNO66y1B5TmK"
      },
      "execution_count": null,
      "outputs": []
    }
  ]
}