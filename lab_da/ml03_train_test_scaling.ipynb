{
  "nbformat": 4,
  "nbformat_minor": 0,
  "metadata": {
    "colab": {
      "provenance": [],
      "toc_visible": true,
      "authorship_tag": "ABX9TyPtwBByxwjmUxQHni7/JNNa",
      "include_colab_link": true
    },
    "kernelspec": {
      "name": "python3",
      "display_name": "Python 3"
    },
    "language_info": {
      "name": "python"
    }
  },
  "cells": [
    {
      "cell_type": "markdown",
      "metadata": {
        "id": "view-in-github",
        "colab_type": "text"
      },
      "source": [
        "<a href=\"https://colab.research.google.com/github/Sjleerodls/Data_Analysis/blob/main/lab_da/ml03_train_test_scaling.ipynb\" target=\"_parent\"><img src=\"https://colab.research.google.com/assets/colab-badge.svg\" alt=\"Open In Colab\"/></a>"
      ]
    },
    {
      "cell_type": "markdown",
      "source": [
        "* 훈련 셋과 테스트 셋을 나누는 방법\n",
        "    * 순차 추출(sequential sampling)\n",
        "    * 임의 추출(random sampling)\n",
        "    * 층화 추출(stratified sampling)\n",
        "* 분류 모델의 평가 지표(metrics)\n",
        "    * 정확도(accuracy)\n",
        "    * 정밀도(precision)\n",
        "    * 재현율(recall)\n",
        "    * F1 score\n",
        "* 특성 스케일링(feature scaling)\n",
        "    * 표준화(standardiztion)\n",
        "    * 정규화(normalization)"
      ],
      "metadata": {
        "id": "xJS2H8JB4flc"
      }
    },
    {
      "cell_type": "code",
      "execution_count": 7,
      "metadata": {
        "id": "s9e5wvOh4Zir"
      },
      "outputs": [],
      "source": [
        "import numpy as np\n",
        "import pandas as pd\n",
        "import matplotlib.pyplot as plt\n",
        "import seaborn as sns\n",
        "\n",
        "from sklearn.neighbors import KNeighborsClassifier  # 머신러닝 모델\n",
        "from sklearn.model_selection import train_test_split    # 훈련/테스트 셋 분리 함수\n",
        "from sklearn.metrics import accuracy_score, precision_score, recall_score, f1_score\n",
        "from sklearn.metrics import classification_report, confusion_matrix\n",
        "from sklearn.preprocessing import StandardScaler, MinMaxScaler  # 변환기(특성 스케일링)"
      ]
    },
    {
      "cell_type": "markdown",
      "source": [
        "# 데이터셋 준비\n",
        "\n",
        "fish 데이터셋 - 도미(Bream)/빙어(Smelt) 분류"
      ],
      "metadata": {
        "id": "nOrfA-uJ9YPB"
      }
    },
    {
      "cell_type": "code",
      "source": [],
      "metadata": {
        "id": "bQj3oov172gP"
      },
      "execution_count": null,
      "outputs": []
    }
  ]
}