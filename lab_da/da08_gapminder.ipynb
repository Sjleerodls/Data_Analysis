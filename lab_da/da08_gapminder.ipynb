{
  "nbformat": 4,
  "nbformat_minor": 0,
  "metadata": {
    "colab": {
      "provenance": [],
      "toc_visible": true,
      "mount_file_id": "https://github.com/Sjleerodls/Data_Analysis/blob/main/lab_da/da08_gapminder.ipynb",
      "authorship_tag": "ABX9TyPJBBIS7gg9KVvcHPA2EUue",
      "include_colab_link": true
    },
    "kernelspec": {
      "name": "python3",
      "display_name": "Python 3"
    },
    "language_info": {
      "name": "python"
    }
  },
  "cells": [
    {
      "cell_type": "markdown",
      "metadata": {
        "id": "view-in-github",
        "colab_type": "text"
      },
      "source": [
        "<a href=\"https://colab.research.google.com/github/Sjleerodls/Data_Analysis/blob/main/lab_da/da08_gapminder.ipynb\" target=\"_parent\"><img src=\"https://colab.research.google.com/assets/colab-badge.svg\" alt=\"Open In Colab\"/></a>"
      ]
    },
    {
      "cell_type": "markdown",
      "source": [
        "# 필요 라이브러리 불러오기"
      ],
      "metadata": {
        "id": "avPxL6R9UvRt"
      }
    },
    {
      "cell_type": "code",
      "execution_count": 1,
      "metadata": {
        "id": "dLEP9lqnUmdL"
      },
      "outputs": [],
      "source": [
        "import pandas as pd\n",
        "import seaborn as sns\n",
        "import matplotlib.pyplot as plt"
      ]
    },
    {
      "cell_type": "markdown",
      "source": [
        "# 필요 데이터 불러오고 DataFrame 생성"
      ],
      "metadata": {
        "id": "klXs03mNU0qt"
      }
    },
    {
      "cell_type": "code",
      "source": [
        "gap_path = '/content/drive/MyDrive/Colab Notebooks/datasets/gapminder.tsv'"
      ],
      "metadata": {
        "id": "4KQ7olsWUsIA"
      },
      "execution_count": 2,
      "outputs": []
    },
    {
      "cell_type": "code",
      "source": [
        "gp_df = pd.read_csv(gap_path, sep='\\t')"
      ],
      "metadata": {
        "id": "KAp-fZ1aVD2X"
      },
      "execution_count": 4,
      "outputs": []
    },
    {
      "cell_type": "code",
      "source": [
        "gp_df.head()"
      ],
      "metadata": {
        "colab": {
          "base_uri": "https://localhost:8080/",
          "height": 206
        },
        "id": "13sLrFa9VSml",
        "outputId": "3a43f212-39a5-4541-b866-ea006c70e6d0"
      },
      "execution_count": 5,
      "outputs": [
        {
          "output_type": "execute_result",
          "data": {
            "text/plain": [
              "       country continent  year  lifeExp       pop   gdpPercap\n",
              "0  Afghanistan      Asia  1952   28.801   8425333  779.445314\n",
              "1  Afghanistan      Asia  1957   30.332   9240934  820.853030\n",
              "2  Afghanistan      Asia  1962   31.997  10267083  853.100710\n",
              "3  Afghanistan      Asia  1967   34.020  11537966  836.197138\n",
              "4  Afghanistan      Asia  1972   36.088  13079460  739.981106"
            ],
            "text/html": [
              "\n",
              "  <div id=\"df-577cf707-b6c9-49e6-a951-640a9ab2afba\" class=\"colab-df-container\">\n",
              "    <div>\n",
              "<style scoped>\n",
              "    .dataframe tbody tr th:only-of-type {\n",
              "        vertical-align: middle;\n",
              "    }\n",
              "\n",
              "    .dataframe tbody tr th {\n",
              "        vertical-align: top;\n",
              "    }\n",
              "\n",
              "    .dataframe thead th {\n",
              "        text-align: right;\n",
              "    }\n",
              "</style>\n",
              "<table border=\"1\" class=\"dataframe\">\n",
              "  <thead>\n",
              "    <tr style=\"text-align: right;\">\n",
              "      <th></th>\n",
              "      <th>country</th>\n",
              "      <th>continent</th>\n",
              "      <th>year</th>\n",
              "      <th>lifeExp</th>\n",
              "      <th>pop</th>\n",
              "      <th>gdpPercap</th>\n",
              "    </tr>\n",
              "  </thead>\n",
              "  <tbody>\n",
              "    <tr>\n",
              "      <th>0</th>\n",
              "      <td>Afghanistan</td>\n",
              "      <td>Asia</td>\n",
              "      <td>1952</td>\n",
              "      <td>28.801</td>\n",
              "      <td>8425333</td>\n",
              "      <td>779.445314</td>\n",
              "    </tr>\n",
              "    <tr>\n",
              "      <th>1</th>\n",
              "      <td>Afghanistan</td>\n",
              "      <td>Asia</td>\n",
              "      <td>1957</td>\n",
              "      <td>30.332</td>\n",
              "      <td>9240934</td>\n",
              "      <td>820.853030</td>\n",
              "    </tr>\n",
              "    <tr>\n",
              "      <th>2</th>\n",
              "      <td>Afghanistan</td>\n",
              "      <td>Asia</td>\n",
              "      <td>1962</td>\n",
              "      <td>31.997</td>\n",
              "      <td>10267083</td>\n",
              "      <td>853.100710</td>\n",
              "    </tr>\n",
              "    <tr>\n",
              "      <th>3</th>\n",
              "      <td>Afghanistan</td>\n",
              "      <td>Asia</td>\n",
              "      <td>1967</td>\n",
              "      <td>34.020</td>\n",
              "      <td>11537966</td>\n",
              "      <td>836.197138</td>\n",
              "    </tr>\n",
              "    <tr>\n",
              "      <th>4</th>\n",
              "      <td>Afghanistan</td>\n",
              "      <td>Asia</td>\n",
              "      <td>1972</td>\n",
              "      <td>36.088</td>\n",
              "      <td>13079460</td>\n",
              "      <td>739.981106</td>\n",
              "    </tr>\n",
              "  </tbody>\n",
              "</table>\n",
              "</div>\n",
              "    <div class=\"colab-df-buttons\">\n",
              "\n",
              "  <div class=\"colab-df-container\">\n",
              "    <button class=\"colab-df-convert\" onclick=\"convertToInteractive('df-577cf707-b6c9-49e6-a951-640a9ab2afba')\"\n",
              "            title=\"Convert this dataframe to an interactive table.\"\n",
              "            style=\"display:none;\">\n",
              "\n",
              "  <svg xmlns=\"http://www.w3.org/2000/svg\" height=\"24px\" viewBox=\"0 -960 960 960\">\n",
              "    <path d=\"M120-120v-720h720v720H120Zm60-500h600v-160H180v160Zm220 220h160v-160H400v160Zm0 220h160v-160H400v160ZM180-400h160v-160H180v160Zm440 0h160v-160H620v160ZM180-180h160v-160H180v160Zm440 0h160v-160H620v160Z\"/>\n",
              "  </svg>\n",
              "    </button>\n",
              "\n",
              "  <style>\n",
              "    .colab-df-container {\n",
              "      display:flex;\n",
              "      gap: 12px;\n",
              "    }\n",
              "\n",
              "    .colab-df-convert {\n",
              "      background-color: #E8F0FE;\n",
              "      border: none;\n",
              "      border-radius: 50%;\n",
              "      cursor: pointer;\n",
              "      display: none;\n",
              "      fill: #1967D2;\n",
              "      height: 32px;\n",
              "      padding: 0 0 0 0;\n",
              "      width: 32px;\n",
              "    }\n",
              "\n",
              "    .colab-df-convert:hover {\n",
              "      background-color: #E2EBFA;\n",
              "      box-shadow: 0px 1px 2px rgba(60, 64, 67, 0.3), 0px 1px 3px 1px rgba(60, 64, 67, 0.15);\n",
              "      fill: #174EA6;\n",
              "    }\n",
              "\n",
              "    .colab-df-buttons div {\n",
              "      margin-bottom: 4px;\n",
              "    }\n",
              "\n",
              "    [theme=dark] .colab-df-convert {\n",
              "      background-color: #3B4455;\n",
              "      fill: #D2E3FC;\n",
              "    }\n",
              "\n",
              "    [theme=dark] .colab-df-convert:hover {\n",
              "      background-color: #434B5C;\n",
              "      box-shadow: 0px 1px 3px 1px rgba(0, 0, 0, 0.15);\n",
              "      filter: drop-shadow(0px 1px 2px rgba(0, 0, 0, 0.3));\n",
              "      fill: #FFFFFF;\n",
              "    }\n",
              "  </style>\n",
              "\n",
              "    <script>\n",
              "      const buttonEl =\n",
              "        document.querySelector('#df-577cf707-b6c9-49e6-a951-640a9ab2afba button.colab-df-convert');\n",
              "      buttonEl.style.display =\n",
              "        google.colab.kernel.accessAllowed ? 'block' : 'none';\n",
              "\n",
              "      async function convertToInteractive(key) {\n",
              "        const element = document.querySelector('#df-577cf707-b6c9-49e6-a951-640a9ab2afba');\n",
              "        const dataTable =\n",
              "          await google.colab.kernel.invokeFunction('convertToInteractive',\n",
              "                                                    [key], {});\n",
              "        if (!dataTable) return;\n",
              "\n",
              "        const docLinkHtml = 'Like what you see? Visit the ' +\n",
              "          '<a target=\"_blank\" href=https://colab.research.google.com/notebooks/data_table.ipynb>data table notebook</a>'\n",
              "          + ' to learn more about interactive tables.';\n",
              "        element.innerHTML = '';\n",
              "        dataTable['output_type'] = 'display_data';\n",
              "        await google.colab.output.renderOutput(dataTable, element);\n",
              "        const docLink = document.createElement('div');\n",
              "        docLink.innerHTML = docLinkHtml;\n",
              "        element.appendChild(docLink);\n",
              "      }\n",
              "    </script>\n",
              "  </div>\n",
              "\n",
              "\n",
              "    <div id=\"df-2ad68f15-4f62-4df1-943b-289030608779\">\n",
              "      <button class=\"colab-df-quickchart\" onclick=\"quickchart('df-2ad68f15-4f62-4df1-943b-289030608779')\"\n",
              "                title=\"Suggest charts\"\n",
              "                style=\"display:none;\">\n",
              "\n",
              "<svg xmlns=\"http://www.w3.org/2000/svg\" height=\"24px\"viewBox=\"0 0 24 24\"\n",
              "     width=\"24px\">\n",
              "    <g>\n",
              "        <path d=\"M19 3H5c-1.1 0-2 .9-2 2v14c0 1.1.9 2 2 2h14c1.1 0 2-.9 2-2V5c0-1.1-.9-2-2-2zM9 17H7v-7h2v7zm4 0h-2V7h2v10zm4 0h-2v-4h2v4z\"/>\n",
              "    </g>\n",
              "</svg>\n",
              "      </button>\n",
              "\n",
              "<style>\n",
              "  .colab-df-quickchart {\n",
              "      --bg-color: #E8F0FE;\n",
              "      --fill-color: #1967D2;\n",
              "      --hover-bg-color: #E2EBFA;\n",
              "      --hover-fill-color: #174EA6;\n",
              "      --disabled-fill-color: #AAA;\n",
              "      --disabled-bg-color: #DDD;\n",
              "  }\n",
              "\n",
              "  [theme=dark] .colab-df-quickchart {\n",
              "      --bg-color: #3B4455;\n",
              "      --fill-color: #D2E3FC;\n",
              "      --hover-bg-color: #434B5C;\n",
              "      --hover-fill-color: #FFFFFF;\n",
              "      --disabled-bg-color: #3B4455;\n",
              "      --disabled-fill-color: #666;\n",
              "  }\n",
              "\n",
              "  .colab-df-quickchart {\n",
              "    background-color: var(--bg-color);\n",
              "    border: none;\n",
              "    border-radius: 50%;\n",
              "    cursor: pointer;\n",
              "    display: none;\n",
              "    fill: var(--fill-color);\n",
              "    height: 32px;\n",
              "    padding: 0;\n",
              "    width: 32px;\n",
              "  }\n",
              "\n",
              "  .colab-df-quickchart:hover {\n",
              "    background-color: var(--hover-bg-color);\n",
              "    box-shadow: 0 1px 2px rgba(60, 64, 67, 0.3), 0 1px 3px 1px rgba(60, 64, 67, 0.15);\n",
              "    fill: var(--button-hover-fill-color);\n",
              "  }\n",
              "\n",
              "  .colab-df-quickchart-complete:disabled,\n",
              "  .colab-df-quickchart-complete:disabled:hover {\n",
              "    background-color: var(--disabled-bg-color);\n",
              "    fill: var(--disabled-fill-color);\n",
              "    box-shadow: none;\n",
              "  }\n",
              "\n",
              "  .colab-df-spinner {\n",
              "    border: 2px solid var(--fill-color);\n",
              "    border-color: transparent;\n",
              "    border-bottom-color: var(--fill-color);\n",
              "    animation:\n",
              "      spin 1s steps(1) infinite;\n",
              "  }\n",
              "\n",
              "  @keyframes spin {\n",
              "    0% {\n",
              "      border-color: transparent;\n",
              "      border-bottom-color: var(--fill-color);\n",
              "      border-left-color: var(--fill-color);\n",
              "    }\n",
              "    20% {\n",
              "      border-color: transparent;\n",
              "      border-left-color: var(--fill-color);\n",
              "      border-top-color: var(--fill-color);\n",
              "    }\n",
              "    30% {\n",
              "      border-color: transparent;\n",
              "      border-left-color: var(--fill-color);\n",
              "      border-top-color: var(--fill-color);\n",
              "      border-right-color: var(--fill-color);\n",
              "    }\n",
              "    40% {\n",
              "      border-color: transparent;\n",
              "      border-right-color: var(--fill-color);\n",
              "      border-top-color: var(--fill-color);\n",
              "    }\n",
              "    60% {\n",
              "      border-color: transparent;\n",
              "      border-right-color: var(--fill-color);\n",
              "    }\n",
              "    80% {\n",
              "      border-color: transparent;\n",
              "      border-right-color: var(--fill-color);\n",
              "      border-bottom-color: var(--fill-color);\n",
              "    }\n",
              "    90% {\n",
              "      border-color: transparent;\n",
              "      border-bottom-color: var(--fill-color);\n",
              "    }\n",
              "  }\n",
              "</style>\n",
              "\n",
              "      <script>\n",
              "        async function quickchart(key) {\n",
              "          const quickchartButtonEl =\n",
              "            document.querySelector('#' + key + ' button');\n",
              "          quickchartButtonEl.disabled = true;  // To prevent multiple clicks.\n",
              "          quickchartButtonEl.classList.add('colab-df-spinner');\n",
              "          try {\n",
              "            const charts = await google.colab.kernel.invokeFunction(\n",
              "                'suggestCharts', [key], {});\n",
              "          } catch (error) {\n",
              "            console.error('Error during call to suggestCharts:', error);\n",
              "          }\n",
              "          quickchartButtonEl.classList.remove('colab-df-spinner');\n",
              "          quickchartButtonEl.classList.add('colab-df-quickchart-complete');\n",
              "        }\n",
              "        (() => {\n",
              "          let quickchartButtonEl =\n",
              "            document.querySelector('#df-2ad68f15-4f62-4df1-943b-289030608779 button');\n",
              "          quickchartButtonEl.style.display =\n",
              "            google.colab.kernel.accessAllowed ? 'block' : 'none';\n",
              "        })();\n",
              "      </script>\n",
              "    </div>\n",
              "\n",
              "    </div>\n",
              "  </div>\n"
            ],
            "application/vnd.google.colaboratory.intrinsic+json": {
              "type": "dataframe",
              "variable_name": "gp_df",
              "summary": "{\n  \"name\": \"gp_df\",\n  \"rows\": 1704,\n  \"fields\": [\n    {\n      \"column\": \"country\",\n      \"properties\": {\n        \"dtype\": \"category\",\n        \"num_unique_values\": 142,\n        \"samples\": [\n          \"Turkey\",\n          \"Cameroon\",\n          \"Mauritius\"\n        ],\n        \"semantic_type\": \"\",\n        \"description\": \"\"\n      }\n    },\n    {\n      \"column\": \"continent\",\n      \"properties\": {\n        \"dtype\": \"category\",\n        \"num_unique_values\": 5,\n        \"samples\": [\n          \"Europe\",\n          \"Oceania\",\n          \"Africa\"\n        ],\n        \"semantic_type\": \"\",\n        \"description\": \"\"\n      }\n    },\n    {\n      \"column\": \"year\",\n      \"properties\": {\n        \"dtype\": \"number\",\n        \"std\": 17,\n        \"min\": 1952,\n        \"max\": 2007,\n        \"num_unique_values\": 12,\n        \"samples\": [\n          2002,\n          1997,\n          1952\n        ],\n        \"semantic_type\": \"\",\n        \"description\": \"\"\n      }\n    },\n    {\n      \"column\": \"lifeExp\",\n      \"properties\": {\n        \"dtype\": \"number\",\n        \"std\": 12.917107415241187,\n        \"min\": 23.599,\n        \"max\": 82.603,\n        \"num_unique_values\": 1626,\n        \"samples\": [\n          66.662,\n          51.445,\n          62.4\n        ],\n        \"semantic_type\": \"\",\n        \"description\": \"\"\n      }\n    },\n    {\n      \"column\": \"pop\",\n      \"properties\": {\n        \"dtype\": \"number\",\n        \"std\": 106157896,\n        \"min\": 60011,\n        \"max\": 1318683096,\n        \"num_unique_values\": 1704,\n        \"samples\": [\n          23634436,\n          2878220,\n          2156814\n        ],\n        \"semantic_type\": \"\",\n        \"description\": \"\"\n      }\n    },\n    {\n      \"column\": \"gdpPercap\",\n      \"properties\": {\n        \"dtype\": \"number\",\n        \"std\": 9857.454542541445,\n        \"min\": 241.1658765,\n        \"max\": 113523.1329,\n        \"num_unique_values\": 1704,\n        \"samples\": [\n          388.0,\n          5599.077872,\n          6650.195573\n        ],\n        \"semantic_type\": \"\",\n        \"description\": \"\"\n      }\n    }\n  ]\n}"
            }
          },
          "metadata": {},
          "execution_count": 5
        }
      ]
    },
    {
      "cell_type": "markdown",
      "source": [
        "/*\n",
        " * 1. github의 gapminder.tsv 파일 다운로드\n",
        " * 2. 파일의 내용을 저장할 수 있는 테이블을 생성.\n",
        " *    테이블 이름: GAPMINDER\n",
        " *    컬럼: COUNTRY, CONTINENT, YEAR, LIFE_EXP, POP, GDP_PERCAP\n",
        " * 3. SQLDeveloper의 데이터 임포트 기능을 사용해서 파일의 내용을 테이블에 임포트\n",
        " * 4. 테이블에는 모두 몇 개의 나라가 있을까요?\n",
        " * 5. 테이블에는 모두 몇 개의 대륙이 있을까요?\n",
        " * 6. 테이블에는 저장된 데이터는 몇년도부터 몇년도까지 조사한 내용일까요?\n",
        " * 7. 기대 수명이 최댓값인 레코드(row)를 찾으세요.\n",
        " * 8. 인구가 최댓값인 레코드(row)를 찾으세요.\n",
        " * 9. 1인당 GDP가 최댓값인 레코드(row)를 찾으세요.\n",
        " * 10. 우리나라의 통계 자료만 출력하세요.\n",
        " * 11. 연도별 1인당 GDP의 최댓값인 레코드를 찾으세요.\n",
        " * 12. 대륙별 1인당 GDP의 최댓값인 레코드를 찾으세요.\n",
        " * 13. 연도별, 대륙별 인구수를 출력하세요.\n",
        " *     인구수가 가장 많은 연도와 대륙은 어디인가요?\n",
        " * 14. 연도별, 대륙별 평균 수명의 평균을 출력하세요.\n",
        " *     기대 수명이 가장 긴 연도와 대륙은 어디인가요?\n",
        " * 15. 연도별, 대륙별 1인당 GDP의 평균을 출력하세요.\n",
        " *     1인당 GDP의 평균이 가장 큰 연도와 대륙은 어디인가요?\n",
        " * 16. 13번 문제의 결과에서 대륙이름이 컬럼이 되도록 출력하세요.\n",
        " * 17. 14번 문제의 결과에서 대륙이름이 컬럼이 되도록 출력하세요.\n",
        " * 18. 15번 문제의 결과에서 대륙이름이 컬럼이 되도록 출력하세요.\n",
        " */"
      ],
      "metadata": {
        "id": "rCAUCWYfVYg9"
      }
    },
    {
      "cell_type": "markdown",
      "source": [
        "# 데이터에 있는 나라의 갯수 출력"
      ],
      "metadata": {
        "id": "Lc38E3fBWLC9"
      }
    },
    {
      "cell_type": "code",
      "source": [
        "# 테이블에는 모두 몇 개의 나라가 있을까요?  142개\n",
        "print(len(gp_df.country.unique()))"
      ],
      "metadata": {
        "colab": {
          "base_uri": "https://localhost:8080/"
        },
        "id": "S5q-miWFVTDt",
        "outputId": "f64a0dbb-2f0c-4057-92ca-602020e5f290"
      },
      "execution_count": 6,
      "outputs": [
        {
          "output_type": "stream",
          "name": "stdout",
          "text": [
            "142\n"
          ]
        }
      ]
    },
    {
      "cell_type": "markdown",
      "source": [
        "# 데이터에 있는 대륙의 갯수 출력"
      ],
      "metadata": {
        "id": "CBfNmgrqXX0k"
      }
    },
    {
      "cell_type": "code",
      "source": [
        "# 테이블에는 모두 몇 개의 대륙이 있을까요?  5개\n",
        "print(gp_df.continent.unique())\n",
        "len(gp_df.continent.unique())"
      ],
      "metadata": {
        "colab": {
          "base_uri": "https://localhost:8080/"
        },
        "id": "JUerAmUPVk9M",
        "outputId": "294ee7c3-20d0-48ea-f0f1-482a2b890a2c"
      },
      "execution_count": 7,
      "outputs": [
        {
          "output_type": "stream",
          "name": "stdout",
          "text": [
            "['Asia' 'Europe' 'Africa' 'Americas' 'Oceania']\n"
          ]
        },
        {
          "output_type": "execute_result",
          "data": {
            "text/plain": [
              "5"
            ]
          },
          "metadata": {},
          "execution_count": 7
        }
      ]
    },
    {
      "cell_type": "markdown",
      "source": [
        "# 데이터의 조사 결과 년도를 출력"
      ],
      "metadata": {
        "id": "x8u8AHieXrNj"
      }
    },
    {
      "cell_type": "code",
      "source": [
        "# 테이블에는 저장된 데이터는 몇년도부터 몇년도까지 조사한 내용일까요?\n",
        "res = sorted(gp_df.year.unique())\n",
        "print(res) # 1952 ~ 2007년까지 5년 주기\n",
        "\n",
        "res2 = []\n",
        "for i in range(1952, 2012, 5):\n",
        "    res2.append(i)\n",
        "\n",
        "print(res2)"
      ],
      "metadata": {
        "colab": {
          "base_uri": "https://localhost:8080/"
        },
        "id": "MUnU7ffrVk5M",
        "outputId": "eab40d57-8088-4359-d2aa-99e1273b2b7e"
      },
      "execution_count": 8,
      "outputs": [
        {
          "output_type": "stream",
          "name": "stdout",
          "text": [
            "[np.int64(1952), np.int64(1957), np.int64(1962), np.int64(1967), np.int64(1972), np.int64(1977), np.int64(1982), np.int64(1987), np.int64(1992), np.int64(1997), np.int64(2002), np.int64(2007)]\n",
            "[1952, 1957, 1962, 1967, 1972, 1977, 1982, 1987, 1992, 1997, 2002, 2007]\n"
          ]
        }
      ]
    },
    {
      "cell_type": "code",
      "source": [
        "# 년도별 국가의 갯수\n",
        "sns.countplot(data=gp_df, x='year')\n",
        "plt.show()\n",
        "print(gp_df.groupby(by=['year']).country.count())"
      ],
      "metadata": {
        "colab": {
          "base_uri": "https://localhost:8080/",
          "height": 692
        },
        "id": "q4pbqWgLYJrk",
        "outputId": "c6a9a950-f1a4-4ecb-fb4f-2e5a3cb54529"
      },
      "execution_count": 9,
      "outputs": [
        {
          "output_type": "display_data",
          "data": {
            "text/plain": [
              "<Figure size 640x480 with 1 Axes>"
            ],
            "image/png": "[encoded data removed]"
          },
          "metadata": {}
        },
        {
          "output_type": "stream",
          "name": "stdout",
          "text": [
            "year\n",
            "1952    142\n",
            "1957    142\n",
            "1962    142\n",
            "1967    142\n",
            "1972    142\n",
            "1977    142\n",
            "1982    142\n",
            "1987    142\n",
            "1992    142\n",
            "1997    142\n",
            "2002    142\n",
            "2007    142\n",
            "Name: country, dtype: int64\n"
          ]
        }
      ]
    },
    {
      "cell_type": "markdown",
      "source": [
        "# 기대 수명이 최댓값인 레코드(row) 찾기"
      ],
      "metadata": {
        "id": "80AbL2HQZzpy"
      }
    },
    {
      "cell_type": "code",
      "source": [
        "# 기대 수명이 최댓값인 레코드(row)를 찾으세요.\n",
        "gp_df.lifeExp.max()     # 82.603\n",
        "\n",
        "print(gp_df[gp_df.lifeExp == 82.603])\n",
        "gp_df.iloc[803]"
      ],
      "metadata": {
        "colab": {
          "base_uri": "https://localhost:8080/",
          "height": 307
        },
        "id": "H_4mfnbJVk3M",
        "outputId": "ca7b7a17-0d60-42a5-eace-dfc772cccbb0"
      },
      "execution_count": 10,
      "outputs": [
        {
          "output_type": "stream",
          "name": "stdout",
          "text": [
            "    country continent  year  lifeExp        pop    gdpPercap\n",
            "803   Japan      Asia  2007   82.603  127467972  31656.06806\n"
          ]
        },
        {
          "output_type": "execute_result",
          "data": {
            "text/plain": [
              "country            Japan\n",
              "continent           Asia\n",
              "year                2007\n",
              "lifeExp           82.603\n",
              "pop            127467972\n",
              "gdpPercap    31656.06806\n",
              "Name: 803, dtype: object"
            ],
            "text/html": [
              "<div>\n",
              "<style scoped>\n",
              "    .dataframe tbody tr th:only-of-type {\n",
              "        vertical-align: middle;\n",
              "    }\n",
              "\n",
              "    .dataframe tbody tr th {\n",
              "        vertical-align: top;\n",
              "    }\n",
              "\n",
              "    .dataframe thead th {\n",
              "        text-align: right;\n",
              "    }\n",
              "</style>\n",
              "<table border=\"1\" class=\"dataframe\">\n",
              "  <thead>\n",
              "    <tr style=\"text-align: right;\">\n",
              "      <th></th>\n",
              "      <th>803</th>\n",
              "    </tr>\n",
              "  </thead>\n",
              "  <tbody>\n",
              "    <tr>\n",
              "      <th>country</th>\n",
              "      <td>Japan</td>\n",
              "    </tr>\n",
              "    <tr>\n",
              "      <th>continent</th>\n",
              "      <td>Asia</td>\n",
              "    </tr>\n",
              "    <tr>\n",
              "      <th>year</th>\n",
              "      <td>2007</td>\n",
              "    </tr>\n",
              "    <tr>\n",
              "      <th>lifeExp</th>\n",
              "      <td>82.603</td>\n",
              "    </tr>\n",
              "    <tr>\n",
              "      <th>pop</th>\n",
              "      <td>127467972</td>\n",
              "    </tr>\n",
              "    <tr>\n",
              "      <th>gdpPercap</th>\n",
              "      <td>31656.06806</td>\n",
              "    </tr>\n",
              "  </tbody>\n",
              "</table>\n",
              "</div><br><label><b>dtype:</b> object</label>"
            ]
          },
          "metadata": {},
          "execution_count": 10
        }
      ]
    },
    {
      "cell_type": "markdown",
      "source": [
        "# 인구가 최댓값인 레코드(row) 찾기"
      ],
      "metadata": {
        "id": "26bysTX8anSL"
      }
    },
    {
      "cell_type": "code",
      "source": [
        "# 인구가 최댓값인 레코드(row)를 찾으세요.\n",
        "gp_df['pop'].max()  # 1318683096\n",
        "\n",
        "print(gp_df[gp_df['pop'] == 1318683096])\n",
        "gp_df.iloc[299]"
      ],
      "metadata": {
        "colab": {
          "base_uri": "https://localhost:8080/",
          "height": 307
        },
        "id": "sCPn4xWMVk1f",
        "outputId": "4347e6b8-0cbb-4dc2-9a1d-bd3c343216c8"
      },
      "execution_count": 11,
      "outputs": [
        {
          "output_type": "stream",
          "name": "stdout",
          "text": [
            "    country continent  year  lifeExp         pop    gdpPercap\n",
            "299   China      Asia  2007   72.961  1318683096  4959.114854\n"
          ]
        },
        {
          "output_type": "execute_result",
          "data": {
            "text/plain": [
              "country            China\n",
              "continent           Asia\n",
              "year                2007\n",
              "lifeExp           72.961\n",
              "pop           1318683096\n",
              "gdpPercap    4959.114854\n",
              "Name: 299, dtype: object"
            ],
            "text/html": [
              "<div>\n",
              "<style scoped>\n",
              "    .dataframe tbody tr th:only-of-type {\n",
              "        vertical-align: middle;\n",
              "    }\n",
              "\n",
              "    .dataframe tbody tr th {\n",
              "        vertical-align: top;\n",
              "    }\n",
              "\n",
              "    .dataframe thead th {\n",
              "        text-align: right;\n",
              "    }\n",
              "</style>\n",
              "<table border=\"1\" class=\"dataframe\">\n",
              "  <thead>\n",
              "    <tr style=\"text-align: right;\">\n",
              "      <th></th>\n",
              "      <th>299</th>\n",
              "    </tr>\n",
              "  </thead>\n",
              "  <tbody>\n",
              "    <tr>\n",
              "      <th>country</th>\n",
              "      <td>China</td>\n",
              "    </tr>\n",
              "    <tr>\n",
              "      <th>continent</th>\n",
              "      <td>Asia</td>\n",
              "    </tr>\n",
              "    <tr>\n",
              "      <th>year</th>\n",
              "      <td>2007</td>\n",
              "    </tr>\n",
              "    <tr>\n",
              "      <th>lifeExp</th>\n",
              "      <td>72.961</td>\n",
              "    </tr>\n",
              "    <tr>\n",
              "      <th>pop</th>\n",
              "      <td>1318683096</td>\n",
              "    </tr>\n",
              "    <tr>\n",
              "      <th>gdpPercap</th>\n",
              "      <td>4959.114854</td>\n",
              "    </tr>\n",
              "  </tbody>\n",
              "</table>\n",
              "</div><br><label><b>dtype:</b> object</label>"
            ]
          },
          "metadata": {},
          "execution_count": 11
        }
      ]
    },
    {
      "cell_type": "markdown",
      "source": [
        "# 1인당 GDP가 최댓값인 레코드(row) 찾기"
      ],
      "metadata": {
        "id": "RY-cef2-a81K"
      }
    },
    {
      "cell_type": "code",
      "source": [
        "# 1인당 GDP가 최댓값인 레코드(row)를 찾으세요.\n",
        "gp_df.gdpPercap.max()   # 113523.1329\n",
        "\n",
        "print(gp_df[gp_df.gdpPercap == 113523.1329])\n",
        "gp_df.iloc[853]"
      ],
      "metadata": {
        "colab": {
          "base_uri": "https://localhost:8080/",
          "height": 307
        },
        "id": "SeqqoHdTVkzV",
        "outputId": "7e6cbff7-6789-41e5-87ff-034fcbdb2ed9"
      },
      "execution_count": 12,
      "outputs": [
        {
          "output_type": "stream",
          "name": "stdout",
          "text": [
            "    country continent  year  lifeExp     pop    gdpPercap\n",
            "853  Kuwait      Asia  1957   58.033  212846  113523.1329\n"
          ]
        },
        {
          "output_type": "execute_result",
          "data": {
            "text/plain": [
              "country           Kuwait\n",
              "continent           Asia\n",
              "year                1957\n",
              "lifeExp           58.033\n",
              "pop               212846\n",
              "gdpPercap    113523.1329\n",
              "Name: 853, dtype: object"
            ],
            "text/html": [
              "<div>\n",
              "<style scoped>\n",
              "    .dataframe tbody tr th:only-of-type {\n",
              "        vertical-align: middle;\n",
              "    }\n",
              "\n",
              "    .dataframe tbody tr th {\n",
              "        vertical-align: top;\n",
              "    }\n",
              "\n",
              "    .dataframe thead th {\n",
              "        text-align: right;\n",
              "    }\n",
              "</style>\n",
              "<table border=\"1\" class=\"dataframe\">\n",
              "  <thead>\n",
              "    <tr style=\"text-align: right;\">\n",
              "      <th></th>\n",
              "      <th>853</th>\n",
              "    </tr>\n",
              "  </thead>\n",
              "  <tbody>\n",
              "    <tr>\n",
              "      <th>country</th>\n",
              "      <td>Kuwait</td>\n",
              "    </tr>\n",
              "    <tr>\n",
              "      <th>continent</th>\n",
              "      <td>Asia</td>\n",
              "    </tr>\n",
              "    <tr>\n",
              "      <th>year</th>\n",
              "      <td>1957</td>\n",
              "    </tr>\n",
              "    <tr>\n",
              "      <th>lifeExp</th>\n",
              "      <td>58.033</td>\n",
              "    </tr>\n",
              "    <tr>\n",
              "      <th>pop</th>\n",
              "      <td>212846</td>\n",
              "    </tr>\n",
              "    <tr>\n",
              "      <th>gdpPercap</th>\n",
              "      <td>113523.1329</td>\n",
              "    </tr>\n",
              "  </tbody>\n",
              "</table>\n",
              "</div><br><label><b>dtype:</b> object</label>"
            ]
          },
          "metadata": {},
          "execution_count": 12
        }
      ]
    },
    {
      "cell_type": "markdown",
      "source": [
        "# 우리나라의 통계 자료만 출력"
      ],
      "metadata": {
        "id": "kxszzRRGbM66"
      }
    },
    {
      "cell_type": "code",
      "source": [
        "# 우리나라의 통계 자료만 출력하세요.\n",
        "gp_df[gp_df.country.str.startswith('K')]    # Korea, Rep.\n",
        "\n",
        "gp_df[gp_df.country == \"Korea, Rep.\"]"
      ],
      "metadata": {
        "colab": {
          "base_uri": "https://localhost:8080/",
          "height": 425
        },
        "id": "jB-HGdTHVkxM",
        "outputId": "6e324d72-8a71-455a-fb04-0d6d9d156b00"
      },
      "execution_count": 13,
      "outputs": [
        {
          "output_type": "execute_result",
          "data": {
            "text/plain": [
              "         country continent  year  lifeExp       pop     gdpPercap\n",
              "840  Korea, Rep.      Asia  1952   47.453  20947571   1030.592226\n",
              "841  Korea, Rep.      Asia  1957   52.681  22611552   1487.593537\n",
              "842  Korea, Rep.      Asia  1962   55.292  26420307   1536.344387\n",
              "843  Korea, Rep.      Asia  1967   57.716  30131000   2029.228142\n",
              "844  Korea, Rep.      Asia  1972   62.612  33505000   3030.876650\n",
              "845  Korea, Rep.      Asia  1977   64.766  36436000   4657.221020\n",
              "846  Korea, Rep.      Asia  1982   67.123  39326000   5622.942464\n",
              "847  Korea, Rep.      Asia  1987   69.810  41622000   8533.088805\n",
              "848  Korea, Rep.      Asia  1992   72.244  43805450  12104.278720\n",
              "849  Korea, Rep.      Asia  1997   74.647  46173816  15993.527960\n",
              "850  Korea, Rep.      Asia  2002   77.045  47969150  19233.988180\n",
              "851  Korea, Rep.      Asia  2007   78.623  49044790  23348.139730"
            ],
            "text/html": [
              "\n",
              "  <div id=\"df-17883a1e-0bec-493c-81c3-ed2b6f71796c\" class=\"colab-df-container\">\n",
              "    <div>\n",
              "<style scoped>\n",
              "    .dataframe tbody tr th:only-of-type {\n",
              "        vertical-align: middle;\n",
              "    }\n",
              "\n",
              "    .dataframe tbody tr th {\n",
              "        vertical-align: top;\n",
              "    }\n",
              "\n",
              "    .dataframe thead th {\n",
              "        text-align: right;\n",
              "    }\n",
              "</style>\n",
              "<table border=\"1\" class=\"dataframe\">\n",
              "  <thead>\n",
              "    <tr style=\"text-align: right;\">\n",
              "      <th></th>\n",
              "      <th>country</th>\n",
              "      <th>continent</th>\n",
              "      <th>year</th>\n",
              "      <th>lifeExp</th>\n",
              "      <th>pop</th>\n",
              "      <th>gdpPercap</th>\n",
              "    </tr>\n",
              "  </thead>\n",
              "  <tbody>\n",
              "    <tr>\n",
              "      <th>840</th>\n",
              "      <td>Korea, Rep.</td>\n",
              "      <td>Asia</td>\n",
              "      <td>1952</td>\n",
              "      <td>47.453</td>\n",
              "      <td>20947571</td>\n",
              "      <td>1030.592226</td>\n",
              "    </tr>\n",
              "    <tr>\n",
              "      <th>841</th>\n",
              "      <td>Korea, Rep.</td>\n",
              "      <td>Asia</td>\n",
              "      <td>1957</td>\n",
              "      <td>52.681</td>\n",
              "      <td>22611552</td>\n",
              "      <td>1487.593537</td>\n",
              "    </tr>\n",
              "    <tr>\n",
              "      <th>842</th>\n",
              "      <td>Korea, Rep.</td>\n",
              "      <td>Asia</td>\n",
              "      <td>1962</td>\n",
              "      <td>55.292</td>\n",
              "      <td>26420307</td>\n",
              "      <td>1536.344387</td>\n",
              "    </tr>\n",
              "    <tr>\n",
              "      <th>843</th>\n",
              "      <td>Korea, Rep.</td>\n",
              "      <td>Asia</td>\n",
              "      <td>1967</td>\n",
              "      <td>57.716</td>\n",
              "      <td>30131000</td>\n",
              "      <td>2029.228142</td>\n",
              "    </tr>\n",
              "    <tr>\n",
              "      <th>844</th>\n",
              "      <td>Korea, Rep.</td>\n",
              "      <td>Asia</td>\n",
              "      <td>1972</td>\n",
              "      <td>62.612</td>\n",
              "      <td>33505000</td>\n",
              "      <td>3030.876650</td>\n",
              "    </tr>\n",
              "    <tr>\n",
              "      <th>845</th>\n",
              "      <td>Korea, Rep.</td>\n",
              "      <td>Asia</td>\n",
              "      <td>1977</td>\n",
              "      <td>64.766</td>\n",
              "      <td>36436000</td>\n",
              "      <td>4657.221020</td>\n",
              "    </tr>\n",
              "    <tr>\n",
              "      <th>846</th>\n",
              "      <td>Korea, Rep.</td>\n",
              "      <td>Asia</td>\n",
              "      <td>1982</td>\n",
              "      <td>67.123</td>\n",
              "      <td>39326000</td>\n",
              "      <td>5622.942464</td>\n",
              "    </tr>\n",
              "    <tr>\n",
              "      <th>847</th>\n",
              "      <td>Korea, Rep.</td>\n",
              "      <td>Asia</td>\n",
              "      <td>1987</td>\n",
              "      <td>69.810</td>\n",
              "      <td>41622000</td>\n",
              "      <td>8533.088805</td>\n",
              "    </tr>\n",
              "    <tr>\n",
              "      <th>848</th>\n",
              "      <td>Korea, Rep.</td>\n",
              "      <td>Asia</td>\n",
              "      <td>1992</td>\n",
              "      <td>72.244</td>\n",
              "      <td>43805450</td>\n",
              "      <td>12104.278720</td>\n",
              "    </tr>\n",
              "    <tr>\n",
              "      <th>849</th>\n",
              "      <td>Korea, Rep.</td>\n",
              "      <td>Asia</td>\n",
              "      <td>1997</td>\n",
              "      <td>74.647</td>\n",
              "      <td>46173816</td>\n",
              "      <td>15993.527960</td>\n",
              "    </tr>\n",
              "    <tr>\n",
              "      <th>850</th>\n",
              "      <td>Korea, Rep.</td>\n",
              "      <td>Asia</td>\n",
              "      <td>2002</td>\n",
              "      <td>77.045</td>\n",
              "      <td>47969150</td>\n",
              "      <td>19233.988180</td>\n",
              "    </tr>\n",
              "    <tr>\n",
              "      <th>851</th>\n",
              "      <td>Korea, Rep.</td>\n",
              "      <td>Asia</td>\n",
              "      <td>2007</td>\n",
              "      <td>78.623</td>\n",
              "      <td>49044790</td>\n",
              "      <td>23348.139730</td>\n",
              "    </tr>\n",
              "  </tbody>\n",
              "</table>\n",
              "</div>\n",
              "    <div class=\"colab-df-buttons\">\n",
              "\n",
              "  <div class=\"colab-df-container\">\n",
              "    <button class=\"colab-df-convert\" onclick=\"convertToInteractive('df-17883a1e-0bec-493c-81c3-ed2b6f71796c')\"\n",
              "            title=\"Convert this dataframe to an interactive table.\"\n",
              "            style=\"display:none;\">\n",
              "\n",
              "  <svg xmlns=\"http://www.w3.org/2000/svg\" height=\"24px\" viewBox=\"0 -960 960 960\">\n",
              "    <path d=\"M120-120v-720h720v720H120Zm60-500h600v-160H180v160Zm220 220h160v-160H400v160Zm0 220h160v-160H400v160ZM180-400h160v-160H180v160Zm440 0h160v-160H620v160ZM180-180h160v-160H180v160Zm440 0h160v-160H620v160Z\"/>\n",
              "  </svg>\n",
              "    </button>\n",
              "\n",
              "  <style>\n",
              "    .colab-df-container {\n",
              "      display:flex;\n",
              "      gap: 12px;\n",
              "    }\n",
              "\n",
              "    .colab-df-convert {\n",
              "      background-color: #E8F0FE;\n",
              "      border: none;\n",
              "      border-radius: 50%;\n",
              "      cursor: pointer;\n",
              "      display: none;\n",
              "      fill: #1967D2;\n",
              "      height: 32px;\n",
              "      padding: 0 0 0 0;\n",
              "      width: 32px;\n",
              "    }\n",
              "\n",
              "    .colab-df-convert:hover {\n",
              "      background-color: #E2EBFA;\n",
              "      box-shadow: 0px 1px 2px rgba(60, 64, 67, 0.3), 0px 1px 3px 1px rgba(60, 64, 67, 0.15);\n",
              "      fill: #174EA6;\n",
              "    }\n",
              "\n",
              "    .colab-df-buttons div {\n",
              "      margin-bottom: 4px;\n",
              "    }\n",
              "\n",
              "    [theme=dark] .colab-df-convert {\n",
              "      background-color: #3B4455;\n",
              "      fill: #D2E3FC;\n",
              "    }\n",
              "\n",
              "    [theme=dark] .colab-df-convert:hover {\n",
              "      background-color: #434B5C;\n",
              "      box-shadow: 0px 1px 3px 1px rgba(0, 0, 0, 0.15);\n",
              "      filter: drop-shadow(0px 1px 2px rgba(0, 0, 0, 0.3));\n",
              "      fill: #FFFFFF;\n",
              "    }\n",
              "  </style>\n",
              "\n",
              "    <script>\n",
              "      const buttonEl =\n",
              "        document.querySelector('#df-17883a1e-0bec-493c-81c3-ed2b6f71796c button.colab-df-convert');\n",
              "      buttonEl.style.display =\n",
              "        google.colab.kernel.accessAllowed ? 'block' : 'none';\n",
              "\n",
              "      async function convertToInteractive(key) {\n",
              "        const element = document.querySelector('#df-17883a1e-0bec-493c-81c3-ed2b6f71796c');\n",
              "        const dataTable =\n",
              "          await google.colab.kernel.invokeFunction('convertToInteractive',\n",
              "                                                    [key], {});\n",
              "        if (!dataTable) return;\n",
              "\n",
              "        const docLinkHtml = 'Like what you see? Visit the ' +\n",
              "          '<a target=\"_blank\" href=https://colab.research.google.com/notebooks/data_table.ipynb>data table notebook</a>'\n",
              "          + ' to learn more about interactive tables.';\n",
              "        element.innerHTML = '';\n",
              "        dataTable['output_type'] = 'display_data';\n",
              "        await google.colab.output.renderOutput(dataTable, element);\n",
              "        const docLink = document.createElement('div');\n",
              "        docLink.innerHTML = docLinkHtml;\n",
              "        element.appendChild(docLink);\n",
              "      }\n",
              "    </script>\n",
              "  </div>\n",
              "\n",
              "\n",
              "    <div id=\"df-89e97b44-a1dd-47bc-87af-a7732ffc1518\">\n",
              "      <button class=\"colab-df-quickchart\" onclick=\"quickchart('df-89e97b44-a1dd-47bc-87af-a7732ffc1518')\"\n",
              "                title=\"Suggest charts\"\n",
              "                style=\"display:none;\">\n",
              "\n",
              "<svg xmlns=\"http://www.w3.org/2000/svg\" height=\"24px\"viewBox=\"0 0 24 24\"\n",
              "     width=\"24px\">\n",
              "    <g>\n",
              "        <path d=\"M19 3H5c-1.1 0-2 .9-2 2v14c0 1.1.9 2 2 2h14c1.1 0 2-.9 2-2V5c0-1.1-.9-2-2-2zM9 17H7v-7h2v7zm4 0h-2V7h2v10zm4 0h-2v-4h2v4z\"/>\n",
              "    </g>\n",
              "</svg>\n",
              "      </button>\n",
              "\n",
              "<style>\n",
              "  .colab-df-quickchart {\n",
              "      --bg-color: #E8F0FE;\n",
              "      --fill-color: #1967D2;\n",
              "      --hover-bg-color: #E2EBFA;\n",
              "      --hover-fill-color: #174EA6;\n",
              "      --disabled-fill-color: #AAA;\n",
              "      --disabled-bg-color: #DDD;\n",
              "  }\n",
              "\n",
              "  [theme=dark] .colab-df-quickchart {\n",
              "      --bg-color: #3B4455;\n",
              "      --fill-color: #D2E3FC;\n",
              "      --hover-bg-color: #434B5C;\n",
              "      --hover-fill-color: #FFFFFF;\n",
              "      --disabled-bg-color: #3B4455;\n",
              "      --disabled-fill-color: #666;\n",
              "  }\n",
              "\n",
              "  .colab-df-quickchart {\n",
              "    background-color: var(--bg-color);\n",
              "    border: none;\n",
              "    border-radius: 50%;\n",
              "    cursor: pointer;\n",
              "    display: none;\n",
              "    fill: var(--fill-color);\n",
              "    height: 32px;\n",
              "    padding: 0;\n",
              "    width: 32px;\n",
              "  }\n",
              "\n",
              "  .colab-df-quickchart:hover {\n",
              "    background-color: var(--hover-bg-color);\n",
              "    box-shadow: 0 1px 2px rgba(60, 64, 67, 0.3), 0 1px 3px 1px rgba(60, 64, 67, 0.15);\n",
              "    fill: var(--button-hover-fill-color);\n",
              "  }\n",
              "\n",
              "  .colab-df-quickchart-complete:disabled,\n",
              "  .colab-df-quickchart-complete:disabled:hover {\n",
              "    background-color: var(--disabled-bg-color);\n",
              "    fill: var(--disabled-fill-color);\n",
              "    box-shadow: none;\n",
              "  }\n",
              "\n",
              "  .colab-df-spinner {\n",
              "    border: 2px solid var(--fill-color);\n",
              "    border-color: transparent;\n",
              "    border-bottom-color: var(--fill-color);\n",
              "    animation:\n",
              "      spin 1s steps(1) infinite;\n",
              "  }\n",
              "\n",
              "  @keyframes spin {\n",
              "    0% {\n",
              "      border-color: transparent;\n",
              "      border-bottom-color: var(--fill-color);\n",
              "      border-left-color: var(--fill-color);\n",
              "    }\n",
              "    20% {\n",
              "      border-color: transparent;\n",
              "      border-left-color: var(--fill-color);\n",
              "      border-top-color: var(--fill-color);\n",
              "    }\n",
              "    30% {\n",
              "      border-color: transparent;\n",
              "      border-left-color: var(--fill-color);\n",
              "      border-top-color: var(--fill-color);\n",
              "      border-right-color: var(--fill-color);\n",
              "    }\n",
              "    40% {\n",
              "      border-color: transparent;\n",
              "      border-right-color: var(--fill-color);\n",
              "      border-top-color: var(--fill-color);\n",
              "    }\n",
              "    60% {\n",
              "      border-color: transparent;\n",
              "      border-right-color: var(--fill-color);\n",
              "    }\n",
              "    80% {\n",
              "      border-color: transparent;\n",
              "      border-right-color: var(--fill-color);\n",
              "      border-bottom-color: var(--fill-color);\n",
              "    }\n",
              "    90% {\n",
              "      border-color: transparent;\n",
              "      border-bottom-color: var(--fill-color);\n",
              "    }\n",
              "  }\n",
              "</style>\n",
              "\n",
              "      <script>\n",
              "        async function quickchart(key) {\n",
              "          const quickchartButtonEl =\n",
              "            document.querySelector('#' + key + ' button');\n",
              "          quickchartButtonEl.disabled = true;  // To prevent multiple clicks.\n",
              "          quickchartButtonEl.classList.add('colab-df-spinner');\n",
              "          try {\n",
              "            const charts = await google.colab.kernel.invokeFunction(\n",
              "                'suggestCharts', [key], {});\n",
              "          } catch (error) {\n",
              "            console.error('Error during call to suggestCharts:', error);\n",
              "          }\n",
              "          quickchartButtonEl.classList.remove('colab-df-spinner');\n",
              "          quickchartButtonEl.classList.add('colab-df-quickchart-complete');\n",
              "        }\n",
              "        (() => {\n",
              "          let quickchartButtonEl =\n",
              "            document.querySelector('#df-89e97b44-a1dd-47bc-87af-a7732ffc1518 button');\n",
              "          quickchartButtonEl.style.display =\n",
              "            google.colab.kernel.accessAllowed ? 'block' : 'none';\n",
              "        })();\n",
              "      </script>\n",
              "    </div>\n",
              "\n",
              "    </div>\n",
              "  </div>\n"
            ],
            "application/vnd.google.colaboratory.intrinsic+json": {
              "type": "dataframe",
              "summary": "{\n  \"name\": \"gp_df[gp_df\",\n  \"rows\": 12,\n  \"fields\": [\n    {\n      \"column\": \"country\",\n      \"properties\": {\n        \"dtype\": \"category\",\n        \"num_unique_values\": 1,\n        \"samples\": [\n          \"Korea, Rep.\"\n        ],\n        \"semantic_type\": \"\",\n        \"description\": \"\"\n      }\n    },\n    {\n      \"column\": \"continent\",\n      \"properties\": {\n        \"dtype\": \"category\",\n        \"num_unique_values\": 1,\n        \"samples\": [\n          \"Asia\"\n        ],\n        \"semantic_type\": \"\",\n        \"description\": \"\"\n      }\n    },\n    {\n      \"column\": \"year\",\n      \"properties\": {\n        \"dtype\": \"number\",\n        \"std\": 18,\n        \"min\": 1952,\n        \"max\": 2007,\n        \"num_unique_values\": 12,\n        \"samples\": [\n          2002\n        ],\n        \"semantic_type\": \"\",\n        \"description\": \"\"\n      }\n    },\n    {\n      \"column\": \"lifeExp\",\n      \"properties\": {\n        \"dtype\": \"number\",\n        \"std\": 10.07501728399149,\n        \"min\": 47.453,\n        \"max\": 78.623,\n        \"num_unique_values\": 12,\n        \"samples\": [\n          77.045\n        ],\n        \"semantic_type\": \"\",\n        \"description\": \"\"\n      }\n    },\n    {\n      \"column\": \"pop\",\n      \"properties\": {\n        \"dtype\": \"number\",\n        \"std\": 9797922,\n        \"min\": 20947571,\n        \"max\": 49044790,\n        \"num_unique_values\": 12,\n        \"samples\": [\n          47969150\n        ],\n        \"semantic_type\": \"\",\n        \"description\": \"\"\n      }\n    },\n    {\n      \"column\": \"gdpPercap\",\n      \"properties\": {\n        \"dtype\": \"number\",\n        \"std\": 7699.8036354814485,\n        \"min\": 1030.592226,\n        \"max\": 23348.13973,\n        \"num_unique_values\": 12,\n        \"samples\": [\n          19233.98818\n        ],\n        \"semantic_type\": \"\",\n        \"description\": \"\"\n      }\n    }\n  ]\n}"
            }
          },
          "metadata": {},
          "execution_count": 13
        }
      ]
    },
    {
      "cell_type": "code",
      "source": [
        "# 대한민국의 연도별 인구수\n",
        "# 대한민국의 연도별 gdp\n",
        "fig, ax = plt.subplots(ncols= 2, figsize=(15,10))\n",
        "\n",
        "sns.barplot(data=gp_df[gp_df.country == \"Korea, Rep.\"], x='year', y='pop', ax=ax[0])\n",
        "sns.histplot(data=gp_df[gp_df.country == \"Korea, Rep.\"], x='year', y='gdpPercap')\n",
        "plt.show()"
      ],
      "metadata": {
        "colab": {
          "base_uri": "https://localhost:8080/",
          "height": 785
        },
        "id": "p7X9MQzjcY4R",
        "outputId": "bb2e8967-6086-4730-817b-1edb219b1dad"
      },
      "execution_count": 14,
      "outputs": [
        {
          "output_type": "display_data",
          "data": {
            "text/plain": [
              "<Figure size 1500x1000 with 2 Axes>"
            ],
            "image/png": "[encoded data removed]"
          },
          "metadata": {}
        }
      ]
    },
    {
      "cell_type": "markdown",
      "source": [
        "# 연도별 1인당 GDP의 최댓값 레코드(row) 찾기"
      ],
      "metadata": {
        "id": "C_KPYtMRdBSq"
      }
    },
    {
      "cell_type": "code",
      "source": [
        "# 연도별 1인당 GDP의 최댓값인 레코드를 찾으세요.\n",
        "year_uni = []\n",
        "for y in gp_df.year.unique():       # year\n",
        "    year_uni.append(y)\n",
        "\n",
        "res_idx = []\n",
        "for res in year_uni:        # idx\n",
        "    res_idx.append(gp_df[(gp_df.year == res)].gdpPercap.idxmax())\n",
        "\n",
        "result = []\n",
        "for i in res_idx:       # result\n",
        "    result.append(gp_df.iloc[i])\n",
        "\n",
        "print(result)"
      ],
      "metadata": {
        "colab": {
          "base_uri": "https://localhost:8080/"
        },
        "id": "e4I__pqIVkvU",
        "outputId": "690554ce-d09e-41ef-a00b-c16dd219facc"
      },
      "execution_count": 68,
      "outputs": [
        {
          "output_type": "stream",
          "name": "stdout",
          "text": [
            "[country           Kuwait\n",
            "continent           Asia\n",
            "year                1952\n",
            "lifeExp           55.565\n",
            "pop               160000\n",
            "gdpPercap    108382.3529\n",
            "Name: 852, dtype: object, country           Kuwait\n",
            "continent           Asia\n",
            "year                1957\n",
            "lifeExp           58.033\n",
            "pop               212846\n",
            "gdpPercap    113523.1329\n",
            "Name: 853, dtype: object, country           Kuwait\n",
            "continent           Asia\n",
            "year                1962\n",
            "lifeExp            60.47\n",
            "pop               358266\n",
            "gdpPercap    95458.11176\n",
            "Name: 854, dtype: object, country           Kuwait\n",
            "continent           Asia\n",
            "year                1967\n",
            "lifeExp           64.624\n",
            "pop               575003\n",
            "gdpPercap    80894.88326\n",
            "Name: 855, dtype: object, country          Kuwait\n",
            "continent          Asia\n",
            "year               1972\n",
            "lifeExp          67.712\n",
            "pop              841934\n",
            "gdpPercap    109347.867\n",
            "Name: 856, dtype: object, country           Kuwait\n",
            "continent           Asia\n",
            "year                1977\n",
            "lifeExp           69.343\n",
            "pop              1140357\n",
            "gdpPercap    59265.47714\n",
            "Name: 857, dtype: object, country      Saudi Arabia\n",
            "continent            Asia\n",
            "year                 1982\n",
            "lifeExp            63.012\n",
            "pop              11254672\n",
            "gdpPercap     33693.17525\n",
            "Name: 1314, dtype: object, country          Norway\n",
            "continent        Europe\n",
            "year               1987\n",
            "lifeExp           75.89\n",
            "pop             4186147\n",
            "gdpPercap    31540.9748\n",
            "Name: 1147, dtype: object, country           Kuwait\n",
            "continent           Asia\n",
            "year                1992\n",
            "lifeExp            75.19\n",
            "pop              1418095\n",
            "gdpPercap    34932.91959\n",
            "Name: 860, dtype: object, country           Norway\n",
            "continent         Europe\n",
            "year                1997\n",
            "lifeExp            78.32\n",
            "pop              4405672\n",
            "gdpPercap    41283.16433\n",
            "Name: 1149, dtype: object, country           Norway\n",
            "continent         Europe\n",
            "year                2002\n",
            "lifeExp            79.05\n",
            "pop              4535591\n",
            "gdpPercap    44683.97525\n",
            "Name: 1150, dtype: object, country           Norway\n",
            "continent         Europe\n",
            "year                2007\n",
            "lifeExp           80.196\n",
            "pop              4627926\n",
            "gdpPercap    49357.19017\n",
            "Name: 1151, dtype: object]\n"
          ]
        }
      ]
    },
    {
      "cell_type": "markdown",
      "source": [
        "# 대륙별 1인당 GDP의 최댓값인 레코드(row) 찾기"
      ],
      "metadata": {
        "id": "9UYVPbIJdWzZ"
      }
    },
    {
      "cell_type": "code",
      "source": [
        "# 대륙별 1인당 GDP의 최댓값인 레코드를 찾으세요.\n",
        "con_res = []\n",
        "for i in gp_df.continent.unique():\n",
        "    con_res.append(i)       # unique continent\n",
        "\n",
        "\n",
        "idx_res = []\n",
        "for x in con_res:           # idx\n",
        "    idx_res.append(gp_df[gp_df.continent == x].gdpPercap.idxmax())\n",
        "\n",
        "result = []\n",
        "for y in idx_res:       # result\n",
        "    result.append(gp_df.iloc[y])\n",
        "\n",
        "print(result)"
      ],
      "metadata": {
        "colab": {
          "base_uri": "https://localhost:8080/"
        },
        "id": "Q7QrV36YVktU",
        "outputId": "bc143496-4d25-4c7d-eed5-4bbbd59d9cfc"
      },
      "execution_count": 85,
      "outputs": [
        {
          "output_type": "stream",
          "name": "stdout",
          "text": [
            "[country           Kuwait\n",
            "continent           Asia\n",
            "year                1957\n",
            "lifeExp           58.033\n",
            "pop               212846\n",
            "gdpPercap    113523.1329\n",
            "Name: 853, dtype: object, country           Norway\n",
            "continent         Europe\n",
            "year                2007\n",
            "lifeExp           80.196\n",
            "pop              4627926\n",
            "gdpPercap    49357.19017\n",
            "Name: 1151, dtype: object, country            Libya\n",
            "continent         Africa\n",
            "year                1977\n",
            "lifeExp           57.442\n",
            "pop              2721783\n",
            "gdpPercap    21951.21176\n",
            "Name: 905, dtype: object, country      United States\n",
            "continent         Americas\n",
            "year                  2007\n",
            "lifeExp             78.242\n",
            "pop              301139947\n",
            "gdpPercap      42951.65309\n",
            "Name: 1619, dtype: object, country        Australia\n",
            "continent        Oceania\n",
            "year                2007\n",
            "lifeExp           81.235\n",
            "pop             20434176\n",
            "gdpPercap    34435.36744\n",
            "Name: 71, dtype: object]\n"
          ]
        }
      ]
    },
    {
      "cell_type": "code",
      "source": [
        "연도별, 대륙별 인구수를 출력하세요.\n",
        "인구수가 가장 많은 연도와 대륙은 어디인가요?"
      ],
      "metadata": {
        "id": "JHuYazYWVkrM",
        "outputId": "527291b5-3027-483f-bcfc-6514c22190bd",
        "colab": {
          "base_uri": "https://localhost:8080/",
          "height": 106
        }
      },
      "execution_count": 17,
      "outputs": [
        {
          "output_type": "error",
          "ename": "SyntaxError",
          "evalue": "invalid syntax (ipython-input-17-816140571.py, line 1)",
          "traceback": [
            "\u001b[0;36m  File \u001b[0;32m\"/tmp/ipython-input-17-816140571.py\"\u001b[0;36m, line \u001b[0;32m1\u001b[0m\n\u001b[0;31m    연도별, 대륙별 인구수를 출력하세요.\u001b[0m\n\u001b[0m             ^\u001b[0m\n\u001b[0;31mSyntaxError\u001b[0m\u001b[0;31m:\u001b[0m invalid syntax\n"
          ]
        }
      ]
    },
    {
      "cell_type": "code",
      "source": [
        "연도별, 대륙별 평균 수명의 평균을 출력하세요.\n",
        "기대 수명이 가장 긴 연도와 대륙은 어디인가요?"
      ],
      "metadata": {
        "id": "fwnLZg04VkpE"
      },
      "execution_count": null,
      "outputs": []
    },
    {
      "cell_type": "code",
      "source": [
        "연도별, 대륙별 1인당 GDP의 평균을 출력하세요.\n",
        "1인당 GDP의 평균이 가장 큰 연도와 대륙은 어디인가요?"
      ],
      "metadata": {
        "id": "KPk23RN3VkjO"
      },
      "execution_count": null,
      "outputs": []
    },
    {
      "cell_type": "code",
      "source": [
        "13번 문제의 결과에서 대륙이름이 컬럼이 되도록 출력하세요."
      ],
      "metadata": {
        "id": "soIX4MdHVkTs"
      },
      "execution_count": null,
      "outputs": []
    },
    {
      "cell_type": "code",
      "source": [
        "14번 문제의 결과에서 대륙이름이 컬럼이 되도록 출력하세요."
      ],
      "metadata": {
        "id": "W7p4pH76V1t8"
      },
      "execution_count": null,
      "outputs": []
    },
    {
      "cell_type": "code",
      "source": [
        "15번 문제의 결과에서 대륙이름이 컬럼이 되도록 출력하세요."
      ],
      "metadata": {
        "id": "h2WmhSgeV1kU"
      },
      "execution_count": null,
      "outputs": []
    }
  ]
}