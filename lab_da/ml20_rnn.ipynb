{
  "nbformat": 4,
  "nbformat_minor": 0,
  "metadata": {
    "colab": {
      "provenance": [],
      "toc_visible": true,
      "machine_shape": "hm",
      "mount_file_id": "11GbUL5g4LAX-78wvM20mVVmP0-Sb1RB8",
      "authorship_tag": "ABX9TyNzSYvt8K02WeuwAS1X02z/",
      "include_colab_link": true
    },
    "kernelspec": {
      "name": "python3",
      "display_name": "Python 3"
    },
    "language_info": {
      "name": "python"
    }
  },
  "cells": [
    {
      "cell_type": "markdown",
      "metadata": {
        "id": "view-in-github",
        "colab_type": "text"
      },
      "source": [
        "<a href=\"https://colab.research.google.com/github/Sjleerodls/Data_Analysis/blob/main/lab_da/ml20_rnn.ipynb\" target=\"_parent\"><img src=\"https://colab.research.google.com/assets/colab-badge.svg\" alt=\"Open In Colab\"/></a>"
      ]
    },
    {
      "cell_type": "markdown",
      "source": [
        "# RNN(Recurrent Nueral Network, 순환 신경망)\n",
        "\n",
        "시계열 데이터, 자연어 처리 등에서 좋은 성능을 주는 신경망."
      ],
      "metadata": {
        "id": "9I1zruSBUX48"
      }
    },
    {
      "cell_type": "markdown",
      "source": [
        "# Imports"
      ],
      "metadata": {
        "id": "V1C73Wj7NUlZ"
      }
    },
    {
      "cell_type": "code",
      "execution_count": 108,
      "metadata": {
        "id": "6H_IEJhrUUh1"
      },
      "outputs": [],
      "source": [
        "import numpy as np\n",
        "import matplotlib.pyplot as plt\n",
        "import seaborn as sns\n",
        "import pandas as pd\n",
        "\n",
        "import tensorflow as tf\n",
        "import keras\n",
        "\n",
        "from sklearn.model_selection import train_test_split"
      ]
    },
    {
      "cell_type": "markdown",
      "source": [
        "# IMDB 데이터셋\n",
        "\n",
        "* imdb 사이트 사용자들의 영화 리뷰를 긍정(1), 부정(0)으로 분류한 데이터.\n",
        "* 25,000개 훈련 샘플과 25,000개 테스트 샘플.\n",
        "* 샘플마다 토큰(단어)의 개수가 다름 - 샘플마다 특성(feature)의 개수가 다름. -> 전처리"
      ],
      "metadata": {
        "id": "uQDF71KuNiPx"
      }
    },
    {
      "cell_type": "code",
      "source": [
        "(x_train_full, y_train_full), (x_test, y_test) = \\\n",
        "    keras.datasets.imdb.load_data(num_words=200)\n",
        "# num_words : 가장 자주 등장하는 단어 n개를 어휘 사전으로 사용."
      ],
      "metadata": {
        "id": "ln2kUdZUNdyb"
      },
      "execution_count": 109,
      "outputs": []
    },
    {
      "cell_type": "code",
      "source": [
        "x_train_full.shape"
      ],
      "metadata": {
        "colab": {
          "base_uri": "https://localhost:8080/"
        },
        "id": "Il4DUUq5N3za",
        "outputId": "0a0ec13f-2b81-4d4a-9843-528e81905d34"
      },
      "execution_count": 110,
      "outputs": [
        {
          "output_type": "execute_result",
          "data": {
            "text/plain": [
              "(25000,)"
            ]
          },
          "metadata": {},
          "execution_count": 110
        }
      ]
    },
    {
      "cell_type": "code",
      "source": [
        "x_test.shape"
      ],
      "metadata": {
        "colab": {
          "base_uri": "https://localhost:8080/"
        },
        "id": "X9n5rm3DN6_p",
        "outputId": "a4995db0-4800-4fe0-931b-d69f21b41dce"
      },
      "execution_count": 111,
      "outputs": [
        {
          "output_type": "execute_result",
          "data": {
            "text/plain": [
              "(25000,)"
            ]
          },
          "metadata": {},
          "execution_count": 111
        }
      ]
    },
    {
      "cell_type": "code",
      "source": [
        "y_train_full.shape"
      ],
      "metadata": {
        "colab": {
          "base_uri": "https://localhost:8080/"
        },
        "id": "zoWFIoPLN9bK",
        "outputId": "76101461-c544-4263-b0ae-ef70456b2486"
      },
      "execution_count": 112,
      "outputs": [
        {
          "output_type": "execute_result",
          "data": {
            "text/plain": [
              "(25000,)"
            ]
          },
          "metadata": {},
          "execution_count": 112
        }
      ]
    },
    {
      "cell_type": "code",
      "source": [
        "np.unique(y_train_full, return_counts=True)\n",
        "#> 훈련 셋에는 긍정/부정 리뷰가 각각 12,500개씩 포함"
      ],
      "metadata": {
        "colab": {
          "base_uri": "https://localhost:8080/"
        },
        "id": "bsjq8D4KN-7S",
        "outputId": "fb6947cb-5cc7-4c6e-ad71-0a254907efdc"
      },
      "execution_count": 113,
      "outputs": [
        {
          "output_type": "execute_result",
          "data": {
            "text/plain": [
              "(array([0, 1]), array([12500, 12500]))"
            ]
          },
          "metadata": {},
          "execution_count": 113
        }
      ]
    },
    {
      "cell_type": "code",
      "source": [
        "y_test.shape"
      ],
      "metadata": {
        "colab": {
          "base_uri": "https://localhost:8080/"
        },
        "id": "YdsYzozHOCzC",
        "outputId": "d8f4ad9b-70b3-4d49-877e-61c4181ef0f9"
      },
      "execution_count": 114,
      "outputs": [
        {
          "output_type": "execute_result",
          "data": {
            "text/plain": [
              "(25000,)"
            ]
          },
          "metadata": {},
          "execution_count": 114
        }
      ]
    },
    {
      "cell_type": "code",
      "source": [
        "np.unique(y_test, return_counts=True)\n",
        "#> 테스트 셋에서도 긍정/부정 리뷰가 각각 12,500개씩 포함."
      ],
      "metadata": {
        "colab": {
          "base_uri": "https://localhost:8080/"
        },
        "id": "eru1rht3OGxJ",
        "outputId": "5826f152-6428-4c4c-a8dd-20776ae7bdb5"
      },
      "execution_count": 115,
      "outputs": [
        {
          "output_type": "execute_result",
          "data": {
            "text/plain": [
              "(array([0, 1]), array([12500, 12500]))"
            ]
          },
          "metadata": {},
          "execution_count": 115
        }
      ]
    },
    {
      "cell_type": "markdown",
      "source": [
        "## 훈련 셋 탐색"
      ],
      "metadata": {
        "id": "aPxWtaqPOPg5"
      }
    },
    {
      "cell_type": "code",
      "source": [
        "print(x_train_full[0])\n",
        "#> 훈련 셋의 첫번째 샘플은 정수들을 원소로 갖는 파이썬 리스트."
      ],
      "metadata": {
        "colab": {
          "base_uri": "https://localhost:8080/"
        },
        "id": "w49MBpTDOJTJ",
        "outputId": "4739db88-5b35-4ea2-c0c5-6e8bd1054b1b"
      },
      "execution_count": 116,
      "outputs": [
        {
          "output_type": "stream",
          "name": "stdout",
          "text": [
            "[1, 14, 22, 16, 43, 2, 2, 2, 2, 65, 2, 2, 66, 2, 4, 173, 36, 2, 5, 25, 100, 43, 2, 112, 50, 2, 2, 9, 35, 2, 2, 5, 150, 4, 172, 112, 167, 2, 2, 2, 39, 4, 172, 2, 2, 17, 2, 38, 13, 2, 4, 192, 50, 16, 6, 147, 2, 19, 14, 22, 4, 2, 2, 2, 4, 22, 71, 87, 12, 16, 43, 2, 38, 76, 15, 13, 2, 4, 22, 17, 2, 17, 12, 16, 2, 18, 2, 5, 62, 2, 12, 8, 2, 8, 106, 5, 4, 2, 2, 16, 2, 66, 2, 33, 4, 130, 12, 16, 38, 2, 5, 25, 124, 51, 36, 135, 48, 25, 2, 33, 6, 22, 12, 2, 28, 77, 52, 5, 14, 2, 16, 82, 2, 8, 4, 107, 117, 2, 15, 2, 4, 2, 7, 2, 5, 2, 36, 71, 43, 2, 2, 26, 2, 2, 46, 7, 4, 2, 2, 13, 104, 88, 4, 2, 15, 2, 98, 32, 2, 56, 26, 141, 6, 194, 2, 18, 4, 2, 22, 21, 134, 2, 26, 2, 5, 144, 30, 2, 18, 51, 36, 28, 2, 92, 25, 104, 4, 2, 65, 16, 38, 2, 88, 12, 16, 2, 5, 16, 2, 113, 103, 32, 15, 16, 2, 19, 178, 32]\n"
          ]
        }
      ]
    },
    {
      "cell_type": "code",
      "source": [
        "print(type(x_train_full[0]))"
      ],
      "metadata": {
        "colab": {
          "base_uri": "https://localhost:8080/"
        },
        "id": "R3RfrQtWOWQx",
        "outputId": "4b8bd3fb-649b-457b-cfd8-fbc866df7d4a"
      },
      "execution_count": 117,
      "outputs": [
        {
          "output_type": "stream",
          "name": "stdout",
          "text": [
            "<class 'list'>\n"
          ]
        }
      ]
    },
    {
      "cell_type": "code",
      "source": [
        "print(len(x_train_full[0]))"
      ],
      "metadata": {
        "colab": {
          "base_uri": "https://localhost:8080/"
        },
        "id": "r672pIzLRgzb",
        "outputId": "3e5cf8ee-757b-4196-8a37-bcbf2c985354"
      },
      "execution_count": 118,
      "outputs": [
        {
          "output_type": "stream",
          "name": "stdout",
          "text": [
            "218\n"
          ]
        }
      ]
    },
    {
      "cell_type": "markdown",
      "source": [
        "훈련 셋의 첫번째 샘플은 정수 218개를 갖는 리스트(list)."
      ],
      "metadata": {
        "id": "aD9KIioZRkAK"
      }
    },
    {
      "cell_type": "code",
      "source": [
        "print(x_train_full[1])"
      ],
      "metadata": {
        "colab": {
          "base_uri": "https://localhost:8080/"
        },
        "id": "ctpEP1e_RjNy",
        "outputId": "0753f9cb-bba7-46a3-b155-20de1124f0f7"
      },
      "execution_count": 119,
      "outputs": [
        {
          "output_type": "stream",
          "name": "stdout",
          "text": [
            "[1, 194, 2, 194, 2, 78, 2, 5, 6, 2, 2, 2, 134, 26, 4, 2, 8, 118, 2, 14, 2, 20, 13, 119, 2, 189, 102, 5, 2, 110, 2, 21, 14, 69, 188, 8, 30, 23, 7, 4, 2, 126, 93, 4, 114, 9, 2, 2, 5, 2, 4, 116, 9, 35, 2, 4, 2, 9, 2, 2, 4, 118, 9, 4, 130, 2, 19, 4, 2, 5, 89, 29, 2, 46, 37, 4, 2, 9, 45, 43, 38, 2, 2, 2, 4, 2, 26, 2, 5, 163, 11, 2, 2, 4, 2, 9, 194, 2, 7, 2, 2, 2, 2, 148, 2, 2, 2, 15, 123, 125, 68, 2, 2, 15, 2, 165, 2, 98, 5, 4, 2, 9, 43, 2, 2, 15, 2, 120, 5, 120, 174, 11, 2, 175, 136, 50, 9, 2, 2, 2, 5, 2, 2, 2, 2, 5, 4, 2, 131, 152, 2, 18, 2, 32, 2, 2, 14, 9, 6, 2, 78, 22, 2, 64, 2, 9, 8, 168, 145, 23, 4, 2, 15, 16, 4, 2, 5, 28, 6, 52, 154, 2, 33, 89, 78, 2, 16, 145, 95]\n"
          ]
        }
      ]
    },
    {
      "cell_type": "code",
      "source": [
        "print(type(x_train_full[1]))"
      ],
      "metadata": {
        "colab": {
          "base_uri": "https://localhost:8080/"
        },
        "id": "BddyYCQ_Rqfj",
        "outputId": "ad541fe0-e9b0-46bf-e98c-72ef6133a208"
      },
      "execution_count": 120,
      "outputs": [
        {
          "output_type": "stream",
          "name": "stdout",
          "text": [
            "<class 'list'>\n"
          ]
        }
      ]
    },
    {
      "cell_type": "code",
      "source": [
        "print(len(x_train_full[1]))"
      ],
      "metadata": {
        "colab": {
          "base_uri": "https://localhost:8080/"
        },
        "id": "wr5TG3XHRu0a",
        "outputId": "239f8f20-76e4-4d56-ed8d-17c4139bff4d"
      },
      "execution_count": 121,
      "outputs": [
        {
          "output_type": "stream",
          "name": "stdout",
          "text": [
            "189\n"
          ]
        }
      ]
    },
    {
      "cell_type": "markdown",
      "source": [
        "훈련 셋의 두번째 샘플은 정수 189개를 갖는 리스트(list)."
      ],
      "metadata": {
        "id": "Tni8VOSIRxEB"
      }
    },
    {
      "cell_type": "markdown",
      "source": [
        "imdb 데이터 셋의 훈련 셋은 파이썬의 *리스트(list) 객체*를 원소로 갖는 **1차원 np.ndarray** 타입. 각각의 리스트들은 서로 다른 개수의 정수들을 포함하고 있음."
      ],
      "metadata": {
        "id": "pBpKIRTlR3RI"
      }
    },
    {
      "cell_type": "code",
      "source": [
        "for i in range(5):\n",
        "    print(f'인덱스-{i} 샘플의 토큰(단어) 개수 : {len(x_train_full[i])}')"
      ],
      "metadata": {
        "colab": {
          "base_uri": "https://localhost:8080/"
        },
        "id": "xZRBQypERwYT",
        "outputId": "8cd78560-3695-4cf8-c31e-f5b5580bc545"
      },
      "execution_count": 122,
      "outputs": [
        {
          "output_type": "stream",
          "name": "stdout",
          "text": [
            "인덱스-0 샘플의 토큰(단어) 개수 : 218\n",
            "인덱스-1 샘플의 토큰(단어) 개수 : 189\n",
            "인덱스-2 샘플의 토큰(단어) 개수 : 141\n",
            "인덱스-3 샘플의 토큰(단어) 개수 : 550\n",
            "인덱스-4 샘플의 토큰(단어) 개수 : 147\n"
          ]
        }
      ]
    },
    {
      "cell_type": "code",
      "source": [
        "# 훈련 셋에서 첫5개 샘플에서 나오는 첫 20개의 인코딩 숫자들.\n",
        "for i in range(5):\n",
        "    print(x_train_full[i][:20])"
      ],
      "metadata": {
        "colab": {
          "base_uri": "https://localhost:8080/"
        },
        "id": "I0-yrwA8UAcB",
        "outputId": "5f2e046d-7301-4f93-b0df-ac75be8b7e60"
      },
      "execution_count": 123,
      "outputs": [
        {
          "output_type": "stream",
          "name": "stdout",
          "text": [
            "[1, 14, 22, 16, 43, 2, 2, 2, 2, 65, 2, 2, 66, 2, 4, 173, 36, 2, 5, 25]\n",
            "[1, 194, 2, 194, 2, 78, 2, 5, 6, 2, 2, 2, 134, 26, 4, 2, 8, 118, 2, 14]\n",
            "[1, 14, 47, 8, 30, 31, 7, 4, 2, 108, 7, 4, 2, 54, 61, 2, 13, 71, 149, 14]\n",
            "[1, 4, 2, 2, 33, 2, 4, 2, 2, 111, 153, 103, 4, 2, 13, 70, 131, 67, 11, 61]\n",
            "[1, 2, 2, 7, 61, 113, 10, 10, 13, 2, 14, 20, 56, 33, 2, 18, 2, 88, 13, 2]\n"
          ]
        }
      ]
    },
    {
      "cell_type": "markdown",
      "source": [
        "각각의 영화 리뷰의 길이(사용된 단어 개수)가 다르다. 1차원 리스트의 원소들은 영어 단어에 매칭된 숫자들."
      ],
      "metadata": {
        "id": "FdPqU1ZPR_7h"
      }
    },
    {
      "cell_type": "code",
      "source": [
        "# word_index : 단어(word)를 키로 갖고, 그 단어의 인덱스(빈도수 순위)를 값으로 갖는 dict.\n",
        "# 영화 리뷰의 단어들을 숫자로 인코딩할 때 사용하기 위해서 만들어진 dict.\n",
        "# 숫자 인덱스는 데이터셋에 등장하는 빈도수에 따라서 결정.\n",
        "word_index = keras.datasets.imdb.get_word_index()"
      ],
      "metadata": {
        "id": "nkDyyKQlR_BD"
      },
      "execution_count": 124,
      "outputs": []
    },
    {
      "cell_type": "code",
      "source": [
        "print(type(word_index)) #> 단어(word)를 키로 갖고, 그 단어의 인덱스를 값으로 갖는 dict."
      ],
      "metadata": {
        "colab": {
          "base_uri": "https://localhost:8080/"
        },
        "id": "le4NxeFDSRt7",
        "outputId": "cc4829d9-f886-4790-cdea-aaf666b8a60f"
      },
      "execution_count": 125,
      "outputs": [
        {
          "output_type": "stream",
          "name": "stdout",
          "text": [
            "<class 'dict'>\n"
          ]
        }
      ]
    },
    {
      "cell_type": "code",
      "source": [
        "len(word_index) #> 88,584개 단어와 그 인덱스를 저장."
      ],
      "metadata": {
        "colab": {
          "base_uri": "https://localhost:8080/"
        },
        "id": "Jg7apKlzSW5S",
        "outputId": "49a5c14e-792a-46c4-8ccf-3e576a1d7e09"
      },
      "execution_count": 126,
      "outputs": [
        {
          "output_type": "execute_result",
          "data": {
            "text/plain": [
              "88584"
            ]
          },
          "metadata": {},
          "execution_count": 126
        }
      ]
    },
    {
      "cell_type": "code",
      "source": [
        "for i, (k, v) in enumerate(word_index.items()):\n",
        "    print(k, v)\n",
        "    if i == 5:\n",
        "        break"
      ],
      "metadata": {
        "colab": {
          "base_uri": "https://localhost:8080/"
        },
        "id": "R_CuZowWSX7y",
        "outputId": "60ce61f7-a919-4f1d-d33f-304a3ea72237"
      },
      "execution_count": 127,
      "outputs": [
        {
          "output_type": "stream",
          "name": "stdout",
          "text": [
            "fawn 34701\n",
            "tsukino 52006\n",
            "nunnery 52007\n",
            "sonja 16816\n",
            "vani 63951\n",
            "woods 1408\n"
          ]
        }
      ]
    },
    {
      "cell_type": "markdown",
      "source": [
        "인덱스를 단어로 디코딩하기 위해서는 단어의 인덱스를 키로 하고 단어를 값으로 갖는 dict가 있었으면..."
      ],
      "metadata": {
        "id": "geFJAiHnSdtR"
      }
    },
    {
      "cell_type": "code",
      "source": [
        "index_word = {v: k for k, v in word_index.items()}"
      ],
      "metadata": {
        "id": "butaesYAScOa"
      },
      "execution_count": 128,
      "outputs": []
    },
    {
      "cell_type": "code",
      "source": [
        "for i, (k, v) in enumerate(index_word.items()):\n",
        "    print(k, v)\n",
        "    if i == 5:\n",
        "        break"
      ],
      "metadata": {
        "colab": {
          "base_uri": "https://localhost:8080/"
        },
        "id": "dcN0hPltSlTj",
        "outputId": "9207eff7-6e47-413e-aa0c-d6befff36adc"
      },
      "execution_count": 129,
      "outputs": [
        {
          "output_type": "stream",
          "name": "stdout",
          "text": [
            "34701 fawn\n",
            "52006 tsukino\n",
            "52007 nunnery\n",
            "16816 sonja\n",
            "63951 vani\n",
            "1408 woods\n"
          ]
        }
      ]
    },
    {
      "cell_type": "code",
      "source": [
        "for i in range(1, 6):\n",
        "    print(index_word.get(i))"
      ],
      "metadata": {
        "colab": {
          "base_uri": "https://localhost:8080/"
        },
        "id": "9p5blNsISoXL",
        "outputId": "1b2756a9-01fd-445d-e448-e7bdec3155ce"
      },
      "execution_count": 130,
      "outputs": [
        {
          "output_type": "stream",
          "name": "stdout",
          "text": [
            "the\n",
            "and\n",
            "a\n",
            "of\n",
            "to\n"
          ]
        }
      ]
    },
    {
      "cell_type": "markdown",
      "source": [
        "각 단어의 인덱스들은 단어의 빈도수 순위를 의미. 인덱스 0은 패딩(padding)을 위한 숫자."
      ],
      "metadata": {
        "id": "rJh2ZlL_Ss_h"
      }
    },
    {
      "cell_type": "markdown",
      "source": [
        "영화 리뷰 샘플의 숫자들의 의미:\n",
        "*   0: 패딩(padding)\n",
        "*   1: 문장의 시작.\n",
        "*   2: load_data() 함수의 아규먼트 num_words에 포함되지 않은 단어들.\n",
        "*   3: word_index (또는 index_word)의 인덱스."
      ],
      "metadata": {
        "id": "enEjg14FS49R"
      }
    },
    {
      "cell_type": "code",
      "source": [
        "def decode_review(review):\n",
        "    # review : 숫자들의 리스트\n",
        "    return ' '.join([index_word.get(i-3, '?') for i in review])"
      ],
      "metadata": {
        "id": "eBGlBt1HSrsq"
      },
      "execution_count": 131,
      "outputs": []
    },
    {
      "cell_type": "code",
      "source": [
        "decode_review(x_train_full[0])"
      ],
      "metadata": {
        "colab": {
          "base_uri": "https://localhost:8080/",
          "height": 128
        },
        "id": "maznVVmaTE9R",
        "outputId": "e3c21a57-c6ea-4bfb-ad5c-4ac488485a80"
      },
      "execution_count": 132,
      "outputs": [
        {
          "output_type": "execute_result",
          "data": {
            "text/plain": [
              "\"? this film was just ? ? ? ? story ? ? really ? the part they ? and you could just ? being there ? ? is an ? ? and now the same being director ? ? ? from the same ? ? as ? so i ? the fact there was a real ? with this film the ? ? ? the film were great it was just ? so much that i ? the film as ? as it was ? for ? and would ? it to ? to watch and the ? ? was ? really ? at the end it was so ? and you know what they say if you ? at a film it ? have been good and this ? was also ? to the two little ? that ? the ? of ? and ? they were just ? ? are ? ? out of the ? ? i think because the ? that ? them all ? up are such a big ? for the ? film but these ? are ? and should be ? for what they have ? don't you think the ? story was so ? because it was ? and was ? life after all that was ? with us all\""
            ],
            "application/vnd.google.colaboratory.intrinsic+json": {
              "type": "string"
            }
          },
          "metadata": {},
          "execution_count": 132
        }
      ]
    },
    {
      "cell_type": "code",
      "source": [
        "decode_review(x_train_full[1])"
      ],
      "metadata": {
        "colab": {
          "base_uri": "https://localhost:8080/",
          "height": 109
        },
        "id": "HYS6pxYeTG6D",
        "outputId": "2cd7498b-986d-4f4d-bcea-6e03def3275f"
      },
      "execution_count": 133,
      "outputs": [
        {
          "output_type": "execute_result",
          "data": {
            "text/plain": [
              "\"? big ? big ? bad ? and a ? ? ? these are the ? to best ? this ? movie i love ? horror movies and ? seen ? but this had got to be on of the ? ever made the plot is ? ? and ? the acting is an ? the ? is ? ? the best is the end ? with the ? and how he ? out who the ? is it's just so ? ? ? the ? are ? and funny in ? ? the ? is big ? of ? ? ? ? those ? ? ? that show off their ? ? that ? actually ? them and the ? is just ? ? that ? over and over again in ? every scene there is ? ? ? and ? ? ? ? and the ? still doesn't ? for ? all ? ? this is a ? bad film ? only ? is to look back on the ? that was the ? and have a good old ? at how bad ? was back then\""
            ],
            "application/vnd.google.colaboratory.intrinsic+json": {
              "type": "string"
            }
          },
          "metadata": {},
          "execution_count": 133
        }
      ]
    },
    {
      "cell_type": "markdown",
      "source": [
        "### 각 샘플의 길이 분포\n",
        "\n",
        "각각의 영화 리뷰의 길이(포함된 단어 개수) 분포"
      ],
      "metadata": {
        "id": "G4EaH8mPXQGq"
      }
    },
    {
      "cell_type": "code",
      "source": [
        "review_lengths = pd.Series([len(x) for x in x_train_full])"
      ],
      "metadata": {
        "id": "4mHgJRkHTIva"
      },
      "execution_count": 134,
      "outputs": []
    },
    {
      "cell_type": "code",
      "source": [
        "review_lengths.describe()   # 기술 통계량"
      ],
      "metadata": {
        "colab": {
          "base_uri": "https://localhost:8080/",
          "height": 335
        },
        "id": "4lfm-WSdXnkL",
        "outputId": "b9d71808-e1fb-46e3-f2e5-19bbe2d0b8c3"
      },
      "execution_count": 135,
      "outputs": [
        {
          "output_type": "execute_result",
          "data": {
            "text/plain": [
              "count    25000.000000\n",
              "mean       238.713640\n",
              "std        176.497204\n",
              "min         11.000000\n",
              "25%        130.000000\n",
              "50%        178.000000\n",
              "75%        291.000000\n",
              "max       2494.000000\n",
              "dtype: float64"
            ],
            "text/html": [
              "<div>\n",
              "<style scoped>\n",
              "    .dataframe tbody tr th:only-of-type {\n",
              "        vertical-align: middle;\n",
              "    }\n",
              "\n",
              "    .dataframe tbody tr th {\n",
              "        vertical-align: top;\n",
              "    }\n",
              "\n",
              "    .dataframe thead th {\n",
              "        text-align: right;\n",
              "    }\n",
              "</style>\n",
              "<table border=\"1\" class=\"dataframe\">\n",
              "  <thead>\n",
              "    <tr style=\"text-align: right;\">\n",
              "      <th></th>\n",
              "      <th>0</th>\n",
              "    </tr>\n",
              "  </thead>\n",
              "  <tbody>\n",
              "    <tr>\n",
              "      <th>count</th>\n",
              "      <td>25000.000000</td>\n",
              "    </tr>\n",
              "    <tr>\n",
              "      <th>mean</th>\n",
              "      <td>238.713640</td>\n",
              "    </tr>\n",
              "    <tr>\n",
              "      <th>std</th>\n",
              "      <td>176.497204</td>\n",
              "    </tr>\n",
              "    <tr>\n",
              "      <th>min</th>\n",
              "      <td>11.000000</td>\n",
              "    </tr>\n",
              "    <tr>\n",
              "      <th>25%</th>\n",
              "      <td>130.000000</td>\n",
              "    </tr>\n",
              "    <tr>\n",
              "      <th>50%</th>\n",
              "      <td>178.000000</td>\n",
              "    </tr>\n",
              "    <tr>\n",
              "      <th>75%</th>\n",
              "      <td>291.000000</td>\n",
              "    </tr>\n",
              "    <tr>\n",
              "      <th>max</th>\n",
              "      <td>2494.000000</td>\n",
              "    </tr>\n",
              "  </tbody>\n",
              "</table>\n",
              "</div><br><label><b>dtype:</b> float64</label>"
            ]
          },
          "metadata": {},
          "execution_count": 135
        }
      ]
    },
    {
      "cell_type": "code",
      "source": [
        "review_lengths.hist(bins=20)   # 히스토그램\n",
        "plt.show()"
      ],
      "metadata": {
        "colab": {
          "base_uri": "https://localhost:8080/",
          "height": 430
        },
        "id": "quzG39mqXoKK",
        "outputId": "d519d91f-3c79-44f9-93dd-d7427ad489c1"
      },
      "execution_count": 136,
      "outputs": [
        {
          "output_type": "display_data",
          "data": {
            "text/plain": [
              "<Figure size 640x480 with 1 Axes>"
            ],
            "image/png": "[encoded data removed]"
          },
          "metadata": {}
        }
      ]
    },
    {
      "cell_type": "code",
      "source": [
        "review_lengths.plot.box()   #> outlier가 많은 분포.\n",
        "plt.show()"
      ],
      "metadata": {
        "colab": {
          "base_uri": "https://localhost:8080/",
          "height": 411
        },
        "id": "z0rf7qR2a7cL",
        "outputId": "ed89e6a2-54a2-4335-fd35-8a8b7624915f"
      },
      "execution_count": 137,
      "outputs": [
        {
          "output_type": "display_data",
          "data": {
            "text/plain": [
              "<Figure size 640x480 with 1 Axes>"
            ],
            "image/png": "[encoded data removed]"
          },
          "metadata": {}
        }
      ]
    },
    {
      "cell_type": "markdown",
      "source": [
        " 대부분의 리뷰에 사용된 단어의 개수는 300개 미만. 평균(238개)이 중앙값(178개)보다 많이 큰 이유는 사용된 단어의 개수가 매우 많은 리뷰들이 간혹 있기 때문에.\n",
        "\n",
        " 신경망을 훈련시키기 위해서는 모든 샘플들의 길이가 같아야 함.\n",
        "\n",
        " 샘플(영화 리뷰)마다 100개의 단어(토큰)만 사용. 길이가 100 이상인 샘플들은 잘라내고, 길이가 100 미만인 샘플들은 0으로 패딩을 추가."
      ],
      "metadata": {
        "id": "jlsjN9yXZbU9"
      }
    },
    {
      "cell_type": "markdown",
      "source": [
        "## Data wrangling\n",
        "\n",
        "(25,000, ) shape의 훈련/테스트 셋을 (25_000, 100) shape으로 변환.\n",
        "\n",
        "`keras.preprocessing.sequence.pad_sequence()` 함수의 파라미터 :\n",
        "* sequences : 변환할 데이터\n",
        "* maxlen : 각 샘플의 최대 길이.\n",
        "* padding : 샘플의 길이가 maxlen보다 짧을 때 패딩을 넣을 위치. 기본값은 'pre'. 기본값은 패딩(0)을 시퀀스의 앞쪽에 채움.\n",
        "* truncating : 샘플의 길이가 maxlen보다 길 때 샘플을 자르는 위치. 기본값은 'pre', 기본값은 시퀀스의 앞쪽을 자름.\n",
        "* 순환신경망을 사용할 때 padding과 truncating은 모두 'pre' 방식을 선호."
      ],
      "metadata": {
        "id": "LPM1VKY8f9Im"
      }
    },
    {
      "cell_type": "code",
      "source": [
        "x_train_full_seq = keras.preprocessing.sequence.pad_sequences(sequences=x_train_full,\n",
        "                                                              maxlen=100)"
      ],
      "metadata": {
        "id": "OTsfChzoYntC"
      },
      "execution_count": 138,
      "outputs": []
    },
    {
      "cell_type": "code",
      "source": [
        "x_train_full_seq.shape  #> (n_samples, n_tokens)"
      ],
      "metadata": {
        "colab": {
          "base_uri": "https://localhost:8080/"
        },
        "id": "aVF_3A9phfK0",
        "outputId": "6628c9fb-bea7-4bee-dea3-36cfe4ba7b3f"
      },
      "execution_count": 139,
      "outputs": [
        {
          "output_type": "execute_result",
          "data": {
            "text/plain": [
              "(25000, 100)"
            ]
          },
          "metadata": {},
          "execution_count": 139
        }
      ]
    },
    {
      "cell_type": "code",
      "source": [
        "x_test_seq = keras.preprocessing.sequence.pad_sequences(sequences=x_test,\n",
        "                                                        maxlen=100)"
      ],
      "metadata": {
        "id": "fpStwZ4choFt"
      },
      "execution_count": 140,
      "outputs": []
    },
    {
      "cell_type": "code",
      "source": [
        "x_test_seq.shape"
      ],
      "metadata": {
        "colab": {
          "base_uri": "https://localhost:8080/"
        },
        "id": "Ulq3IFnfh_c1",
        "outputId": "2a41c45f-8dc0-4f23-c6e7-76db4c7148e0"
      },
      "execution_count": 141,
      "outputs": [
        {
          "output_type": "execute_result",
          "data": {
            "text/plain": [
              "(25000, 100)"
            ]
          },
          "metadata": {},
          "execution_count": 141
        }
      ]
    },
    {
      "cell_type": "code",
      "source": [
        "print(x_train_full_seq[0])"
      ],
      "metadata": {
        "colab": {
          "base_uri": "https://localhost:8080/"
        },
        "id": "vhFfdd5qiBHE",
        "outputId": "c86470f1-ab97-4f71-8004-09772f832cc1"
      },
      "execution_count": 142,
      "outputs": [
        {
          "output_type": "stream",
          "name": "stdout",
          "text": [
            "[  2  33   6  22  12   2  28  77  52   5  14   2  16  82   2   8   4 107\n",
            " 117   2  15   2   4   2   7   2   5   2  36  71  43   2   2  26   2   2\n",
            "  46   7   4   2   2  13 104  88   4   2  15   2  98  32   2  56  26 141\n",
            "   6 194   2  18   4   2  22  21 134   2  26   2   5 144  30   2  18  51\n",
            "  36  28   2  92  25 104   4   2  65  16  38   2  88  12  16   2   5  16\n",
            "   2 113 103  32  15  16   2  19 178  32]\n"
          ]
        }
      ]
    },
    {
      "cell_type": "code",
      "source": [
        "type(x_train_full_seq)"
      ],
      "metadata": {
        "colab": {
          "base_uri": "https://localhost:8080/"
        },
        "id": "wSW2uxUblYQM",
        "outputId": "ca320d6a-8ac6-4bb3-c49d-a67b25aca2da"
      },
      "execution_count": 143,
      "outputs": [
        {
          "output_type": "execute_result",
          "data": {
            "text/plain": [
              "numpy.ndarray"
            ]
          },
          "metadata": {},
          "execution_count": 143
        }
      ]
    },
    {
      "cell_type": "code",
      "source": [
        "print(x_train_full[0][-100:])    # 첫번째 샘플의 마지막 100개 토큰.\n",
        "#> truncating = 'pre' : 원본 샘플의 앞쪽을 잘라서 버림."
      ],
      "metadata": {
        "colab": {
          "base_uri": "https://localhost:8080/"
        },
        "id": "LCxmgz2LkwQO",
        "outputId": "5a49438c-497c-4b58-cdc9-56bb522666fb"
      },
      "execution_count": 144,
      "outputs": [
        {
          "output_type": "stream",
          "name": "stdout",
          "text": [
            "[2, 33, 6, 22, 12, 2, 28, 77, 52, 5, 14, 2, 16, 82, 2, 8, 4, 107, 117, 2, 15, 2, 4, 2, 7, 2, 5, 2, 36, 71, 43, 2, 2, 26, 2, 2, 46, 7, 4, 2, 2, 13, 104, 88, 4, 2, 15, 2, 98, 32, 2, 56, 26, 141, 6, 194, 2, 18, 4, 2, 22, 21, 134, 2, 26, 2, 5, 144, 30, 2, 18, 51, 36, 28, 2, 92, 25, 104, 4, 2, 65, 16, 38, 2, 88, 12, 16, 2, 5, 16, 2, 113, 103, 32, 15, 16, 2, 19, 178, 32]\n"
          ]
        }
      ]
    },
    {
      "cell_type": "code",
      "source": [
        "type(x_train_full)"
      ],
      "metadata": {
        "colab": {
          "base_uri": "https://localhost:8080/"
        },
        "id": "JJmSl7-QlaZt",
        "outputId": "6402cc3b-ab00-4be2-b259-bb5c97787a6f"
      },
      "execution_count": 145,
      "outputs": [
        {
          "output_type": "execute_result",
          "data": {
            "text/plain": [
              "numpy.ndarray"
            ]
          },
          "metadata": {},
          "execution_count": 145
        }
      ]
    },
    {
      "cell_type": "code",
      "source": [
        "for i in range(25_000):\n",
        "    if x_train_full_seq[i, 0] == 0:\n",
        "        print(f'i = {i}')\n",
        "        print(x_train_full_seq[i])\n",
        "        break"
      ],
      "metadata": {
        "colab": {
          "base_uri": "https://localhost:8080/"
        },
        "id": "dUAedYEvlJXV",
        "outputId": "db9ca6b6-1278-4606-b317-6af7542d68ee"
      },
      "execution_count": 146,
      "outputs": [
        {
          "output_type": "stream",
          "name": "stdout",
          "text": [
            "i = 5\n",
            "[  0   0   0   0   0   0   0   0   0   0   0   0   0   0   0   0   0   0\n",
            "   0   0   0   0   0   0   0   0   0   0   0   0   0   0   0   0   0   0\n",
            "   0   0   0   0   0   0   0   0   0   0   0   0   0   0   0   0   0   0\n",
            "   0   0   0   1   2 128  74  12   2 163  15   4   2   2   2   2  32  85\n",
            " 156  45  40 148 139 121   2   2  10  10   2 173   4   2   2  16   2   8\n",
            "   4   2  65  12  43 127  24   2  10  10]\n"
          ]
        }
      ]
    },
    {
      "cell_type": "code",
      "source": [
        "print(x_train_full[5])\n",
        "#> padding='pre' : 시퀀스의 길이를 100으로 만들기 위해서 원본 샘플의 앞쪽에 0을 채움."
      ],
      "metadata": {
        "colab": {
          "base_uri": "https://localhost:8080/"
        },
        "id": "0gvDdH8Jl9z1",
        "outputId": "e3ddffde-184c-4bd4-d704-16a15b9bdaa2"
      },
      "execution_count": 147,
      "outputs": [
        {
          "output_type": "stream",
          "name": "stdout",
          "text": [
            "[1, 2, 128, 74, 12, 2, 163, 15, 4, 2, 2, 2, 2, 32, 85, 156, 45, 40, 148, 139, 121, 2, 2, 10, 10, 2, 173, 4, 2, 2, 16, 2, 8, 4, 2, 65, 12, 43, 127, 24, 2, 10, 10]\n"
          ]
        }
      ]
    },
    {
      "cell_type": "markdown",
      "source": [
        "# RNN"
      ],
      "metadata": {
        "id": "cLMXH-MFnar1"
      }
    },
    {
      "cell_type": "markdown",
      "source": [
        "* FFNN(Feed-Forward Neural Network) : 데이터의 흐름이 앞으로만 전달되는 신경망\n",
        "    * 완전 연결 신경망\n",
        "    * 합성곱 신경망(CNN, Convolutional Neural Network)\n",
        "* RNN(Recurrent Neural Network) : 순환 신경망\n",
        "    * 순차 데이터(sequencial data) : 순환 신경망에서 사용하는 데이터. 텍스트(문장) 또는 시계열 데이터와 같이 순서가 의미가 있는 데이터.\n",
        "    * timestep : 샘플을 처리하는 한 단계. 시퀀스의 각 원소.\n",
        "    * cell(셀) : 순환 신경망 층(recurrent layer)\n",
        "    * hidden state(은닉 상태) : 셀의 출력(output)\n",
        "    * sequence(시퀀스) : 순환 신경망에서 사용하는 하나의 샘플.\n",
        "    * 자연어 처리(NLP, Natural Language Processing)와 같은 경우에 특정 단어가 다른 단어보다 더 중요할 이유는 없음. 단어가 정수로 인코딩된 값의 대소가 중요하지 않음. 인코딩된 정수가 신경망으로 주입되면 안됨.\n",
        "        * 정수를 one-hot encoding으로 변환.\n",
        "            * 단점 : 계산량이 많아지고 메모리를 많이 사용함.\n",
        "        * 정수를 word-embedding으로 변환.\n",
        "            * one-hot encoding의 단점을 보완.\n",
        "            * 정수 1개를 몇 개의 실수들로 인코딩하는 방법."
      ],
      "metadata": {
        "id": "PmCXXfGAnc-d"
      }
    },
    {
      "cell_type": "markdown",
      "source": [
        "## One-Hot Encoding을 사용한 RNN"
      ],
      "metadata": {
        "id": "hgjamaK4KlIJ"
      }
    },
    {
      "cell_type": "code",
      "source": [
        "x_train_full_1h = keras.utils.to_categorical(x=x_train_full_seq)"
      ],
      "metadata": {
        "id": "V8m9VzBtmDPc"
      },
      "execution_count": 148,
      "outputs": []
    },
    {
      "cell_type": "code",
      "source": [
        "x_train_full_1h.shape   # (n_samples, n_timesteps, n_classes)"
      ],
      "metadata": {
        "colab": {
          "base_uri": "https://localhost:8080/"
        },
        "id": "ezqWPYafLWaK",
        "outputId": "6b8733ee-4248-4d02-b2d1-05f5d73d37e6"
      },
      "execution_count": 149,
      "outputs": [
        {
          "output_type": "execute_result",
          "data": {
            "text/plain": [
              "(25000, 100, 200)"
            ]
          },
          "metadata": {},
          "execution_count": 149
        }
      ]
    },
    {
      "cell_type": "code",
      "source": [
        "x_test_1h = keras.utils.to_categorical(x=x_test_seq)"
      ],
      "metadata": {
        "id": "PXnsZOuULYS6"
      },
      "execution_count": 150,
      "outputs": []
    },
    {
      "cell_type": "code",
      "source": [
        "x_test_1h.shape     # (n_samples, n_timesteps, n_classes)"
      ],
      "metadata": {
        "colab": {
          "base_uri": "https://localhost:8080/"
        },
        "id": "keB9OA1nLjtf",
        "outputId": "ae1a24ad-65d4-4ed7-e0b0-eab9d90dc046"
      },
      "execution_count": 151,
      "outputs": [
        {
          "output_type": "execute_result",
          "data": {
            "text/plain": [
              "(25000, 100, 200)"
            ]
          },
          "metadata": {},
          "execution_count": 151
        }
      ]
    },
    {
      "cell_type": "code",
      "source": [
        "x_train_full_1h[0, 0]   # 첫번째 샘플(리뷰)의 첫번째 타임스텝(단어)의 1-hot 인코딩."
      ],
      "metadata": {
        "colab": {
          "base_uri": "https://localhost:8080/"
        },
        "id": "eha2_6TjLl93",
        "outputId": "e524031f-8531-48bb-8059-cf4c873f7391"
      },
      "execution_count": 152,
      "outputs": [
        {
          "output_type": "execute_result",
          "data": {
            "text/plain": [
              "array([0., 0., 1., 0., 0., 0., 0., 0., 0., 0., 0., 0., 0., 0., 0., 0., 0.,\n",
              "       0., 0., 0., 0., 0., 0., 0., 0., 0., 0., 0., 0., 0., 0., 0., 0., 0.,\n",
              "       0., 0., 0., 0., 0., 0., 0., 0., 0., 0., 0., 0., 0., 0., 0., 0., 0.,\n",
              "       0., 0., 0., 0., 0., 0., 0., 0., 0., 0., 0., 0., 0., 0., 0., 0., 0.,\n",
              "       0., 0., 0., 0., 0., 0., 0., 0., 0., 0., 0., 0., 0., 0., 0., 0., 0.,\n",
              "       0., 0., 0., 0., 0., 0., 0., 0., 0., 0., 0., 0., 0., 0., 0., 0., 0.,\n",
              "       0., 0., 0., 0., 0., 0., 0., 0., 0., 0., 0., 0., 0., 0., 0., 0., 0.,\n",
              "       0., 0., 0., 0., 0., 0., 0., 0., 0., 0., 0., 0., 0., 0., 0., 0., 0.,\n",
              "       0., 0., 0., 0., 0., 0., 0., 0., 0., 0., 0., 0., 0., 0., 0., 0., 0.,\n",
              "       0., 0., 0., 0., 0., 0., 0., 0., 0., 0., 0., 0., 0., 0., 0., 0., 0.,\n",
              "       0., 0., 0., 0., 0., 0., 0., 0., 0., 0., 0., 0., 0., 0., 0., 0., 0.,\n",
              "       0., 0., 0., 0., 0., 0., 0., 0., 0., 0., 0., 0., 0.])"
            ]
          },
          "metadata": {},
          "execution_count": 152
        }
      ]
    },
    {
      "cell_type": "code",
      "source": [
        "# 전체 훈련 셋을 훈련/검증 셋으로 분리\n",
        "x_train, x_val, y_train, y_val = train_test_split(x_train_full_1h, y_train_full,\n",
        "                                                  test_size=0.2,\n",
        "                                                  random_state=42,\n",
        "                                                  stratify=y_train_full)"
      ],
      "metadata": {
        "id": "BoVtUmlnL7hL"
      },
      "execution_count": 153,
      "outputs": []
    },
    {
      "cell_type": "code",
      "source": [
        "print(x_train.shape)\n",
        "print(y_train.shape)\n",
        "print(x_val.shape)\n",
        "print(y_val.shape)"
      ],
      "metadata": {
        "colab": {
          "base_uri": "https://localhost:8080/"
        },
        "id": "b4qOw6kVNQho",
        "outputId": "ea379d94-ba48-4fd8-e825-912a6eb77ff1"
      },
      "execution_count": 154,
      "outputs": [
        {
          "output_type": "stream",
          "name": "stdout",
          "text": [
            "(20000, 100, 200)\n",
            "(20000,)\n",
            "(5000, 100, 200)\n",
            "(5000,)\n"
          ]
        }
      ]
    },
    {
      "cell_type": "markdown",
      "source": [
        "## Word Embedding을 사용한 RNN\n",
        "\n",
        "keras.layers.Embedding 객체를 사용."
      ],
      "metadata": {
        "id": "Fm8FkRD8N20-"
      }
    },
    {
      "cell_type": "code",
      "source": [
        "x_train, x_val, y_train, y_val = train_test_split(x_train_full_seq, y_train_full,\n",
        "                                                  test_size=0.2,\n",
        "                                                  random_state=42,\n",
        "                                                  stratify=y_train_full)"
      ],
      "metadata": {
        "id": "5Afp9LgUNgvP"
      },
      "execution_count": 155,
      "outputs": []
    },
    {
      "cell_type": "code",
      "source": [
        "x_train.shape   #> (n_samples, n_timesteps)"
      ],
      "metadata": {
        "colab": {
          "base_uri": "https://localhost:8080/"
        },
        "id": "X2QXj9RmO3cc",
        "outputId": "e4baf784-c2d6-4e80-dd73-113b12024a1c"
      },
      "execution_count": 156,
      "outputs": [
        {
          "output_type": "execute_result",
          "data": {
            "text/plain": [
              "(20000, 100)"
            ]
          },
          "metadata": {},
          "execution_count": 156
        }
      ]
    },
    {
      "cell_type": "code",
      "source": [
        "x_val.shape     #> (n_samples, n_timesteps)"
      ],
      "metadata": {
        "colab": {
          "base_uri": "https://localhost:8080/"
        },
        "id": "VMMfsjL9O6ic",
        "outputId": "50d53f21-7922-45fb-a280-90a9feebf97e"
      },
      "execution_count": 157,
      "outputs": [
        {
          "output_type": "execute_result",
          "data": {
            "text/plain": [
              "(5000, 100)"
            ]
          },
          "metadata": {},
          "execution_count": 157
        }
      ]
    },
    {
      "cell_type": "code",
      "source": [
        "tf.random.set_seed(42)\n",
        "np.random.seed(42)\n",
        "\n",
        "rnn_1 = keras.Sequential(layers=[\n",
        "    keras.Input(shape=(100, )),     # 입력층\n",
        "    keras.layers.Embedding(input_dim=200, output_dim=16),   # 단어 임베딩 계층\n",
        "    keras.layers.SimpleRNN(units=8),    # 순환 계층\n",
        "    keras.layers.Dense(units=1, activation='sigmoid')   # 출력층\n",
        "])"
      ],
      "metadata": {
        "id": "6mvrHkW7PMKc"
      },
      "execution_count": 158,
      "outputs": []
    },
    {
      "cell_type": "code",
      "source": [
        "rnn_1.summary()"
      ],
      "metadata": {
        "colab": {
          "base_uri": "https://localhost:8080/",
          "height": 234
        },
        "id": "cQgU_9LeQ9cg",
        "outputId": "0cdbe1ec-62e2-4172-e225-6e92b1a8b106"
      },
      "execution_count": 159,
      "outputs": [
        {
          "output_type": "display_data",
          "data": {
            "text/plain": [
              "\u001b[1mModel: \"sequential_4\"\u001b[0m\n"
            ],
            "text/html": [
              "<pre style=\"white-space:pre;overflow-x:auto;line-height:normal;font-family:Menlo,'DejaVu Sans Mono',consolas,'Courier New',monospace\"><span style=\"font-weight: bold\">Model: \"sequential_4\"</span>\n",
              "</pre>\n"
            ]
          },
          "metadata": {}
        },
        {
          "output_type": "display_data",
          "data": {
            "text/plain": [
              "┏━━━━━━━━━━━━━━━━━━━━━━━━━━━━━━━━━┳━━━━━━━━━━━━━━━━━━━━━━━━┳━━━━━━━━━━━━━━━┓\n",
              "┃\u001b[1m \u001b[0m\u001b[1mLayer (type)                   \u001b[0m\u001b[1m \u001b[0m┃\u001b[1m \u001b[0m\u001b[1mOutput Shape          \u001b[0m\u001b[1m \u001b[0m┃\u001b[1m \u001b[0m\u001b[1m      Param #\u001b[0m\u001b[1m \u001b[0m┃\n",
              "┡━━━━━━━━━━━━━━━━━━━━━━━━━━━━━━━━━╇━━━━━━━━━━━━━━━━━━━━━━━━╇━━━━━━━━━━━━━━━┩\n",
              "│ embedding_4 (\u001b[38;5;33mEmbedding\u001b[0m)         │ (\u001b[38;5;45mNone\u001b[0m, \u001b[38;5;34m100\u001b[0m, \u001b[38;5;34m16\u001b[0m)        │         \u001b[38;5;34m3,200\u001b[0m │\n",
              "├─────────────────────────────────┼────────────────────────┼───────────────┤\n",
              "│ simple_rnn_4 (\u001b[38;5;33mSimpleRNN\u001b[0m)        │ (\u001b[38;5;45mNone\u001b[0m, \u001b[38;5;34m8\u001b[0m)              │           \u001b[38;5;34m200\u001b[0m │\n",
              "├─────────────────────────────────┼────────────────────────┼───────────────┤\n",
              "│ dense_4 (\u001b[38;5;33mDense\u001b[0m)                 │ (\u001b[38;5;45mNone\u001b[0m, \u001b[38;5;34m1\u001b[0m)              │             \u001b[38;5;34m9\u001b[0m │\n",
              "└─────────────────────────────────┴────────────────────────┴───────────────┘\n"
            ],
            "text/html": [
              "<pre style=\"white-space:pre;overflow-x:auto;line-height:normal;font-family:Menlo,'DejaVu Sans Mono',consolas,'Courier New',monospace\">┏━━━━━━━━━━━━━━━━━━━━━━━━━━━━━━━━━┳━━━━━━━━━━━━━━━━━━━━━━━━┳━━━━━━━━━━━━━━━┓\n",
              "┃<span style=\"font-weight: bold\"> Layer (type)                    </span>┃<span style=\"font-weight: bold\"> Output Shape           </span>┃<span style=\"font-weight: bold\">       Param # </span>┃\n",
              "┡━━━━━━━━━━━━━━━━━━━━━━━━━━━━━━━━━╇━━━━━━━━━━━━━━━━━━━━━━━━╇━━━━━━━━━━━━━━━┩\n",
              "│ embedding_4 (<span style=\"color: #0087ff; text-decoration-color: #0087ff\">Embedding</span>)         │ (<span style=\"color: #00d7ff; text-decoration-color: #00d7ff\">None</span>, <span style=\"color: #00af00; text-decoration-color: #00af00\">100</span>, <span style=\"color: #00af00; text-decoration-color: #00af00\">16</span>)        │         <span style=\"color: #00af00; text-decoration-color: #00af00\">3,200</span> │\n",
              "├─────────────────────────────────┼────────────────────────┼───────────────┤\n",
              "│ simple_rnn_4 (<span style=\"color: #0087ff; text-decoration-color: #0087ff\">SimpleRNN</span>)        │ (<span style=\"color: #00d7ff; text-decoration-color: #00d7ff\">None</span>, <span style=\"color: #00af00; text-decoration-color: #00af00\">8</span>)              │           <span style=\"color: #00af00; text-decoration-color: #00af00\">200</span> │\n",
              "├─────────────────────────────────┼────────────────────────┼───────────────┤\n",
              "│ dense_4 (<span style=\"color: #0087ff; text-decoration-color: #0087ff\">Dense</span>)                 │ (<span style=\"color: #00d7ff; text-decoration-color: #00d7ff\">None</span>, <span style=\"color: #00af00; text-decoration-color: #00af00\">1</span>)              │             <span style=\"color: #00af00; text-decoration-color: #00af00\">9</span> │\n",
              "└─────────────────────────────────┴────────────────────────┴───────────────┘\n",
              "</pre>\n"
            ]
          },
          "metadata": {}
        },
        {
          "output_type": "display_data",
          "data": {
            "text/plain": [
              "\u001b[1m Total params: \u001b[0m\u001b[38;5;34m3,409\u001b[0m (13.32 KB)\n"
            ],
            "text/html": [
              "<pre style=\"white-space:pre;overflow-x:auto;line-height:normal;font-family:Menlo,'DejaVu Sans Mono',consolas,'Courier New',monospace\"><span style=\"font-weight: bold\"> Total params: </span><span style=\"color: #00af00; text-decoration-color: #00af00\">3,409</span> (13.32 KB)\n",
              "</pre>\n"
            ]
          },
          "metadata": {}
        },
        {
          "output_type": "display_data",
          "data": {
            "text/plain": [
              "\u001b[1m Trainable params: \u001b[0m\u001b[38;5;34m3,409\u001b[0m (13.32 KB)\n"
            ],
            "text/html": [
              "<pre style=\"white-space:pre;overflow-x:auto;line-height:normal;font-family:Menlo,'DejaVu Sans Mono',consolas,'Courier New',monospace\"><span style=\"font-weight: bold\"> Trainable params: </span><span style=\"color: #00af00; text-decoration-color: #00af00\">3,409</span> (13.32 KB)\n",
              "</pre>\n"
            ]
          },
          "metadata": {}
        },
        {
          "output_type": "display_data",
          "data": {
            "text/plain": [
              "\u001b[1m Non-trainable params: \u001b[0m\u001b[38;5;34m0\u001b[0m (0.00 B)\n"
            ],
            "text/html": [
              "<pre style=\"white-space:pre;overflow-x:auto;line-height:normal;font-family:Menlo,'DejaVu Sans Mono',consolas,'Courier New',monospace\"><span style=\"font-weight: bold\"> Non-trainable params: </span><span style=\"color: #00af00; text-decoration-color: #00af00\">0</span> (0.00 B)\n",
              "</pre>\n"
            ]
          },
          "metadata": {}
        }
      ]
    },
    {
      "cell_type": "code",
      "source": [
        "# Embedding 계층의 모델 파라미터 개수 = 단어 사전 어휘 개수 x 임베딩 출력\n",
        "200 * 16"
      ],
      "metadata": {
        "colab": {
          "base_uri": "https://localhost:8080/"
        },
        "id": "VD3y1uwmRA5I",
        "outputId": "a1fa7042-b910-4033-ecb2-7a7d858a4335"
      },
      "execution_count": 160,
      "outputs": [
        {
          "output_type": "execute_result",
          "data": {
            "text/plain": [
              "3200"
            ]
          },
          "metadata": {},
          "execution_count": 160
        }
      ]
    },
    {
      "cell_type": "code",
      "source": [
        "# SimpleRNN 모델 파라미터 개수 = (각 타임스텝의 입력값 개수 + 순환 셀 개수 + 바이어스) * 순환 셀 개수\n",
        "(16 + 8 + 1) * 8"
      ],
      "metadata": {
        "colab": {
          "base_uri": "https://localhost:8080/"
        },
        "id": "iLz5SrnoRbqt",
        "outputId": "c7ced42f-beee-436c-fbed-e36cf153667b"
      },
      "execution_count": 161,
      "outputs": [
        {
          "output_type": "execute_result",
          "data": {
            "text/plain": [
              "200"
            ]
          },
          "metadata": {},
          "execution_count": 161
        }
      ]
    },
    {
      "cell_type": "code",
      "source": [
        "# 출력층의 모델 파라미터 개수\n",
        "8 + 1"
      ],
      "metadata": {
        "colab": {
          "base_uri": "https://localhost:8080/"
        },
        "id": "Ib8X9IHYR9jb",
        "outputId": "6381e039-8b2d-4acd-c76c-9a2db467a911"
      },
      "execution_count": 162,
      "outputs": [
        {
          "output_type": "execute_result",
          "data": {
            "text/plain": [
              "9"
            ]
          },
          "metadata": {},
          "execution_count": 162
        }
      ]
    },
    {
      "cell_type": "code",
      "source": [
        "keras.utils.plot_model(rnn_1, show_shapes=True, dpi=80)"
      ],
      "metadata": {
        "colab": {
          "base_uri": "https://localhost:8080/",
          "height": 386
        },
        "id": "bGNEYthMSWqZ",
        "outputId": "2dc98f61-024c-4135-930c-67d36bec07a2"
      },
      "execution_count": 163,
      "outputs": [
        {
          "output_type": "execute_result",
          "data": {
            "image/png": "[encoded data removed]",
            "text/plain": [
              "<IPython.core.display.Image object>"
            ]
          },
          "metadata": {},
          "execution_count": 163
        }
      ]
    },
    {
      "cell_type": "code",
      "source": [
        "# 모델 컴파일\n",
        "rnn_1.compile(optimizer=keras.optimizers.Adam(),\n",
        "              loss=keras.losses.BinaryCrossentropy(),\n",
        "              metrics=[keras.metrics.binary_accuracy])"
      ],
      "metadata": {
        "id": "ZAYEqBt7bF9c"
      },
      "execution_count": 164,
      "outputs": []
    },
    {
      "cell_type": "code",
      "source": [
        "# 체크포인트, 조기종료 콜백\n",
        "checkpoint = keras.callbacks.ModelCheckpoint(filepath='rnn_1.keras',\n",
        "                                             save_best_only=True)\n",
        "\n",
        "early_stop = keras.callbacks.EarlyStopping(patience=3, restore_best_weights=True)"
      ],
      "metadata": {
        "id": "Rg2TaFTkcJKZ"
      },
      "execution_count": 165,
      "outputs": []
    },
    {
      "cell_type": "code",
      "source": [
        "#  모델 훈련\n",
        "result = rnn_1.fit(x=x_train, y=y_train, batch_size=64, callbacks=[checkpoint, early_stop],\n",
        "                   validation_data=[x_val, y_val], epochs=100)"
      ],
      "metadata": {
        "colab": {
          "base_uri": "https://localhost:8080/"
        },
        "id": "ve-tk-YTc5gg",
        "outputId": "df0812ce-dac6-442f-b7ac-11c0142d9449"
      },
      "execution_count": 166,
      "outputs": [
        {
          "output_type": "stream",
          "name": "stdout",
          "text": [
            "Epoch 1/100\n",
            "\u001b[1m313/313\u001b[0m \u001b[32m━━━━━━━━━━━━━━━━━━━━\u001b[0m\u001b[37m\u001b[0m \u001b[1m6s\u001b[0m 16ms/step - binary_accuracy: 0.5388 - loss: 0.6900 - val_binary_accuracy: 0.5590 - val_loss: 0.6846\n",
            "Epoch 2/100\n",
            "\u001b[1m313/313\u001b[0m \u001b[32m━━━━━━━━━━━━━━━━━━━━\u001b[0m\u001b[37m\u001b[0m \u001b[1m5s\u001b[0m 17ms/step - binary_accuracy: 0.6266 - loss: 0.6586 - val_binary_accuracy: 0.6538 - val_loss: 0.6303\n",
            "Epoch 3/100\n",
            "\u001b[1m313/313\u001b[0m \u001b[32m━━━━━━━━━━━━━━━━━━━━\u001b[0m\u001b[37m\u001b[0m \u001b[1m5s\u001b[0m 16ms/step - binary_accuracy: 0.6782 - loss: 0.6036 - val_binary_accuracy: 0.6876 - val_loss: 0.5936\n",
            "Epoch 4/100\n",
            "\u001b[1m313/313\u001b[0m \u001b[32m━━━━━━━━━━━━━━━━━━━━\u001b[0m\u001b[37m\u001b[0m \u001b[1m5s\u001b[0m 16ms/step - binary_accuracy: 0.6991 - loss: 0.5820 - val_binary_accuracy: 0.6814 - val_loss: 0.5912\n",
            "Epoch 5/100\n",
            "\u001b[1m313/313\u001b[0m \u001b[32m━━━━━━━━━━━━━━━━━━━━\u001b[0m\u001b[37m\u001b[0m \u001b[1m5s\u001b[0m 16ms/step - binary_accuracy: 0.7058 - loss: 0.5804 - val_binary_accuracy: 0.6936 - val_loss: 0.5872\n",
            "Epoch 6/100\n",
            "\u001b[1m313/313\u001b[0m \u001b[32m━━━━━━━━━━━━━━━━━━━━\u001b[0m\u001b[37m\u001b[0m \u001b[1m5s\u001b[0m 16ms/step - binary_accuracy: 0.7045 - loss: 0.5809 - val_binary_accuracy: 0.6988 - val_loss: 0.5874\n",
            "Epoch 7/100\n",
            "\u001b[1m313/313\u001b[0m \u001b[32m━━━━━━━━━━━━━━━━━━━━\u001b[0m\u001b[37m\u001b[0m \u001b[1m5s\u001b[0m 16ms/step - binary_accuracy: 0.7095 - loss: 0.5725 - val_binary_accuracy: 0.6910 - val_loss: 0.6027\n",
            "Epoch 8/100\n",
            "\u001b[1m313/313\u001b[0m \u001b[32m━━━━━━━━━━━━━━━━━━━━\u001b[0m\u001b[37m\u001b[0m \u001b[1m5s\u001b[0m 17ms/step - binary_accuracy: 0.7137 - loss: 0.5673 - val_binary_accuracy: 0.6800 - val_loss: 0.5956\n"
          ]
        }
      ]
    },
    {
      "cell_type": "code",
      "source": [
        "def plot_train_val_loss(history):\n",
        "    epochs = history.epoch\n",
        "    history = history.history\n",
        "    plt.plot(epochs, history['loss'], 'bo-', label='train loss')\n",
        "    plt.plot(epochs, history['val_loss'], 'ro:', label='val loss')\n",
        "    plt.xlabel('epoch')\n",
        "    plt.ylabel('loss')\n",
        "    plt.legend()\n",
        "    plt.grid()\n",
        "    plt.show()"
      ],
      "metadata": {
        "id": "MEuFDFlJdmqH"
      },
      "execution_count": 167,
      "outputs": []
    },
    {
      "cell_type": "code",
      "source": [
        "plot_train_val_loss(result)"
      ],
      "metadata": {
        "colab": {
          "base_uri": "https://localhost:8080/",
          "height": 449
        },
        "id": "PRlytWK5eKEo",
        "outputId": "cd6ef7ea-dbbc-4d7c-bcae-f8b1005659e5"
      },
      "execution_count": 168,
      "outputs": [
        {
          "output_type": "display_data",
          "data": {
            "text/plain": [
              "<Figure size 640x480 with 1 Axes>"
            ],
            "image/png": "[encoded data removed]"
          },
          "metadata": {}
        }
      ]
    },
    {
      "cell_type": "code",
      "source": [
        "# 훈련 셋 예측값\n",
        "train_predicts = rnn_1.predict(x=x_train)"
      ],
      "metadata": {
        "colab": {
          "base_uri": "https://localhost:8080/"
        },
        "id": "UVxM3qfEedjV",
        "outputId": "eaa0bbf4-9f4b-46d5-fbf1-782fd034c658"
      },
      "execution_count": 169,
      "outputs": [
        {
          "output_type": "stream",
          "name": "stdout",
          "text": [
            "\u001b[1m625/625\u001b[0m \u001b[32m━━━━━━━━━━━━━━━━━━━━\u001b[0m\u001b[37m\u001b[0m \u001b[1m2s\u001b[0m 3ms/step\n"
          ]
        }
      ]
    },
    {
      "cell_type": "code",
      "source": [
        "train_predicts[:10]"
      ],
      "metadata": {
        "colab": {
          "base_uri": "https://localhost:8080/"
        },
        "id": "DpqZ9X4QfLkU",
        "outputId": "55442e2c-64f7-4b26-c44a-3751bfe97d89"
      },
      "execution_count": 170,
      "outputs": [
        {
          "output_type": "execute_result",
          "data": {
            "text/plain": [
              "array([[0.8279982 ],\n",
              "       [0.267995  ],\n",
              "       [0.24927372],\n",
              "       [0.17204556],\n",
              "       [0.7259075 ],\n",
              "       [0.64717424],\n",
              "       [0.43839642],\n",
              "       [0.61915517],\n",
              "       [0.74214965],\n",
              "       [0.56079745]], dtype=float32)"
            ]
          },
          "metadata": {},
          "execution_count": 170
        }
      ]
    },
    {
      "cell_type": "code",
      "source": [
        "train_pred_labels = (train_predicts > 0.5).astype(int).ravel()"
      ],
      "metadata": {
        "id": "l3Rr1IkafO29"
      },
      "execution_count": 171,
      "outputs": []
    },
    {
      "cell_type": "code",
      "source": [
        "train_pred_labels[:10]"
      ],
      "metadata": {
        "colab": {
          "base_uri": "https://localhost:8080/"
        },
        "id": "opmGCS32ftbs",
        "outputId": "64f45a8f-ad4b-48bc-91c6-178d0196d617"
      },
      "execution_count": 172,
      "outputs": [
        {
          "output_type": "execute_result",
          "data": {
            "text/plain": [
              "array([1, 0, 0, 0, 1, 1, 0, 1, 1, 1])"
            ]
          },
          "metadata": {},
          "execution_count": 172
        }
      ]
    },
    {
      "cell_type": "code",
      "source": [
        "y_train[:10]"
      ],
      "metadata": {
        "colab": {
          "base_uri": "https://localhost:8080/"
        },
        "id": "78NmIS8WgXRL",
        "outputId": "7cc67cd5-2b6b-44a1-849e-b9defcb23482"
      },
      "execution_count": 173,
      "outputs": [
        {
          "output_type": "execute_result",
          "data": {
            "text/plain": [
              "array([1, 0, 1, 1, 1, 1, 0, 1, 1, 1])"
            ]
          },
          "metadata": {},
          "execution_count": 173
        }
      ]
    },
    {
      "cell_type": "code",
      "source": [
        "np.mean(train_pred_labels == y_train)"
      ],
      "metadata": {
        "colab": {
          "base_uri": "https://localhost:8080/"
        },
        "id": "3vzZwdemgAIr",
        "outputId": "7e2f9474-cfdd-4f42-d501-2428b06ce725"
      },
      "execution_count": 174,
      "outputs": [
        {
          "output_type": "execute_result",
          "data": {
            "text/plain": [
              "np.float64(0.71915)"
            ]
          },
          "metadata": {},
          "execution_count": 174
        }
      ]
    },
    {
      "cell_type": "code",
      "source": [
        "# 검증 셋 예측값\n",
        "val_predicts = rnn_1.predict(x=x_val)   # 검증 셋 예측값\n",
        "val_pred_labels = (val_predicts > 0.5).astype('int').ravel()    # 예측 레이블(타겟)\n",
        "np.mean(val_pred_labels == y_val)"
      ],
      "metadata": {
        "colab": {
          "base_uri": "https://localhost:8080/"
        },
        "id": "xsg6HY5PgbiS",
        "outputId": "ae9cd9ed-3832-4bac-e0b4-ab05606b1ae8"
      },
      "execution_count": 175,
      "outputs": [
        {
          "output_type": "stream",
          "name": "stdout",
          "text": [
            "\u001b[1m157/157\u001b[0m \u001b[32m━━━━━━━━━━━━━━━━━━━━\u001b[0m\u001b[37m\u001b[0m \u001b[1m1s\u001b[0m 3ms/step\n"
          ]
        },
        {
          "output_type": "execute_result",
          "data": {
            "text/plain": [
              "np.float64(0.6936)"
            ]
          },
          "metadata": {},
          "execution_count": 175
        }
      ]
    },
    {
      "cell_type": "markdown",
      "source": [
        "# 연습\n",
        "\n",
        "* imdb 데이터셋을 다시 로딩. 자주 사용되는 단어 500개를 사용.\n",
        "    * x_train_full의 shape = (25_000,)\n",
        "* 훈련 셋의 모든 샘플을 100개의 timestep을 갖는 시퀀스로 변환\n",
        "    * x_train_full_seq의 shape = (25_000, 100)\n",
        "* 단어 임베딩을 사용한 가장 간단한 RNN을 생성.\n",
        "    * WordEmbedding -> SimpleRNN -> Dense\n",
        "    * 단어 임베딩의 출력은 32로 설정.\n",
        "    * 순환망의 셀 개수는 32로 설정.\n",
        "    * 순환망의 dropout 비율을 0.3으로 설정.\n",
        "* 모델을 훈련하고 평가."
      ],
      "metadata": {
        "id": "Z90Cagtplquf"
      }
    },
    {
      "cell_type": "markdown",
      "source": [
        "## imdb 데이터셋 로딩"
      ],
      "metadata": {
        "id": "m9s3xkuKl5_-"
      }
    },
    {
      "cell_type": "code",
      "source": [
        "(x_train_full, y_train_full), (x_test, y_test) = keras.datasets.imdb.load_data(num_words=500)"
      ],
      "metadata": {
        "id": "v8Tz44asg8gq"
      },
      "execution_count": 176,
      "outputs": []
    },
    {
      "cell_type": "code",
      "source": [
        "print(x_train_full.shape)\n",
        "print(y_train_full.shape)\n",
        "print(x_test.shape)\n",
        "print(y_test.shape)"
      ],
      "metadata": {
        "colab": {
          "base_uri": "https://localhost:8080/"
        },
        "id": "YYvHfzlMmVKc",
        "outputId": "22e26d14-542c-4f32-9373-ccc6e2d54d98"
      },
      "execution_count": 177,
      "outputs": [
        {
          "output_type": "stream",
          "name": "stdout",
          "text": [
            "(25000,)\n",
            "(25000,)\n",
            "(25000,)\n",
            "(25000,)\n"
          ]
        }
      ]
    },
    {
      "cell_type": "markdown",
      "source": [
        "## 100개의 timestep을 갖는 시퀀스 변환"
      ],
      "metadata": {
        "id": "Rlx2Qeu4mkZs"
      }
    },
    {
      "cell_type": "code",
      "source": [
        "x_train_full_seq = keras.preprocessing.sequence.pad_sequences(sequences=x_train_full,\n",
        "                                                              maxlen=100)"
      ],
      "metadata": {
        "id": "931egAyymcg9"
      },
      "execution_count": 178,
      "outputs": []
    },
    {
      "cell_type": "code",
      "source": [
        "x_train_full_seq.shape"
      ],
      "metadata": {
        "colab": {
          "base_uri": "https://localhost:8080/"
        },
        "id": "RenOPVtHmuyO",
        "outputId": "8a2adb6c-e56a-4e67-eedf-3b24d7213146"
      },
      "execution_count": 179,
      "outputs": [
        {
          "output_type": "execute_result",
          "data": {
            "text/plain": [
              "(25000, 100)"
            ]
          },
          "metadata": {},
          "execution_count": 179
        }
      ]
    },
    {
      "cell_type": "code",
      "source": [
        "x_test_seq = keras.preprocessing.sequence.pad_sequences(sequences=x_test,\n",
        "                                                        maxlen=100)"
      ],
      "metadata": {
        "id": "rnhFXGRNmwhU"
      },
      "execution_count": 180,
      "outputs": []
    },
    {
      "cell_type": "code",
      "source": [
        "x_test_seq.shape"
      ],
      "metadata": {
        "colab": {
          "base_uri": "https://localhost:8080/"
        },
        "id": "kAyuaNqBm9vt",
        "outputId": "8e9e9f1c-bae4-4e66-801a-bb873b545075"
      },
      "execution_count": 181,
      "outputs": [
        {
          "output_type": "execute_result",
          "data": {
            "text/plain": [
              "(25000, 100)"
            ]
          },
          "metadata": {},
          "execution_count": 181
        }
      ]
    },
    {
      "cell_type": "markdown",
      "source": [
        "## 단어 임베딩을 사용한 가장 간단한 RNN 생성"
      ],
      "metadata": {
        "id": "VoooQn9BnEtV"
      }
    },
    {
      "cell_type": "code",
      "source": [
        "x_train, x_val, y_train, y_val = train_test_split(x_train_full_seq, y_train_full, test_size=0.2, stratify=y_train_full)"
      ],
      "metadata": {
        "id": "jBA4eb72m_Qr"
      },
      "execution_count": 182,
      "outputs": []
    },
    {
      "cell_type": "code",
      "source": [
        "print(x_train.shape)\n",
        "print(y_train.shape)\n",
        "print(x_val.shape)"
      ],
      "metadata": {
        "colab": {
          "base_uri": "https://localhost:8080/"
        },
        "id": "Igiz6eUGnWpk",
        "outputId": "a677599d-725a-4eaf-e8ec-14c4d95459f4"
      },
      "execution_count": 183,
      "outputs": [
        {
          "output_type": "stream",
          "name": "stdout",
          "text": [
            "(20000, 100)\n",
            "(20000,)\n",
            "(5000, 100)\n"
          ]
        }
      ]
    },
    {
      "cell_type": "code",
      "source": [
        "tf.random.set_seed(42)\n",
        "np.random.seed(42)\n",
        "\n",
        "simple_rnn = keras.Sequential(layers=[\n",
        "    keras.layers.Input(shape=(100,)),\n",
        "    keras.layers.Embedding(input_dim=500, output_dim=32),\n",
        "    keras.layers.SimpleRNN(units=32, dropout=0.3),\n",
        "    keras.layers.Dense(units=1, activation='sigmoid')\n",
        "])"
      ],
      "metadata": {
        "id": "CjYTAs2kncOF"
      },
      "execution_count": 184,
      "outputs": []
    },
    {
      "cell_type": "code",
      "source": [
        "simple_rnn.summary()"
      ],
      "metadata": {
        "colab": {
          "base_uri": "https://localhost:8080/",
          "height": 234
        },
        "id": "wMoKDj8Wn8bj",
        "outputId": "968446f1-733a-44a1-e41c-33d641406e0d"
      },
      "execution_count": 185,
      "outputs": [
        {
          "output_type": "display_data",
          "data": {
            "text/plain": [
              "\u001b[1mModel: \"sequential_5\"\u001b[0m\n"
            ],
            "text/html": [
              "<pre style=\"white-space:pre;overflow-x:auto;line-height:normal;font-family:Menlo,'DejaVu Sans Mono',consolas,'Courier New',monospace\"><span style=\"font-weight: bold\">Model: \"sequential_5\"</span>\n",
              "</pre>\n"
            ]
          },
          "metadata": {}
        },
        {
          "output_type": "display_data",
          "data": {
            "text/plain": [
              "┏━━━━━━━━━━━━━━━━━━━━━━━━━━━━━━━━━┳━━━━━━━━━━━━━━━━━━━━━━━━┳━━━━━━━━━━━━━━━┓\n",
              "┃\u001b[1m \u001b[0m\u001b[1mLayer (type)                   \u001b[0m\u001b[1m \u001b[0m┃\u001b[1m \u001b[0m\u001b[1mOutput Shape          \u001b[0m\u001b[1m \u001b[0m┃\u001b[1m \u001b[0m\u001b[1m      Param #\u001b[0m\u001b[1m \u001b[0m┃\n",
              "┡━━━━━━━━━━━━━━━━━━━━━━━━━━━━━━━━━╇━━━━━━━━━━━━━━━━━━━━━━━━╇━━━━━━━━━━━━━━━┩\n",
              "│ embedding_5 (\u001b[38;5;33mEmbedding\u001b[0m)         │ (\u001b[38;5;45mNone\u001b[0m, \u001b[38;5;34m100\u001b[0m, \u001b[38;5;34m32\u001b[0m)        │        \u001b[38;5;34m16,000\u001b[0m │\n",
              "├─────────────────────────────────┼────────────────────────┼───────────────┤\n",
              "│ simple_rnn_5 (\u001b[38;5;33mSimpleRNN\u001b[0m)        │ (\u001b[38;5;45mNone\u001b[0m, \u001b[38;5;34m32\u001b[0m)             │         \u001b[38;5;34m2,080\u001b[0m │\n",
              "├─────────────────────────────────┼────────────────────────┼───────────────┤\n",
              "│ dense_5 (\u001b[38;5;33mDense\u001b[0m)                 │ (\u001b[38;5;45mNone\u001b[0m, \u001b[38;5;34m1\u001b[0m)              │            \u001b[38;5;34m33\u001b[0m │\n",
              "└─────────────────────────────────┴────────────────────────┴───────────────┘\n"
            ],
            "text/html": [
              "<pre style=\"white-space:pre;overflow-x:auto;line-height:normal;font-family:Menlo,'DejaVu Sans Mono',consolas,'Courier New',monospace\">┏━━━━━━━━━━━━━━━━━━━━━━━━━━━━━━━━━┳━━━━━━━━━━━━━━━━━━━━━━━━┳━━━━━━━━━━━━━━━┓\n",
              "┃<span style=\"font-weight: bold\"> Layer (type)                    </span>┃<span style=\"font-weight: bold\"> Output Shape           </span>┃<span style=\"font-weight: bold\">       Param # </span>┃\n",
              "┡━━━━━━━━━━━━━━━━━━━━━━━━━━━━━━━━━╇━━━━━━━━━━━━━━━━━━━━━━━━╇━━━━━━━━━━━━━━━┩\n",
              "│ embedding_5 (<span style=\"color: #0087ff; text-decoration-color: #0087ff\">Embedding</span>)         │ (<span style=\"color: #00d7ff; text-decoration-color: #00d7ff\">None</span>, <span style=\"color: #00af00; text-decoration-color: #00af00\">100</span>, <span style=\"color: #00af00; text-decoration-color: #00af00\">32</span>)        │        <span style=\"color: #00af00; text-decoration-color: #00af00\">16,000</span> │\n",
              "├─────────────────────────────────┼────────────────────────┼───────────────┤\n",
              "│ simple_rnn_5 (<span style=\"color: #0087ff; text-decoration-color: #0087ff\">SimpleRNN</span>)        │ (<span style=\"color: #00d7ff; text-decoration-color: #00d7ff\">None</span>, <span style=\"color: #00af00; text-decoration-color: #00af00\">32</span>)             │         <span style=\"color: #00af00; text-decoration-color: #00af00\">2,080</span> │\n",
              "├─────────────────────────────────┼────────────────────────┼───────────────┤\n",
              "│ dense_5 (<span style=\"color: #0087ff; text-decoration-color: #0087ff\">Dense</span>)                 │ (<span style=\"color: #00d7ff; text-decoration-color: #00d7ff\">None</span>, <span style=\"color: #00af00; text-decoration-color: #00af00\">1</span>)              │            <span style=\"color: #00af00; text-decoration-color: #00af00\">33</span> │\n",
              "└─────────────────────────────────┴────────────────────────┴───────────────┘\n",
              "</pre>\n"
            ]
          },
          "metadata": {}
        },
        {
          "output_type": "display_data",
          "data": {
            "text/plain": [
              "\u001b[1m Total params: \u001b[0m\u001b[38;5;34m18,113\u001b[0m (70.75 KB)\n"
            ],
            "text/html": [
              "<pre style=\"white-space:pre;overflow-x:auto;line-height:normal;font-family:Menlo,'DejaVu Sans Mono',consolas,'Courier New',monospace\"><span style=\"font-weight: bold\"> Total params: </span><span style=\"color: #00af00; text-decoration-color: #00af00\">18,113</span> (70.75 KB)\n",
              "</pre>\n"
            ]
          },
          "metadata": {}
        },
        {
          "output_type": "display_data",
          "data": {
            "text/plain": [
              "\u001b[1m Trainable params: \u001b[0m\u001b[38;5;34m18,113\u001b[0m (70.75 KB)\n"
            ],
            "text/html": [
              "<pre style=\"white-space:pre;overflow-x:auto;line-height:normal;font-family:Menlo,'DejaVu Sans Mono',consolas,'Courier New',monospace\"><span style=\"font-weight: bold\"> Trainable params: </span><span style=\"color: #00af00; text-decoration-color: #00af00\">18,113</span> (70.75 KB)\n",
              "</pre>\n"
            ]
          },
          "metadata": {}
        },
        {
          "output_type": "display_data",
          "data": {
            "text/plain": [
              "\u001b[1m Non-trainable params: \u001b[0m\u001b[38;5;34m0\u001b[0m (0.00 B)\n"
            ],
            "text/html": [
              "<pre style=\"white-space:pre;overflow-x:auto;line-height:normal;font-family:Menlo,'DejaVu Sans Mono',consolas,'Courier New',monospace\"><span style=\"font-weight: bold\"> Non-trainable params: </span><span style=\"color: #00af00; text-decoration-color: #00af00\">0</span> (0.00 B)\n",
              "</pre>\n"
            ]
          },
          "metadata": {}
        }
      ]
    },
    {
      "cell_type": "code",
      "source": [
        "keras.utils.plot_model(simple_rnn, show_shapes=True, dpi=80)"
      ],
      "metadata": {
        "colab": {
          "base_uri": "https://localhost:8080/",
          "height": 386
        },
        "id": "pudRvk98oBUz",
        "outputId": "06a19fb6-5a4c-4d6b-b060-139b24ff344e"
      },
      "execution_count": 186,
      "outputs": [
        {
          "output_type": "execute_result",
          "data": {
            "image/png": "[encoded data removed]",
            "text/plain": [
              "<IPython.core.display.Image object>"
            ]
          },
          "metadata": {},
          "execution_count": 186
        }
      ]
    },
    {
      "cell_type": "markdown",
      "source": [
        "## 모델 컴파일"
      ],
      "metadata": {
        "id": "_tiZaQUioVtk"
      }
    },
    {
      "cell_type": "code",
      "source": [
        "simple_rnn.compile(optimizer=keras.optimizers.Adam(),\n",
        "                   loss=keras.losses.BinaryCrossentropy(),\n",
        "              metrics=[keras.metrics.binary_accuracy])"
      ],
      "metadata": {
        "id": "aQA9Cp7YoHmE"
      },
      "execution_count": 187,
      "outputs": []
    },
    {
      "cell_type": "code",
      "source": [
        "checkpoint = keras.callbacks.ModelCheckpoint(filepath='simple_rnn.keras', save_best_only=True)\n",
        "early_point = keras.callbacks.EarlyStopping(patience=5, restore_best_weights=True)"
      ],
      "metadata": {
        "id": "pHsbI9PhoeZi"
      },
      "execution_count": 188,
      "outputs": []
    },
    {
      "cell_type": "markdown",
      "source": [
        "## 모델 훈련"
      ],
      "metadata": {
        "id": "T7ZgfxWKpWgU"
      }
    },
    {
      "cell_type": "code",
      "source": [
        "result = simple_rnn.fit(x=x_train_full_seq, y=y_train_full, batch_size=32, epochs=100, callbacks=[checkpoint, early_point],\n",
        "               validation_data=[x_val, y_val])"
      ],
      "metadata": {
        "colab": {
          "base_uri": "https://localhost:8080/"
        },
        "id": "tc7VYVJBor9K",
        "outputId": "aaf9a1c6-c50e-47cd-9927-2467101d98c4"
      },
      "execution_count": 189,
      "outputs": [
        {
          "output_type": "stream",
          "name": "stdout",
          "text": [
            "Epoch 1/100\n",
            "\u001b[1m782/782\u001b[0m \u001b[32m━━━━━━━━━━━━━━━━━━━━\u001b[0m\u001b[37m\u001b[0m \u001b[1m15s\u001b[0m 17ms/step - binary_accuracy: 0.5417 - loss: 0.6855 - val_binary_accuracy: 0.6058 - val_loss: 0.6584\n",
            "Epoch 2/100\n",
            "\u001b[1m782/782\u001b[0m \u001b[32m━━━━━━━━━━━━━━━━━━━━\u001b[0m\u001b[37m\u001b[0m \u001b[1m13s\u001b[0m 17ms/step - binary_accuracy: 0.6341 - loss: 0.6401 - val_binary_accuracy: 0.7072 - val_loss: 0.5653\n",
            "Epoch 3/100\n",
            "\u001b[1m782/782\u001b[0m \u001b[32m━━━━━━━━━━━━━━━━━━━━\u001b[0m\u001b[37m\u001b[0m \u001b[1m14s\u001b[0m 17ms/step - binary_accuracy: 0.6359 - loss: 0.6405 - val_binary_accuracy: 0.7242 - val_loss: 0.5568\n",
            "Epoch 4/100\n",
            "\u001b[1m782/782\u001b[0m \u001b[32m━━━━━━━━━━━━━━━━━━━━\u001b[0m\u001b[37m\u001b[0m \u001b[1m14s\u001b[0m 18ms/step - binary_accuracy: 0.6787 - loss: 0.6006 - val_binary_accuracy: 0.6090 - val_loss: 0.6411\n",
            "Epoch 5/100\n",
            "\u001b[1m782/782\u001b[0m \u001b[32m━━━━━━━━━━━━━━━━━━━━\u001b[0m\u001b[37m\u001b[0m \u001b[1m15s\u001b[0m 19ms/step - binary_accuracy: 0.6735 - loss: 0.6002 - val_binary_accuracy: 0.7448 - val_loss: 0.5299\n",
            "Epoch 6/100\n",
            "\u001b[1m782/782\u001b[0m \u001b[32m━━━━━━━━━━━━━━━━━━━━\u001b[0m\u001b[37m\u001b[0m \u001b[1m15s\u001b[0m 19ms/step - binary_accuracy: 0.7123 - loss: 0.5616 - val_binary_accuracy: 0.6960 - val_loss: 0.6562\n",
            "Epoch 7/100\n",
            "\u001b[1m782/782\u001b[0m \u001b[32m━━━━━━━━━━━━━━━━━━━━\u001b[0m\u001b[37m\u001b[0m \u001b[1m15s\u001b[0m 19ms/step - binary_accuracy: 0.7308 - loss: 0.5549 - val_binary_accuracy: 0.6250 - val_loss: 0.6354\n",
            "Epoch 8/100\n",
            "\u001b[1m782/782\u001b[0m \u001b[32m━━━━━━━━━━━━━━━━━━━━\u001b[0m\u001b[37m\u001b[0m \u001b[1m15s\u001b[0m 19ms/step - binary_accuracy: 0.6828 - loss: 0.5954 - val_binary_accuracy: 0.6832 - val_loss: 0.5868\n",
            "Epoch 9/100\n",
            "\u001b[1m782/782\u001b[0m \u001b[32m━━━━━━━━━━━━━━━━━━━━\u001b[0m\u001b[37m\u001b[0m \u001b[1m15s\u001b[0m 19ms/step - binary_accuracy: 0.7154 - loss: 0.5595 - val_binary_accuracy: 0.7462 - val_loss: 0.5227\n",
            "Epoch 10/100\n",
            "\u001b[1m782/782\u001b[0m \u001b[32m━━━━━━━━━━━━━━━━━━━━\u001b[0m\u001b[37m\u001b[0m \u001b[1m13s\u001b[0m 17ms/step - binary_accuracy: 0.7300 - loss: 0.5407 - val_binary_accuracy: 0.7646 - val_loss: 0.4990\n",
            "Epoch 11/100\n",
            "\u001b[1m782/782\u001b[0m \u001b[32m━━━━━━━━━━━━━━━━━━━━\u001b[0m\u001b[37m\u001b[0m \u001b[1m14s\u001b[0m 18ms/step - binary_accuracy: 0.7427 - loss: 0.5349 - val_binary_accuracy: 0.6890 - val_loss: 0.5818\n",
            "Epoch 12/100\n",
            "\u001b[1m782/782\u001b[0m \u001b[32m━━━━━━━━━━━━━━━━━━━━\u001b[0m\u001b[37m\u001b[0m \u001b[1m13s\u001b[0m 17ms/step - binary_accuracy: 0.6786 - loss: 0.5900 - val_binary_accuracy: 0.6220 - val_loss: 0.6429\n",
            "Epoch 13/100\n",
            "\u001b[1m782/782\u001b[0m \u001b[32m━━━━━━━━━━━━━━━━━━━━\u001b[0m\u001b[37m\u001b[0m \u001b[1m14s\u001b[0m 18ms/step - binary_accuracy: 0.6414 - loss: 0.6248 - val_binary_accuracy: 0.7080 - val_loss: 0.5683\n",
            "Epoch 14/100\n",
            "\u001b[1m782/782\u001b[0m \u001b[32m━━━━━━━━━━━━━━━━━━━━\u001b[0m\u001b[37m\u001b[0m \u001b[1m14s\u001b[0m 18ms/step - binary_accuracy: 0.7309 - loss: 0.5470 - val_binary_accuracy: 0.7454 - val_loss: 0.5204\n",
            "Epoch 15/100\n",
            "\u001b[1m782/782\u001b[0m \u001b[32m━━━━━━━━━━━━━━━━━━━━\u001b[0m\u001b[37m\u001b[0m \u001b[1m14s\u001b[0m 18ms/step - binary_accuracy: 0.7263 - loss: 0.5529 - val_binary_accuracy: 0.7264 - val_loss: 0.5456\n"
          ]
        }
      ]
    },
    {
      "cell_type": "markdown",
      "source": [
        "## 결과 시각화"
      ],
      "metadata": {
        "id": "lawSHtERpb5k"
      }
    },
    {
      "cell_type": "code",
      "source": [
        "epochs = result.epoch\n",
        "history = result.history\n",
        "plt.plot(epochs, history['loss'], 'bo-', label='train loss')\n",
        "plt.plot(epochs, history['val_loss'], 'ro:', label='val_loss')\n",
        "plt.xlabel('epoch')\n",
        "plt.ylabel('loss')\n",
        "plt.legend()\n",
        "plt.grid()\n",
        "plt.show()"
      ],
      "metadata": {
        "colab": {
          "base_uri": "https://localhost:8080/",
          "height": 449
        },
        "id": "_p883x5iphWG",
        "outputId": "8847cbb3-4006-4ebd-e297-f4a1e340a886"
      },
      "execution_count": 190,
      "outputs": [
        {
          "output_type": "display_data",
          "data": {
            "text/plain": [
              "<Figure size 640x480 with 1 Axes>"
            ],
            "image/png": "[encoded data removed]"
          },
          "metadata": {}
        }
      ]
    },
    {
      "cell_type": "markdown",
      "source": [
        "## 훈련 셋 예측값"
      ],
      "metadata": {
        "id": "1KTOcGj2p57S"
      }
    },
    {
      "cell_type": "code",
      "source": [
        "train_predicts = simple_rnn.predict(x=x_train)\n",
        "train_pred_labels = (train_predicts > 0.5).astype('int').ravel()\n",
        "np.mean(train_pred_labels == y_train)"
      ],
      "metadata": {
        "colab": {
          "base_uri": "https://localhost:8080/"
        },
        "id": "gB_CX5ifp7Qu",
        "outputId": "7dbf566a-225a-4499-dae7-8528e0949e88"
      },
      "execution_count": 192,
      "outputs": [
        {
          "output_type": "stream",
          "name": "stdout",
          "text": [
            "\u001b[1m625/625\u001b[0m \u001b[32m━━━━━━━━━━━━━━━━━━━━\u001b[0m\u001b[37m\u001b[0m \u001b[1m3s\u001b[0m 5ms/step\n"
          ]
        },
        {
          "output_type": "execute_result",
          "data": {
            "text/plain": [
              "np.float64(0.77495)"
            ]
          },
          "metadata": {},
          "execution_count": 192
        }
      ]
    },
    {
      "cell_type": "markdown",
      "source": [
        "## 검증 셋 예측값"
      ],
      "metadata": {
        "id": "Ms1lzmAnqLbK"
      }
    },
    {
      "cell_type": "code",
      "source": [
        "val_predicts = simple_rnn.predict(x=x_val)\n",
        "val_pred_labels = (val_predicts > 0.5).astype('int').ravel()\n",
        "np.mean(val_pred_labels == y_val)"
      ],
      "metadata": {
        "colab": {
          "base_uri": "https://localhost:8080/"
        },
        "id": "7HldxSvMqMkz",
        "outputId": "8e3db873-03c4-43d0-ed80-abf74ad215a1"
      },
      "execution_count": 193,
      "outputs": [
        {
          "output_type": "stream",
          "name": "stdout",
          "text": [
            "\u001b[1m157/157\u001b[0m \u001b[32m━━━━━━━━━━━━━━━━━━━━\u001b[0m\u001b[37m\u001b[0m \u001b[1m1s\u001b[0m 6ms/step\n"
          ]
        },
        {
          "output_type": "execute_result",
          "data": {
            "text/plain": [
              "np.float64(0.7646)"
            ]
          },
          "metadata": {},
          "execution_count": 193
        }
      ]
    }
  ]
}