{
  "nbformat": 4,
  "nbformat_minor": 0,
  "metadata": {
    "colab": {
      "provenance": [],
      "toc_visible": true,
      "include_colab_link": true
    },
    "kernelspec": {
      "name": "python3",
      "display_name": "Python 3"
    },
    "language_info": {
      "name": "python"
    }
  },
  "cells": [
    {
      "cell_type": "markdown",
      "metadata": {
        "id": "view-in-github",
        "colab_type": "text"
      },
      "source": [
        "<a href=\"https://colab.research.google.com/github/Sjleerodls/Data_Analysis/blob/main/lab_da/da06_eda.ipynb\" target=\"_parent\"><img src=\"https://colab.research.google.com/assets/colab-badge.svg\" alt=\"Open In Colab\"/></a>"
      ]
    },
    {
      "cell_type": "markdown",
      "source": [
        "# EDA(Exploratory Data Analysis)\n",
        "\n",
        "탐색적 데이터 분석: 그래프나 통계적인 방법으로 자료를 분석하는 과정."
      ],
      "metadata": {
        "id": "m8xdqlzLylXy"
      }
    },
    {
      "cell_type": "markdown",
      "source": [
        "# 필요한 모듈 import"
      ],
      "metadata": {
        "id": "QgTSMYHpyRjr"
      }
    },
    {
      "cell_type": "code",
      "source": [
        "import seaborn as sns"
      ],
      "metadata": {
        "id": "cthtmjnz2LtE"
      },
      "execution_count": 1,
      "outputs": []
    },
    {
      "cell_type": "markdown",
      "source": [
        "# Ex 1. iris 데이터셋\n",
        "\n",
        "*   seaborn 패키지의  iris 데이터셋을 로드\n",
        "*   iris 데이터 탐색 - 데이터프레임 일부 출력, 요약 정보, 기술 통계량, 카테고리 타입 변수 빈도수\n",
        "*   숫자 타입 변수(컬럼)들의 box plot\n",
        "*   숫자 타입 변수(컬럼)들의 평균 막대 그래프\n",
        "*   품종별 모든 연속형 변수들의 box plot\n",
        "*   품종별 모든 연속형 변수들의 평균 막대 그래프\n",
        "*   petal_width ~ petal_length 산점도. 품종별로 색깔을 다르게 시각화\n",
        "*   모든 연속형 변수들 간의 상관관계(산점도). Hint: `pairplot()`\n"
      ],
      "metadata": {
        "id": "KB5WYurPyUYi"
      }
    },
    {
      "cell_type": "markdown",
      "source": [
        "# Ex 2. mpg 데이터셋\n",
        "\n",
        "*   seaborn 패키지의 예제 데이터 셋 'mpg'를 로드해서 DataFrame 생성\n",
        "*   DataFrame 탐색 - 출력, 요약 정보, 숫자 타입 기술 통계량, 카테고리 타입 빈도수\n",
        "*   산점도\n",
        "    *   mpg(연비) ~ displacement(배기량)\n",
        "    *   2x2 모양의 subplot을 생성\n",
        "        *   mpg ~ cylinders(실린더 개수)\n",
        "        *   mpg ~ horsepower(마력)\n",
        "        *   mpg ~ weight(무게)\n",
        "        *   mpg ~ acceleration(가속도)\n",
        "*   빈도수 막대 그래프\n",
        "    *   cyliners 빈도수\n",
        "    *   origin(자동차 생산 지역) 빈도수\n",
        "    *   model_year(자동차 생산 연도) 빈도수\n",
        "        *   선 그래프 가능?\n",
        "    *   origin 별, cylinders 별 빈도수\n",
        "*   통계량 막대 그래프 - 2개의 subplot 생성\n",
        "    *   cylinders 별 mpg의 중앙값(median)\n",
        "    *   origin 별 mpg의 중앙값\n",
        "\n",
        "*   Box plot\n",
        "    *   3개의 subplot을 생성\n",
        "        *   mpg, displacement, weight box plot\n",
        "    *   origin 별 mpg box plot\n",
        "*   Histogram\n",
        "    *   4개의 subplot을 생성\n",
        "        *   mpg, displacement, weight, model_year histogram\n",
        "*   Pair plot"
      ],
      "metadata": {
        "id": "baOO3VoezUtK"
      }
    }
  ]
}