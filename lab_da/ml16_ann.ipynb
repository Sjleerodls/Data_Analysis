{
  "nbformat": 4,
  "nbformat_minor": 0,
  "metadata": {
    "colab": {
      "provenance": [],
      "toc_visible": true,
      "authorship_tag": "ABX9TyMUjqBkdgGMDW0yg6F2oBe9",
      "include_colab_link": true
    },
    "kernelspec": {
      "name": "python3",
      "display_name": "Python 3"
    },
    "language_info": {
      "name": "python"
    }
  },
  "cells": [
    {
      "cell_type": "markdown",
      "metadata": {
        "id": "view-in-github",
        "colab_type": "text"
      },
      "source": [
        "<a href=\"https://colab.research.google.com/github/Sjleerodls/Data_Analysis/blob/main/lab_da/ml16_ann.ipynb\" target=\"_parent\"><img src=\"https://colab.research.google.com/assets/colab-badge.svg\" alt=\"Open In Colab\"/></a>"
      ]
    },
    {
      "cell_type": "markdown",
      "source": [
        "# Artificial Neural Network (인공 신경망)"
      ],
      "metadata": {
        "id": "UcSmHMjgWP6t"
      }
    },
    {
      "cell_type": "markdown",
      "source": [
        "# Imports"
      ],
      "metadata": {
        "id": "l5PpXEjsWwnt"
      }
    },
    {
      "cell_type": "code",
      "execution_count": null,
      "metadata": {
        "id": "rWoHcPp8WIyP"
      },
      "outputs": [],
      "source": [
        "import numpy as np\n",
        "import matplotlib.pyplot as plt\n",
        "\n",
        "from sklearn import datasets\n",
        "from sklearn.linear_model import SGDClassifier\n",
        "from sklearn.model_selection import cross_validate, train_test_split\n",
        "from sklearn.metrics import accuracy_score"
      ]
    },
    {
      "cell_type": "markdown",
      "source": [
        "# Iris 데이터 셋"
      ],
      "metadata": {
        "id": "46DnJZZ6XRrk"
      }
    },
    {
      "cell_type": "code",
      "source": [
        "data, target = datasets.load_iris(return_X_y=True)"
      ],
      "metadata": {
        "id": "xqAr_l2RXKBv"
      },
      "execution_count": null,
      "outputs": []
    },
    {
      "cell_type": "markdown",
      "source": [
        "## 이진 분류\n",
        "\n",
        "* 0(setosa)과 0이 아닌(versicolor, virginica) 클래스 분류\n",
        "* 2개의 특성만 사용."
      ],
      "metadata": {
        "id": "G_QD6JWkYAM8"
      }
    },
    {
      "cell_type": "code",
      "source": [
        "X = data[:, :2]     # data에서 행은 모두 선택, 열은 첫 2개만 선택.\n",
        "X.shape"
      ],
      "metadata": {
        "colab": {
          "base_uri": "https://localhost:8080/"
        },
        "id": "AkpLRFTsXl-Y",
        "outputId": "f95c5d07-279f-4ff6-f590-321818f577f6"
      },
      "execution_count": 7,
      "outputs": [
        {
          "output_type": "execute_result",
          "data": {
            "text/plain": [
              "(150, 2)"
            ]
          },
          "metadata": {},
          "execution_count": 7
        }
      ]
    },
    {
      "cell_type": "code",
      "source": [
        "y = (target == 0).astype('int')\n",
        "y   # 0 -> 0, 1 & 2 -> 1 변환."
      ],
      "metadata": {
        "id": "2UmXaxySXsqF",
        "colab": {
          "base_uri": "https://localhost:8080/"
        },
        "outputId": "5cb5e5be-1722-4eb3-e5bf-8a3244615e5f"
      },
      "execution_count": 10,
      "outputs": [
        {
          "output_type": "execute_result",
          "data": {
            "text/plain": [
              "array([1, 1, 1, 1, 1, 1, 1, 1, 1, 1, 1, 1, 1, 1, 1, 1, 1, 1, 1, 1, 1, 1,\n",
              "       1, 1, 1, 1, 1, 1, 1, 1, 1, 1, 1, 1, 1, 1, 1, 1, 1, 1, 1, 1, 1, 1,\n",
              "       1, 1, 1, 1, 1, 1, 0, 0, 0, 0, 0, 0, 0, 0, 0, 0, 0, 0, 0, 0, 0, 0,\n",
              "       0, 0, 0, 0, 0, 0, 0, 0, 0, 0, 0, 0, 0, 0, 0, 0, 0, 0, 0, 0, 0, 0,\n",
              "       0, 0, 0, 0, 0, 0, 0, 0, 0, 0, 0, 0, 0, 0, 0, 0, 0, 0, 0, 0, 0, 0,\n",
              "       0, 0, 0, 0, 0, 0, 0, 0, 0, 0, 0, 0, 0, 0, 0, 0, 0, 0, 0, 0, 0, 0,\n",
              "       0, 0, 0, 0, 0, 0, 0, 0, 0, 0, 0, 0, 0, 0, 0, 0, 0, 0])"
            ]
          },
          "metadata": {},
          "execution_count": 10
        }
      ]
    },
    {
      "cell_type": "markdown",
      "source": [
        "## SGD Classifier"
      ],
      "metadata": {
        "id": "qdvQnVhsZ52E"
      }
    },
    {
      "cell_type": "code",
      "source": [
        "# Logistic  손실 함수를 최소화하는 확률적 경사 하강법 분류 모델을 생성.\n",
        "# 최대 epoch(반복 횟수)를 10회로 설정.\n",
        "sgd = SGDClassifier(loss='log_loss', max_iter = 10, n_jobs=-1, random_state=42)"
      ],
      "metadata": {
        "id": "pGE0Mf4uY011"
      },
      "execution_count": null,
      "outputs": []
    }
  ]
}